{
 "cells": [
  {
   "cell_type": "markdown",
   "metadata": {},
   "source": [
    "# Jupyter\n",
    "\n",
    "![jupyter](images/jupyter-logo.png)"
   ]
  },
  {
   "cell_type": "markdown",
   "metadata": {
    "slideshow": {
     "slide_type": "slide"
    }
   },
   "source": [
    "## Launch Jupyter server\n",
    "\n",
    "```bash\n",
    "jupyter notebook\n",
    "```\n",
    "\n",
    "\n",
    "- Go to notebooks folder\n",
    "- Open the file 03.JupyterQuickStart.ipynb"
   ]
  },
  {
   "cell_type": "markdown",
   "metadata": {
    "slideshow": {
     "slide_type": "fragment"
    }
   },
   "source": [
    "## Make a Copy\n",
    "\n",
    "Before modifying the notebook, make a copy of it. Go to to `File` menu\n",
    "on the top left of the notebook and click on `Make a Copy...`"
   ]
  },
  {
   "cell_type": "markdown",
   "metadata": {
    "slideshow": {
     "slide_type": "slide"
    }
   },
   "source": [
    "## Jupyter Notebook\n",
    "\n",
    "Jupyter notebook, formerly known as the IPython notebook, is a flexible tool that helps you create readable analyses, as you can keep code, images, comments, formulae and plots together.\n",
    "\n",
    "Jupyter is quite extensible, supports many programming languages and is easily hosted on your computer or on almost any server — you only need to have ssh or http access. Best of all, it's completely free.\n",
    "\n",
    "The name Jupyter is an indirect acronyum of the three core languages it was designed for: **JU**lia, **PYT**hon, and **R**"
   ]
  },
  {
   "cell_type": "markdown",
   "metadata": {
    "slideshow": {
     "slide_type": "slide"
    }
   },
   "source": [
    "## Keyboard Shortcuts\n",
    "\n",
    "- To access keyboard shortcuts, use the command palette: `Cmd + Shift + P`\n",
    "\n",
    "- `Esc` will take you into command mode where you can navigate around your notebook with arrow keys.\n",
    "- While in command mode:\n",
    "   - A to insert a new cell above the current cell, B to insert a new cell below.\n",
    "   - M to change the current cell to Markdown, Y to change it back to code\n",
    "   - D + D (press the key twice) to delete the current cell\n",
    "\n"
   ]
  },
  {
   "cell_type": "markdown",
   "metadata": {
    "slideshow": {
     "slide_type": "slide"
    }
   },
   "source": [
    "## Easy links to documentation\n",
    "\n",
    "- Shift + Tab will also show you the Docstring"
   ]
  },
  {
   "cell_type": "code",
   "execution_count": 1,
   "metadata": {
    "slideshow": {
     "slide_type": "fragment"
    }
   },
   "outputs": [
    {
     "data": {
      "text/plain": [
       "dict"
      ]
     },
     "execution_count": 1,
     "metadata": {},
     "output_type": "execute_result"
    }
   ],
   "source": [
    "dict"
   ]
  },
  {
   "cell_type": "markdown",
   "metadata": {
    "slideshow": {
     "slide_type": "slide"
    }
   },
   "source": [
    "## Magic commands\n",
    "\n"
   ]
  },
  {
   "cell_type": "code",
   "execution_count": 2,
   "metadata": {
    "slideshow": {
     "slide_type": "fragment"
    }
   },
   "outputs": [
    {
     "data": {
      "application/json": {
       "cell": {
        "!": "OSMagics",
        "HTML": "Other",
        "SVG": "Other",
        "bash": "Other",
        "capture": "ExecutionMagics",
        "debug": "ExecutionMagics",
        "file": "Other",
        "html": "DisplayMagics",
        "javascript": "DisplayMagics",
        "js": "DisplayMagics",
        "latex": "DisplayMagics",
        "markdown": "DisplayMagics",
        "perl": "Other",
        "prun": "ExecutionMagics",
        "pypy": "Other",
        "python": "Other",
        "python2": "Other",
        "python3": "Other",
        "ruby": "Other",
        "script": "ScriptMagics",
        "sh": "Other",
        "svg": "DisplayMagics",
        "sx": "OSMagics",
        "system": "OSMagics",
        "time": "ExecutionMagics",
        "timeit": "ExecutionMagics",
        "writefile": "OSMagics"
       },
       "line": {
        "alias": "OSMagics",
        "alias_magic": "BasicMagics",
        "autoawait": "AsyncMagics",
        "autocall": "AutoMagics",
        "automagic": "AutoMagics",
        "autosave": "KernelMagics",
        "bookmark": "OSMagics",
        "cat": "Other",
        "cd": "OSMagics",
        "clear": "KernelMagics",
        "colors": "BasicMagics",
        "conda": "PackagingMagics",
        "config": "ConfigMagics",
        "connect_info": "KernelMagics",
        "cp": "Other",
        "debug": "ExecutionMagics",
        "dhist": "OSMagics",
        "dirs": "OSMagics",
        "doctest_mode": "BasicMagics",
        "ed": "Other",
        "edit": "KernelMagics",
        "env": "OSMagics",
        "gui": "BasicMagics",
        "hist": "Other",
        "history": "HistoryMagics",
        "killbgscripts": "ScriptMagics",
        "ldir": "Other",
        "less": "KernelMagics",
        "lf": "Other",
        "lk": "Other",
        "ll": "Other",
        "load": "CodeMagics",
        "load_ext": "ExtensionMagics",
        "loadpy": "CodeMagics",
        "logoff": "LoggingMagics",
        "logon": "LoggingMagics",
        "logstart": "LoggingMagics",
        "logstate": "LoggingMagics",
        "logstop": "LoggingMagics",
        "ls": "Other",
        "lsmagic": "BasicMagics",
        "lx": "Other",
        "macro": "ExecutionMagics",
        "magic": "BasicMagics",
        "man": "KernelMagics",
        "matplotlib": "PylabMagics",
        "mkdir": "Other",
        "more": "KernelMagics",
        "mv": "Other",
        "notebook": "BasicMagics",
        "page": "BasicMagics",
        "pastebin": "CodeMagics",
        "pdb": "ExecutionMagics",
        "pdef": "NamespaceMagics",
        "pdoc": "NamespaceMagics",
        "pfile": "NamespaceMagics",
        "pinfo": "NamespaceMagics",
        "pinfo2": "NamespaceMagics",
        "pip": "PackagingMagics",
        "popd": "OSMagics",
        "pprint": "BasicMagics",
        "precision": "BasicMagics",
        "prun": "ExecutionMagics",
        "psearch": "NamespaceMagics",
        "psource": "NamespaceMagics",
        "pushd": "OSMagics",
        "pwd": "OSMagics",
        "pycat": "OSMagics",
        "pylab": "PylabMagics",
        "qtconsole": "KernelMagics",
        "quickref": "BasicMagics",
        "recall": "HistoryMagics",
        "rehashx": "OSMagics",
        "reload_ext": "ExtensionMagics",
        "rep": "Other",
        "rerun": "HistoryMagics",
        "reset": "NamespaceMagics",
        "reset_selective": "NamespaceMagics",
        "rm": "Other",
        "rmdir": "Other",
        "run": "ExecutionMagics",
        "save": "CodeMagics",
        "sc": "OSMagics",
        "set_env": "OSMagics",
        "store": "StoreMagics",
        "sx": "OSMagics",
        "system": "OSMagics",
        "tb": "ExecutionMagics",
        "time": "ExecutionMagics",
        "timeit": "ExecutionMagics",
        "unalias": "OSMagics",
        "unload_ext": "ExtensionMagics",
        "who": "NamespaceMagics",
        "who_ls": "NamespaceMagics",
        "whos": "NamespaceMagics",
        "xdel": "NamespaceMagics",
        "xmode": "BasicMagics"
       }
      },
      "text/plain": [
       "Available line magics:\n",
       "%alias  %alias_magic  %autoawait  %autocall  %automagic  %autosave  %bookmark  %cat  %cd  %clear  %colors  %conda  %config  %connect_info  %cp  %debug  %dhist  %dirs  %doctest_mode  %ed  %edit  %env  %gui  %hist  %history  %killbgscripts  %ldir  %less  %lf  %lk  %ll  %load  %load_ext  %loadpy  %logoff  %logon  %logstart  %logstate  %logstop  %ls  %lsmagic  %lx  %macro  %magic  %man  %matplotlib  %mkdir  %more  %mv  %notebook  %page  %pastebin  %pdb  %pdef  %pdoc  %pfile  %pinfo  %pinfo2  %pip  %popd  %pprint  %precision  %prun  %psearch  %psource  %pushd  %pwd  %pycat  %pylab  %qtconsole  %quickref  %recall  %rehashx  %reload_ext  %rep  %rerun  %reset  %reset_selective  %rm  %rmdir  %run  %save  %sc  %set_env  %store  %sx  %system  %tb  %time  %timeit  %unalias  %unload_ext  %who  %who_ls  %whos  %xdel  %xmode\n",
       "\n",
       "Available cell magics:\n",
       "%%!  %%HTML  %%SVG  %%bash  %%capture  %%debug  %%file  %%html  %%javascript  %%js  %%latex  %%markdown  %%perl  %%prun  %%pypy  %%python  %%python2  %%python3  %%ruby  %%script  %%sh  %%svg  %%sx  %%system  %%time  %%timeit  %%writefile\n",
       "\n",
       "Automagic is ON, % prefix IS NOT needed for line magics."
      ]
     },
     "execution_count": 2,
     "metadata": {},
     "output_type": "execute_result"
    }
   ],
   "source": [
    "%lsmagic"
   ]
  },
  {
   "cell_type": "code",
   "execution_count": 3,
   "metadata": {
    "slideshow": {
     "slide_type": "slide"
    }
   },
   "outputs": [
    {
     "name": "stdout",
     "output_type": "stream",
     "text": [
      "01-Installation.ipynb            book-057.dat\r\n",
      "02-GitBasics.ipynb               book-058.dat\r\n",
      "03-JupyterQuickStart.ipynb       book-059.dat\r\n",
      "04-WordCount.ipynb               book-060.dat\r\n",
      "05-MapReduce.ipynb               book-061.dat\r\n",
      "06-ParallelComputation.ipynb     book-062.dat\r\n",
      "07-AsynchronousProcessing.ipynb  book-063.dat\r\n",
      "08-DaskDelayed.ipynb             book-064.dat\r\n",
      "09-DaskBag.ipynb                 book-065.dat\r\n",
      "10-PandasSeries.ipynb            book-066.dat\r\n",
      "11-PandaDataframes.ipynb         book-067.dat\r\n",
      "12-PySpark.ipynb                 book-068.dat\r\n",
      "13-UnixCommands.ipynb            book-069.dat\r\n",
      "14-Hadoop.ipynb                  book-070.dat\r\n",
      "15-HadoopFileFormats.ipynb       book-071.dat\r\n",
      "16-DaskDataframes.ipynb          book-072.dat\r\n",
      "17-SparkDataFrames.ipynb         book-073.dat\r\n",
      "18-NYCTaxiCabTripDask.ipynb      book-074.dat\r\n",
      "19-NYCTaxiCabTripSpark.ipynb     book-075.dat\r\n",
      "Makefile                         book-076.dat\r\n",
      "book-000.dat                     book-077.dat\r\n",
      "book-001.dat                     book-078.dat\r\n",
      "book-002.dat                     book-079.dat\r\n",
      "book-003.dat                     book-080.dat\r\n",
      "book-004.dat                     book-081.dat\r\n",
      "book-005.dat                     book-082.dat\r\n",
      "book-006.dat                     book-083.dat\r\n",
      "book-007.dat                     book-084.dat\r\n",
      "book-008.dat                     book-085.dat\r\n",
      "book-009.dat                     book-086.dat\r\n",
      "book-010.dat                     book-087.dat\r\n",
      "book-011.dat                     book-088.dat\r\n",
      "book-012.dat                     book-089.dat\r\n",
      "book-013.dat                     book-090.dat\r\n",
      "book-014.dat                     book-091.dat\r\n",
      "book-015.dat                     book-092.dat\r\n",
      "book-016.dat                     book-093.dat\r\n",
      "book-017.dat                     book-094.dat\r\n",
      "book-018.dat                     book-095.dat\r\n",
      "book-019.dat                     book-096.dat\r\n",
      "book-020.dat                     book-097.dat\r\n",
      "book-021.dat                     book-098.dat\r\n",
      "book-022.dat                     book-099.dat\r\n",
      "book-023.dat                     \u001b[34mdata\u001b[m\u001b[m/\r\n",
      "book-024.dat                     example.parquet\r\n",
      "book-025.dat                     fibonacci.py\r\n",
      "book-026.dat                     \u001b[34mimages\u001b[m\u001b[m/\r\n",
      "book-027.dat                     log\r\n",
      "book-028.dat                     \u001b[31mmapper.py\u001b[m\u001b[m*\r\n",
      "book-029.dat                     mydask.png\r\n",
      "book-030.dat                     \u001b[34mnycflights\u001b[m\u001b[m/\r\n",
      "book-031.dat                     pmap.py\r\n",
      "book-032.dat                     \u001b[31mreducer.py\u001b[m\u001b[m*\r\n",
      "book-033.dat                     sample.txt\r\n",
      "book-034.dat                     sample00.txt\r\n",
      "book-035.dat                     sample01.txt\r\n",
      "book-036.dat                     sample02.txt\r\n",
      "book-037.dat                     sample03.txt\r\n",
      "book-038.dat                     sample04.txt\r\n",
      "book-039.dat                     sample05.txt\r\n",
      "book-040.dat                     sample06.txt\r\n",
      "book-041.dat                     sample07.txt\r\n",
      "book-042.dat                     sample08.txt\r\n",
      "book-043.dat                     sample09.txt\r\n",
      "book-044.dat                     sample10.txt\r\n",
      "book-045.dat                     sample11.txt\r\n",
      "book-046.dat                     sample12.txt\r\n",
      "book-047.dat                     sample13.txt\r\n",
      "book-048.dat                     sample14.txt\r\n",
      "book-049.dat                     sample15.txt\r\n",
      "book-050.dat                     sample16.txt\r\n",
      "book-051.dat                     sample17.txt\r\n",
      "book-052.dat                     sample18.txt\r\n",
      "book-053.dat                     sample19.txt\r\n",
      "book-054.dat                     test.feather\r\n",
      "book-055.dat                     test_stdin.py\r\n",
      "book-056.dat\r\n"
     ]
    }
   ],
   "source": [
    "%ls *.ipynb"
   ]
  },
  {
   "cell_type": "code",
   "execution_count": 4,
   "metadata": {
    "slideshow": {
     "slide_type": "slide"
    }
   },
   "outputs": [
    {
     "name": "stdout",
     "output_type": "stream",
     "text": [
      "Overwriting sample.txt\n"
     ]
    }
   ],
   "source": [
    "%%file sample.txt\n",
    "\n",
    "write the cell content to the file sample.txt.\n",
    "The file is created when you run this cell."
   ]
  },
  {
   "cell_type": "code",
   "execution_count": 5,
   "metadata": {
    "slideshow": {
     "slide_type": "fragment"
    }
   },
   "outputs": [
    {
     "name": "stdout",
     "output_type": "stream",
     "text": [
      "\r\n",
      "write the cell content to the file sample.txt.\r\n",
      "The file is created when you run this cell.\r\n"
     ]
    }
   ],
   "source": [
    "%cat sample.txt"
   ]
  },
  {
   "cell_type": "code",
   "execution_count": 6,
   "metadata": {
    "slideshow": {
     "slide_type": "slide"
    }
   },
   "outputs": [
    {
     "name": "stdout",
     "output_type": "stream",
     "text": [
      "Overwriting fibonacci.py\n"
     ]
    }
   ],
   "source": [
    "%%file fibonacci.py\n",
    "\n",
    "f1, f2 = 1, 1\n",
    "for n in range(10):\n",
    "    print(f1, end=',')\n",
    "    f1, f2 = f2, f1+f2"
   ]
  },
  {
   "cell_type": "code",
   "execution_count": 7,
   "metadata": {
    "slideshow": {
     "slide_type": "fragment"
    }
   },
   "outputs": [
    {
     "name": "stdout",
     "output_type": "stream",
     "text": [
      "1,1,2,3,5,8,13,21,34,55,"
     ]
    }
   ],
   "source": [
    "%run fibonacci.py"
   ]
  },
  {
   "cell_type": "code",
   "execution_count": 8,
   "metadata": {
    "slideshow": {
     "slide_type": "slide"
    }
   },
   "outputs": [
    {
     "name": "stdout",
     "output_type": "stream",
     "text": [
      "1,1,2,3,5,8,13,21,34,55,"
     ]
    }
   ],
   "source": [
    "# %load fibonacci.py\n",
    "\n",
    "f1, f2 = 1, 1\n",
    "for n in range(10):\n",
    "    print(f1, end=',')\n",
    "    f1, f2 = f2, f1+f2"
   ]
  },
  {
   "cell_type": "code",
   "execution_count": 9,
   "metadata": {
    "slideshow": {
     "slide_type": "fragment"
    }
   },
   "outputs": [
    {
     "name": "stdout",
     "output_type": "stream",
     "text": [
      "1,1,2,3,5,8,13,21,34,55,\n",
      "CPU times: user 399 µs, sys: 183 µs, total: 582 µs\n",
      "Wall time: 492 µs\n"
     ]
    }
   ],
   "source": [
    "%%time\n",
    "f1, f2 = 1, 1\n",
    "for n in range(10):\n",
    "    print(f1, end=',')\n",
    "    f1, f2 = f2, f1+f2\n",
    "print()"
   ]
  },
  {
   "cell_type": "markdown",
   "metadata": {
    "slideshow": {
     "slide_type": "slide"
    }
   },
   "source": [
    "## Installing Python Packages from a Jupyter Notebook\n",
    "\n",
    "### Install a conda package in the current Jupyter kernel\n",
    "\n",
    "Example with package `numpy` from *conda-forge*\n",
    "\n",
    "```\n",
    "%conda install -c conda-forge lorem\n",
    "```"
   ]
  }
 ],
 "metadata": {
  "jupytext": {
   "cell_metadata_json": true,
   "encoding": "# -*- coding: utf-8 -*-"
  },
  "kernelspec": {
   "display_name": "big-data",
   "language": "python",
   "name": "big-data"
  },
  "language_info": {
   "codemirror_mode": {
    "name": "ipython",
    "version": 3
   },
   "file_extension": ".py",
   "mimetype": "text/x-python",
   "name": "python",
   "nbconvert_exporter": "python",
   "pygments_lexer": "ipython3",
   "version": "3.8.5"
  }
 },
 "nbformat": 4,
 "nbformat_minor": 2
}
