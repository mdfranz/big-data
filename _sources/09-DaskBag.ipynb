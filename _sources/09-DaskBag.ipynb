{
 "cells": [
  {
   "cell_type": "markdown",
   "metadata": {
    "slideshow": {
     "slide_type": "slide"
    }
   },
   "source": [
    "# Dask bag\n",
    "\n",
    "Dask proposes \"big data\" collections with a small set of high-level primitives like `map`, `filter`, `groupby`, and `join`.  With these common patterns we can often handle computations that are more complex than map, but are still structured.\n",
    "\n",
    "- Dask-bag excels in processing data that can be represented as a sequence of arbitrary inputs (\"messy\" data)\n",
    "- When you encounter a set of data with a format that does not enforce strict structure and datatypes.\n",
    "\n",
    "**Related Documentation**\n",
    "\n",
    "*  [Bag Documenation](http://dask.pydata.org/en/latest/bag.html)\n",
    "*  [Bag API](http://dask.pydata.org/en/latest/bag-api.html)"
   ]
  },
  {
   "cell_type": "code",
   "execution_count": 1,
   "metadata": {
    "slideshow": {
     "slide_type": "slide"
    }
   },
   "outputs": [
    {
     "data": {
      "text/plain": [
       "[1, 2, 3, 4, 5, 6, 7, 8]"
      ]
     },
     "execution_count": 1,
     "metadata": {},
     "output_type": "execute_result"
    }
   ],
   "source": [
    "data = list(range(1,9))\n",
    "data"
   ]
  },
  {
   "cell_type": "code",
   "execution_count": 2,
   "metadata": {
    "slideshow": {
     "slide_type": "fragment"
    }
   },
   "outputs": [],
   "source": [
    "import dask.bag as db\n",
    "\n",
    "b = db.from_sequence(data)"
   ]
  },
  {
   "cell_type": "code",
   "execution_count": 3,
   "metadata": {
    "slideshow": {
     "slide_type": "slide"
    }
   },
   "outputs": [
    {
     "data": {
      "text/plain": [
       "[1, 2, 3, 4, 5, 6, 7, 8]"
      ]
     },
     "execution_count": 3,
     "metadata": {},
     "output_type": "execute_result"
    }
   ],
   "source": [
    "b.compute()  # Gather results back to local process"
   ]
  },
  {
   "cell_type": "code",
   "execution_count": 4,
   "metadata": {},
   "outputs": [
    {
     "data": {
      "text/plain": [
       "[0, 1, 1, 2, 2, 3, 3, 4]"
      ]
     },
     "execution_count": 4,
     "metadata": {},
     "output_type": "execute_result"
    }
   ],
   "source": [
    "b.map(lambda x : x//2).compute() # compute length of each element and collect results"
   ]
  },
  {
   "cell_type": "code",
   "execution_count": 5,
   "metadata": {},
   "outputs": [
    {
     "data": {
      "text/plain": [
       "dask.bag<slow_half, npartitions=8>"
      ]
     },
     "execution_count": 5,
     "metadata": {},
     "output_type": "execute_result"
    }
   ],
   "source": [
    "from time import sleep\n",
    "\n",
    "def slow_half( x):\n",
    "    sleep(1)\n",
    "    return x // 2\n",
    "\n",
    "res = b.map(slow_half)\n",
    "res"
   ]
  },
  {
   "cell_type": "code",
   "execution_count": 6,
   "metadata": {},
   "outputs": [
    {
     "name": "stdout",
     "output_type": "stream",
     "text": [
      "CPU times: user 19.3 ms, sys: 9.9 ms, total: 29.2 ms\n",
      "Wall time: 4.41 s\n"
     ]
    },
    {
     "data": {
      "text/plain": [
       "[0, 1, 1, 2, 2, 3, 3, 4]"
      ]
     },
     "execution_count": 6,
     "metadata": {},
     "output_type": "execute_result"
    }
   ],
   "source": [
    "%%time\n",
    "res.compute()"
   ]
  },
  {
   "cell_type": "code",
   "execution_count": 7,
   "metadata": {},
   "outputs": [
    {
     "data": {
      "image/png": "[encoded data removed]",
      "text/plain": [
       "<IPython.core.display.Image object>"
      ]
     },
     "execution_count": 7,
     "metadata": {
      "filenames": {
       "image/png": "/home/runner/work/big-data/big-data/notebooks/_build/jupyter_execute/09-DaskBag_7_0.png"
      }
     },
     "output_type": "execute_result"
    }
   ],
   "source": [
    "res.visualize()"
   ]
  },
  {
   "cell_type": "code",
   "execution_count": 8,
   "metadata": {},
   "outputs": [
    {
     "data": {
      "text/plain": [
       "<bound method Bag.topk of dask.bag<from_sequence, npartitions=8>>"
      ]
     },
     "execution_count": 8,
     "metadata": {},
     "output_type": "execute_result"
    }
   ],
   "source": [
    "b.topk"
   ]
  },
  {
   "cell_type": "code",
   "execution_count": 9,
   "metadata": {},
   "outputs": [
    {
     "data": {
      "text/plain": [
       "[(1, 1),\n",
       " (1, 2),\n",
       " (1, 3),\n",
       " (1, 4),\n",
       " (1, 5),\n",
       " (1, 6),\n",
       " (1, 7),\n",
       " (1, 8),\n",
       " (2, 1),\n",
       " (2, 2),\n",
       " (2, 3),\n",
       " (2, 4),\n",
       " (2, 5),\n",
       " (2, 6),\n",
       " (2, 7),\n",
       " (2, 8),\n",
       " (3, 1),\n",
       " (3, 2),\n",
       " (3, 3),\n",
       " (3, 4),\n",
       " (3, 5),\n",
       " (3, 6),\n",
       " (3, 7),\n",
       " (3, 8),\n",
       " (4, 1),\n",
       " (4, 2),\n",
       " (4, 3),\n",
       " (4, 4),\n",
       " (4, 5),\n",
       " (4, 6),\n",
       " (4, 7),\n",
       " (4, 8),\n",
       " (5, 1),\n",
       " (5, 2),\n",
       " (5, 3),\n",
       " (5, 4),\n",
       " (5, 5),\n",
       " (5, 6),\n",
       " (5, 7),\n",
       " (5, 8),\n",
       " (6, 1),\n",
       " (6, 2),\n",
       " (6, 3),\n",
       " (6, 4),\n",
       " (6, 5),\n",
       " (6, 6),\n",
       " (6, 7),\n",
       " (6, 8),\n",
       " (7, 1),\n",
       " (7, 2),\n",
       " (7, 3),\n",
       " (7, 4),\n",
       " (7, 5),\n",
       " (7, 6),\n",
       " (7, 7),\n",
       " (7, 8),\n",
       " (8, 1),\n",
       " (8, 2),\n",
       " (8, 3),\n",
       " (8, 4),\n",
       " (8, 5),\n",
       " (8, 6),\n",
       " (8, 7),\n",
       " (8, 8)]"
      ]
     },
     "execution_count": 9,
     "metadata": {},
     "output_type": "execute_result"
    }
   ],
   "source": [
    "b.product(b).compute() # Cartesian product of each pair \n",
    "# of elements in two sequences (or the same sequence in this case)"
   ]
  },
  {
   "cell_type": "markdown",
   "metadata": {
    "slideshow": {
     "slide_type": "slide"
    }
   },
   "source": [
    "Chain operations to construct more complex computations"
   ]
  },
  {
   "cell_type": "code",
   "execution_count": 10,
   "metadata": {
    "slideshow": {
     "slide_type": "fragment"
    }
   },
   "outputs": [
    {
     "data": {
      "text/plain": [
       "[(3, 1), (5, 1), (7, 1)]"
      ]
     },
     "execution_count": 10,
     "metadata": {},
     "output_type": "execute_result"
    }
   ],
   "source": [
    "(b.filter(lambda x: x % 2 > 0)\n",
    "  .product(b)\n",
    "  .filter( lambda v : v[0] % v[1] == 0 and v[0] != v[1])\n",
    "  .compute())"
   ]
  },
  {
   "cell_type": "markdown",
   "metadata": {
    "slideshow": {
     "slide_type": "slide"
    }
   },
   "source": [
    "## Daily stock example\n",
    "\n",
    "Let's use the bag interface to read the json files containing time series.\n",
    "\n",
    "Each line is a JSON encoded dictionary with the following keys\n",
    "- timestamp: Day.\n",
    "- close: Stock value at the end of the day.\n",
    "- high: Highest value.\n",
    "- low: Lowest value.\n",
    "- open: Opening price."
   ]
  },
  {
   "cell_type": "code",
   "execution_count": 11,
   "metadata": {},
   "outputs": [],
   "source": [
    "# preparing data\n",
    "import os  # library to get directory and file paths\n",
    "import tarfile # this module makes possible to read and write tar archives\n",
    "\n",
    "def extract_data(name, where):\n",
    "    datadir = os.path.join(where,name)\n",
    "    if not os.path.exists(datadir):\n",
    "       print(\"Extracting data...\")\n",
    "       tar_path = os.path.join(where, name+'.tgz')\n",
    "       with tarfile.open(tar_path, mode='r:gz') as data:\n",
    "          data.extractall(where)\n",
    "            \n",
    "extract_data('daily-stock','data') # this function call will extract json files"
   ]
  },
  {
   "cell_type": "code",
   "execution_count": 12,
   "metadata": {},
   "outputs": [
    {
     "name": "stdout",
     "output_type": "stream",
     "text": [
      "data/daily-stock/aet.json   data/daily-stock/hpq.json\r\n",
      "data/daily-stock/afl.json   data/daily-stock/ibm.json\r\n",
      "data/daily-stock/aig.json   data/daily-stock/jbl.json\r\n",
      "data/daily-stock/al.json    data/daily-stock/jpm.json\r\n",
      "data/daily-stock/amgn.json  data/daily-stock/luv.json\r\n",
      "data/daily-stock/avy.json   data/daily-stock/met.json\r\n",
      "data/daily-stock/b.json     data/daily-stock/pcg.json\r\n",
      "data/daily-stock/bwa.json   data/daily-stock/tgt.json\r\n",
      "data/daily-stock/ge.json    data/daily-stock/usb.json\r\n",
      "data/daily-stock/hal.json   data/daily-stock/xom.json\r\n",
      "data/daily-stock/hp.json\r\n"
     ]
    }
   ],
   "source": [
    "%ls data/daily-stock/*.json"
   ]
  },
  {
   "cell_type": "code",
   "execution_count": 13,
   "metadata": {
    "slideshow": {
     "slide_type": "fragment"
    }
   },
   "outputs": [],
   "source": [
    "import dask.bag as db\n",
    "import json\n",
    "stocks = db.read_text('data/daily-stock/*.json')"
   ]
  },
  {
   "cell_type": "code",
   "execution_count": 14,
   "metadata": {
    "slideshow": {
     "slide_type": "fragment"
    }
   },
   "outputs": [
    {
     "data": {
      "text/plain": [
       "22"
      ]
     },
     "execution_count": 14,
     "metadata": {},
     "output_type": "execute_result"
    }
   ],
   "source": [
    "stocks.npartitions"
   ]
  },
  {
   "cell_type": "code",
   "execution_count": 15,
   "metadata": {
    "slideshow": {
     "slide_type": "slide"
    }
   },
   "outputs": [
    {
     "data": {
      "image/png": "[encoded data removed]",
      "text/plain": [
       "<IPython.core.display.Image object>"
      ]
     },
     "execution_count": 15,
     "metadata": {
      "filenames": {
       "image/png": "/home/runner/work/big-data/big-data/notebooks/_build/jupyter_execute/09-DaskBag_17_0.png"
      }
     },
     "output_type": "execute_result"
    }
   ],
   "source": [
    "stocks.visualize()"
   ]
  },
  {
   "cell_type": "code",
   "execution_count": 16,
   "metadata": {
    "slideshow": {
     "slide_type": "slide"
    }
   },
   "outputs": [],
   "source": [
    "import json\n",
    "js = stocks.map(json.loads)"
   ]
  },
  {
   "cell_type": "code",
   "execution_count": 17,
   "metadata": {
    "slideshow": {
     "slide_type": "slide"
    }
   },
   "outputs": [
    {
     "data": {
      "text/plain": [
       "['/home/runner/work/big-data/big-data/notebooks/data/daily-stock/aet.json',\n",
       " '/home/runner/work/big-data/big-data/notebooks/data/daily-stock/afl.json',\n",
       " '/home/runner/work/big-data/big-data/notebooks/data/daily-stock/aig.json',\n",
       " '/home/runner/work/big-data/big-data/notebooks/data/daily-stock/al.json',\n",
       " '/home/runner/work/big-data/big-data/notebooks/data/daily-stock/amgn.json',\n",
       " '/home/runner/work/big-data/big-data/notebooks/data/daily-stock/avy.json',\n",
       " '/home/runner/work/big-data/big-data/notebooks/data/daily-stock/b.json',\n",
       " '/home/runner/work/big-data/big-data/notebooks/data/daily-stock/bwa.json',\n",
       " '/home/runner/work/big-data/big-data/notebooks/data/daily-stock/ge.json',\n",
       " '/home/runner/work/big-data/big-data/notebooks/data/daily-stock/hal.json',\n",
       " '/home/runner/work/big-data/big-data/notebooks/data/daily-stock/hp.json',\n",
       " '/home/runner/work/big-data/big-data/notebooks/data/daily-stock/hpq.json',\n",
       " '/home/runner/work/big-data/big-data/notebooks/data/daily-stock/ibm.json',\n",
       " '/home/runner/work/big-data/big-data/notebooks/data/daily-stock/jbl.json',\n",
       " '/home/runner/work/big-data/big-data/notebooks/data/daily-stock/jpm.json',\n",
       " '/home/runner/work/big-data/big-data/notebooks/data/daily-stock/luv.json',\n",
       " '/home/runner/work/big-data/big-data/notebooks/data/daily-stock/met.json',\n",
       " '/home/runner/work/big-data/big-data/notebooks/data/daily-stock/pcg.json',\n",
       " '/home/runner/work/big-data/big-data/notebooks/data/daily-stock/tgt.json',\n",
       " '/home/runner/work/big-data/big-data/notebooks/data/daily-stock/usb.json',\n",
       " '/home/runner/work/big-data/big-data/notebooks/data/daily-stock/xom.json']"
      ]
     },
     "execution_count": 17,
     "metadata": {},
     "output_type": "execute_result"
    }
   ],
   "source": [
    "import os, sys\n",
    "from glob import glob\n",
    "import pandas as pd\n",
    "import json\n",
    "\n",
    "here = os.getcwd() # get the current directory\n",
    "filenames = sorted(glob(os.path.join(here,'data', 'daily-stock', '*.json')))\n",
    "filenames"
   ]
  },
  {
   "cell_type": "code",
   "execution_count": 18,
   "metadata": {},
   "outputs": [],
   "source": [
    "%rm data/daily-stock/*.h5"
   ]
  },
  {
   "cell_type": "code",
   "execution_count": 19,
   "metadata": {
    "slideshow": {
     "slide_type": "slide"
    }
   },
   "outputs": [
    {
     "data": {
      "application/vnd.jupyter.widget-view+json": {
       "model_id": "131c9ed2d6eb49bb9eba6ae82a2dee32",
       "version_major": 2,
       "version_minor": 0
      },
      "text/plain": [
       "HBox(children=(HTML(value=''), FloatProgress(value=0.0, max=21.0), HTML(value='')))"
      ]
     },
     "metadata": {},
     "output_type": "display_data"
    },
    {
     "name": "stdout",
     "output_type": "stream",
     "text": [
      "\n"
     ]
    }
   ],
   "source": [
    "from tqdm.notebook import tqdm\n",
    "for fn in tqdm(filenames):\n",
    "    with open(fn) as f:\n",
    "        data = [json.loads(line) for line in f]\n",
    "        \n",
    "    df = pd.DataFrame(data)\n",
    "    \n",
    "    out_filename = fn[:-5] + '.h5'\n",
    "    df.to_hdf(out_filename, '/data')"
   ]
  },
  {
   "cell_type": "code",
   "execution_count": 20,
   "metadata": {
    "slideshow": {
     "slide_type": "slide"
    }
   },
   "outputs": [
    {
     "data": {
      "text/plain": [
       "['/home/runner/work/big-data/big-data/notebooks/data/daily-stock/aet.h5',\n",
       " '/home/runner/work/big-data/big-data/notebooks/data/daily-stock/afl.h5',\n",
       " '/home/runner/work/big-data/big-data/notebooks/data/daily-stock/aig.h5',\n",
       " '/home/runner/work/big-data/big-data/notebooks/data/daily-stock/al.h5',\n",
       " '/home/runner/work/big-data/big-data/notebooks/data/daily-stock/amgn.h5',\n",
       " '/home/runner/work/big-data/big-data/notebooks/data/daily-stock/avy.h5',\n",
       " '/home/runner/work/big-data/big-data/notebooks/data/daily-stock/b.h5',\n",
       " '/home/runner/work/big-data/big-data/notebooks/data/daily-stock/bwa.h5',\n",
       " '/home/runner/work/big-data/big-data/notebooks/data/daily-stock/ge.h5',\n",
       " '/home/runner/work/big-data/big-data/notebooks/data/daily-stock/hal.h5',\n",
       " '/home/runner/work/big-data/big-data/notebooks/data/daily-stock/hp.h5',\n",
       " '/home/runner/work/big-data/big-data/notebooks/data/daily-stock/hpq.h5',\n",
       " '/home/runner/work/big-data/big-data/notebooks/data/daily-stock/ibm.h5',\n",
       " '/home/runner/work/big-data/big-data/notebooks/data/daily-stock/jbl.h5',\n",
       " '/home/runner/work/big-data/big-data/notebooks/data/daily-stock/jpm.h5',\n",
       " '/home/runner/work/big-data/big-data/notebooks/data/daily-stock/luv.h5',\n",
       " '/home/runner/work/big-data/big-data/notebooks/data/daily-stock/met.h5',\n",
       " '/home/runner/work/big-data/big-data/notebooks/data/daily-stock/pcg.h5',\n",
       " '/home/runner/work/big-data/big-data/notebooks/data/daily-stock/tgt.h5',\n",
       " '/home/runner/work/big-data/big-data/notebooks/data/daily-stock/usb.h5',\n",
       " '/home/runner/work/big-data/big-data/notebooks/data/daily-stock/xom.h5']"
      ]
     },
     "execution_count": 20,
     "metadata": {},
     "output_type": "execute_result"
    }
   ],
   "source": [
    "filenames = sorted(glob(os.path.join(here,'data', 'daily-stock', '*.h5')))\n",
    "filenames"
   ]
  },
  {
   "cell_type": "markdown",
   "metadata": {
    "slideshow": {
     "slide_type": "slide"
    }
   },
   "source": [
    "### Serial version"
   ]
  },
  {
   "cell_type": "code",
   "execution_count": 21,
   "metadata": {
    "slideshow": {
     "slide_type": "fragment"
    }
   },
   "outputs": [
    {
     "name": "stdout",
     "output_type": "stream",
     "text": [
      "CPU times: user 1.1 s, sys: 56.7 ms, total: 1.16 s\n",
      "Wall time: 1.16 s\n"
     ]
    }
   ],
   "source": [
    "%%time\n",
    "series = {}\n",
    "for fn in filenames:   # Simple map over filenames\n",
    "    series[fn] = pd.read_hdf(fn)['close']\n",
    "\n",
    "results = {}\n",
    "\n",
    "for a in filenames:    # Doubly nested loop over the same collection\n",
    "    for b in filenames:  \n",
    "        if a != b:     # Filter out bad elements\n",
    "            results[a, b] = series[a].corr(series[b])  # Apply function\n",
    "\n",
    "((a, b), corr) = max(results.items(), key=lambda kv: kv[1])  # Reduction"
   ]
  },
  {
   "cell_type": "code",
   "execution_count": 22,
   "metadata": {},
   "outputs": [
    {
     "data": {
      "text/plain": [
       "('/home/runner/work/big-data/big-data/notebooks/data/daily-stock/aet.h5',\n",
       " '/home/runner/work/big-data/big-data/notebooks/data/daily-stock/luv.h5',\n",
       " 0.9413176064560879)"
      ]
     },
     "execution_count": 22,
     "metadata": {},
     "output_type": "execute_result"
    }
   ],
   "source": [
    "a, b, corr"
   ]
  },
  {
   "cell_type": "markdown",
   "metadata": {
    "slideshow": {
     "slide_type": "slide"
    }
   },
   "source": [
    "## Dask.bag methods\n",
    "\n",
    "We can construct most of the above computation with the following dask.bag methods:\n",
    "\n",
    "*  `collection.map(function)`: apply function to each element in collection\n",
    "*  `collection.product(collection)`: Create new collection with every pair of inputs\n",
    "*  `collection.filter(predicate)`: Keep only elements of colleciton that match the predicate function\n",
    "*  `collection.max()`: Compute maximum element"
   ]
  },
  {
   "cell_type": "code",
   "execution_count": 23,
   "metadata": {
    "slideshow": {
     "slide_type": "slide"
    }
   },
   "outputs": [
    {
     "name": "stdout",
     "output_type": "stream",
     "text": [
      "CPU times: user 4.9 ms, sys: 4.29 ms, total: 9.19 ms\n",
      "Wall time: 8.42 ms\n"
     ]
    }
   ],
   "source": [
    "%%time\n",
    "\n",
    "import dask.bag as db\n",
    "\n",
    "b = db.from_sequence(filenames)\n",
    "series = b.map(lambda fn: pd.read_hdf(fn)['close'])\n",
    "\n",
    "corr = (series.product(series)\n",
    "              .filter(lambda ab: not (ab[0] == ab[1]).all())\n",
    "              .map(lambda ab: ab[0].corr(ab[1])).max())"
   ]
  },
  {
   "cell_type": "code",
   "execution_count": 24,
   "metadata": {
    "slideshow": {
     "slide_type": "slide"
    }
   },
   "outputs": [
    {
     "name": "stdout",
     "output_type": "stream",
     "text": [
      "CPU times: user 2.74 s, sys: 2.16 s, total: 4.9 s\n",
      "Wall time: 7.49 s\n"
     ]
    }
   ],
   "source": [
    "%%time\n",
    "\n",
    "result = corr.compute()"
   ]
  },
  {
   "cell_type": "code",
   "execution_count": 25,
   "metadata": {
    "slideshow": {
     "slide_type": "fragment"
    }
   },
   "outputs": [
    {
     "data": {
      "text/plain": [
       "0.9413176064560879"
      ]
     },
     "execution_count": 25,
     "metadata": {},
     "output_type": "execute_result"
    }
   ],
   "source": [
    "result"
   ]
  },
  {
   "cell_type": "markdown",
   "metadata": {
    "slideshow": {
     "slide_type": "slide"
    }
   },
   "source": [
    "### Wordcount with Dask bag"
   ]
  },
  {
   "cell_type": "code",
   "execution_count": 26,
   "metadata": {},
   "outputs": [
    {
     "data": {
      "text/plain": [
       "'Consectetur quisquam neque labore amet dolore. Adipisci modi dolorem quaerat velit modi porro eius. Sit ipsum ipsum quaerat velit sed modi numquam. Velit dolore modi quiquia dolore. Dolor sit quaerat etincidunt numquam neque. Voluptatem neque ut consectetur. Ipsum adipisci quiquia quaerat adipisci magnam velit quiquia.\\n\\nNeque modi magnam etincidunt quaerat. Etincidunt magnam est voluptatem. Ut dolore sit est eius tempora dolore amet. Eius modi aliquam dolor voluptatem labore quiquia sed. Quisquam ut quisquam quisquam quaerat etincidunt ut neque. Sit velit amet modi velit aliquam sed. Ipsum magnam tempora sed est modi dolorem sed. Sed quiquia neque quaerat tempora dolorem est. Sed modi dolore tempora ipsum numquam quaerat.\\n\\nSed aliquam labore dolor dolor. Numquam sit voluptatem eius neque dolore. Etincidunt velit non quaerat est velit etincidunt quaerat. Modi etincidunt ut neque amet. Velit aliquam consectetur aliquam est quiquia dolorem quiquia. Quisquam consectetur numquam non ipsum labore sit dolor. Neque dolor consectetur quisquam eius modi. Consectetur tempora dolor quiquia neque dolorem.\\n\\nAdipisci dolorem velit numquam porro amet dolorem dolore. Sed tempora magnam labore non numquam. Amet dolor dolorem magnam. Porro porro dolore aliquam dolore quisquam ut aliquam. Amet aliquam tempora non aliquam non. Numquam amet sed magnam ut voluptatem. Labore sed sed non aliquam labore.'"
      ]
     },
     "execution_count": 26,
     "metadata": {},
     "output_type": "execute_result"
    }
   ],
   "source": [
    "import lorem\n",
    "\n",
    "lorem.text()"
   ]
  },
  {
   "cell_type": "code",
   "execution_count": 27,
   "metadata": {},
   "outputs": [],
   "source": [
    "import lorem\n",
    "\n",
    "for i in range(20):\n",
    "    with open(f\"sample{i:02d}.txt\",\"w\") as f:\n",
    "        f.write(lorem.text())"
   ]
  },
  {
   "cell_type": "code",
   "execution_count": 28,
   "metadata": {},
   "outputs": [
    {
     "name": "stdout",
     "output_type": "stream",
     "text": [
      "sample.txt    sample04.txt  sample09.txt  sample14.txt  sample19.txt\r\n",
      "sample00.txt  sample05.txt  sample10.txt  sample15.txt\r\n",
      "sample01.txt  sample06.txt  sample11.txt  sample16.txt\r\n",
      "sample02.txt  sample07.txt  sample12.txt  sample17.txt\r\n",
      "sample03.txt  sample08.txt  sample13.txt  sample18.txt\r\n"
     ]
    }
   ],
   "source": [
    "%ls *.txt"
   ]
  },
  {
   "cell_type": "code",
   "execution_count": 29,
   "metadata": {},
   "outputs": [
    {
     "data": {
      "text/plain": [
       "['sample13.txt',\n",
       " 'sample00.txt',\n",
       " 'sample06.txt',\n",
       " 'sample09.txt',\n",
       " 'sample15.txt',\n",
       " 'sample.txt',\n",
       " 'sample08.txt',\n",
       " 'sample03.txt',\n",
       " 'sample14.txt',\n",
       " 'sample17.txt',\n",
       " 'sample04.txt',\n",
       " 'sample18.txt',\n",
       " 'sample07.txt',\n",
       " 'sample01.txt',\n",
       " 'sample19.txt',\n",
       " 'sample16.txt',\n",
       " 'sample10.txt',\n",
       " 'sample12.txt',\n",
       " 'sample05.txt',\n",
       " 'sample02.txt',\n",
       " 'sample11.txt']"
      ]
     },
     "execution_count": 29,
     "metadata": {},
     "output_type": "execute_result"
    }
   ],
   "source": [
    "import glob\n",
    "glob.glob('sample*.txt')"
   ]
  },
  {
   "cell_type": "code",
   "execution_count": 30,
   "metadata": {
    "slideshow": {
     "slide_type": "fragment"
    }
   },
   "outputs": [
    {
     "data": {
      "text/plain": [
       "[('numquam', 74948),\n",
       " ('sit', 74850),\n",
       " ('quiquia', 74836),\n",
       " ('labore', 74747),\n",
       " ('ipsum', 74699),\n",
       " ('quisquam', 74697),\n",
       " ('tempora', 74649),\n",
       " ('neque', 74627),\n",
       " ('sed', 74612),\n",
       " ('magnam', 74531)]"
      ]
     },
     "execution_count": 30,
     "metadata": {},
     "output_type": "execute_result"
    }
   ],
   "source": [
    "import dask.bag as db\n",
    "import glob\n",
    "b = db.read_text(glob.glob('sample*.txt'))\n",
    "\n",
    "wordcount = (b.str.replace(\".\",\"\")  # remove dots\n",
    "             .str.lower()           # lower text\n",
    "             .str.strip()           # remove \\n and trailing spaces\n",
    "             .str.split()           # split into words\n",
    "             .flatten()             # chain all words lists\n",
    "             .frequencies()         # compute occurences\n",
    "             .topk(10, lambda x: x[1])) # sort and return top 10 words\n",
    "\n",
    "\n",
    "wordcount.compute() # Run all tasks and return result"
   ]
  },
  {
   "cell_type": "markdown",
   "metadata": {
    "slideshow": {
     "slide_type": "slide"
    }
   },
   "source": [
    "## Genome example\n",
    "We will use a Dask bag to calculate the frequencies of sequences of five bases, and then sort the sequences into descending order ranked by their frequency.\n",
    "\n",
    "- First we will define some functions to split the bases into sequences of a certain size"
   ]
  },
  {
   "cell_type": "markdown",
   "metadata": {
    "slideshow": {
     "slide_type": "fragment"
    }
   },
   "source": [
    "### Exercise 9.1\n",
    "\n",
    "- Implement a function `group_characters(line, n=5)` to group `n` characters together and return a iterator. `line` is a text line in genome.txt file.\n",
    "\n",
    "```py\n",
    ">>> line = \"abcdefghijklmno\"\n",
    ">>> for seq in group_character(line, 5):\n",
    "        print(seq)\n",
    "        \n",
    "\"abcde\"\n",
    "\"efghi\"\n",
    "\"klmno\"\n",
    "```\n",
    "\n",
    "    \n",
    "- Implement `group_and_split(line)`\n",
    "```py\n",
    ">>> group_and_split('abcdefghijklmno')\n",
    "['abcde', 'fghij', 'klmno']\n",
    "```\n",
    "\n",
    "- Use the dask bag to compute  the frequencies of sequences of five bases."
   ]
  },
  {
   "cell_type": "code",
   "execution_count": 31,
   "metadata": {},
   "outputs": [
    {
     "ename": "NameError",
     "evalue": "name 'group_character' is not defined",
     "output_type": "error",
     "traceback": [
      "\u001b[0;31m---------------------------------------------------------------------------\u001b[0m",
      "\u001b[0;31mNameError\u001b[0m                                 Traceback (most recent call last)",
      "\u001b[0;32m<ipython-input-31-81a78c10163f>\u001b[0m in \u001b[0;36m<module>\u001b[0;34m\u001b[0m\n\u001b[1;32m      1\u001b[0m \u001b[0mline\u001b[0m \u001b[0;34m=\u001b[0m \u001b[0;34m\"abcdefghijklmno\"\u001b[0m\u001b[0;34m\u001b[0m\u001b[0;34m\u001b[0m\u001b[0m\n\u001b[0;32m----> 2\u001b[0;31m \u001b[0;32mfor\u001b[0m \u001b[0mseq\u001b[0m \u001b[0;32min\u001b[0m \u001b[0mgroup_character\u001b[0m\u001b[0;34m(\u001b[0m\u001b[0mline\u001b[0m\u001b[0;34m,\u001b[0m \u001b[0;36m5\u001b[0m\u001b[0;34m)\u001b[0m\u001b[0;34m:\u001b[0m\u001b[0;34m\u001b[0m\u001b[0;34m\u001b[0m\u001b[0m\n\u001b[0m\u001b[1;32m      3\u001b[0m     \u001b[0mprint\u001b[0m\u001b[0;34m(\u001b[0m\u001b[0mseq\u001b[0m\u001b[0;34m)\u001b[0m\u001b[0;34m\u001b[0m\u001b[0;34m\u001b[0m\u001b[0m\n",
      "\u001b[0;31mNameError\u001b[0m: name 'group_character' is not defined"
     ]
    }
   ],
   "source": [
    "line = \"abcdefghijklmno\"\n",
    "for seq in group_character(line, 5):\n",
    "    print(seq)"
   ]
  },
  {
   "cell_type": "code",
   "execution_count": null,
   "metadata": {},
   "outputs": [],
   "source": [
    "import os\n",
    "from glob import glob\n",
    "\n",
    "data_path = os.path.join(\"data\")\n",
    "with open(os.path.join(data_path,\"genome.txt\")) as g:\n",
    "    data = g.read()\n",
    "    for i in range(8):\n",
    "        file = os.path.join(data_path,f\"genome{i:02d}.txt\")\n",
    "        with open(file,\"w\") as f:\n",
    "            f.write(data)\n",
    "\n",
    "glob(\"data/genome0*.txt\")"
   ]
  },
  {
   "cell_type": "markdown",
   "metadata": {
    "slideshow": {
     "slide_type": "slide"
    }
   },
   "source": [
    "### Exercise 9.2\n",
    "\n",
    "The [FASTA](http://www.cbs.dtu.dk/services/NetGene2/fasta.php) file format is used to write several genome sequences.\n",
    "\n",
    "- Create a function that can read a [FASTA file](../data/nucleotide-sample.txt) and compute the frequencies for n = 5 of a given sequence."
   ]
  },
  {
   "cell_type": "markdown",
   "metadata": {
    "slideshow": {
     "slide_type": "slide"
    }
   },
   "source": [
    "### Exercise 9.3\n",
    "\n",
    "Write a program that uses the function implemented above to read several FASTA files stored in a Dask bag."
   ]
  },
  {
   "cell_type": "markdown",
   "metadata": {
    "slideshow": {
     "slide_type": "slide"
    }
   },
   "source": [
    "## Some remarks about bag\n",
    "\n",
    "*  Higher level dask collections include functions for common patterns\n",
    "*  Move data to collection, construct lazy computation, trigger at the end\n",
    "*  Use Dask.bag (`product + map`) to handle nested for loop\n",
    "\n",
    "Bags have the following known limitations\n",
    "\n",
    "1.  Bag operations tend to be slower than array/dataframe computations in the\n",
    "    same way that Python tends to be slower than NumPy/Pandas\n",
    "2.  ``Bag.groupby`` is slow.  You should try to use ``Bag.foldby`` if possible.\n",
    "    \n",
    "3. Check the [API](http://dask.pydata.org/en/latest/bag-api.html) \n",
    "\n",
    "4. `dask.dataframe` can be faster than `dask.bag`.  But sometimes it is easier to load and clean messy data with a bag. We will see later how to transform a bag into a `dask.dataframe` with the [to_dataframe](http://dask.pydata.org/en/latest/bag-api.html#dask.bag.Bag.to_dataframe) method."
   ]
  }
 ],
 "metadata": {
  "jupytext": {
   "cell_metadata_json": true,
   "text_representation": {
    "extension": ".md",
    "format_name": "myst",
    "format_version": 0.12,
    "jupytext_version": "1.6.0"
   }
  },
  "kernelspec": {
   "display_name": "big-data",
   "language": "python",
   "name": "big-data"
  },
  "language_info": {
   "codemirror_mode": {
    "name": "ipython",
    "version": 3
   },
   "file_extension": ".py",
   "mimetype": "text/x-python",
   "name": "python",
   "nbconvert_exporter": "python",
   "pygments_lexer": "ipython3",
   "version": "3.7.8"
  },
  "source_map": [
   15,
   29,
   38,
   48,
   56,
   60,
   71,
   76,
   80,
   84,
   89,
   93,
   104,
   117,
   133,
   137,
   147,
   155,
   163,
   172,
   187,
   191,
   207,
   216,
   220,
   240,
   244,
   255,
   272,
   282,
   290,
   294,
   300,
   308,
   312,
   317,
   338,
   345,
   370,
   376,
   391,
   399,
   405
  ]
 },
 "nbformat": 4,
 "nbformat_minor": 4
}