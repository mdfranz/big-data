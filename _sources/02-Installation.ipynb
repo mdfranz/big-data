{
 "cells": [
  {
   "cell_type": "markdown",
   "metadata": {
    "slideshow": {
     "slide_type": "slide"
    }
   },
   "source": [
    "# Installation\n",
    "\n",
    "Conda is a powerful package manager and environment manager.\n",
    "\n",
    "[Ref: Getting started with conda](https://docs.conda.io/projects/conda/en/latest/user-guide/getting-started.html)\n",
    "\n",
    "<!-- #region {\"slideshow\": {\"slide_type\": \"slide\"}} -->\n",
    "##  Install [Anaconda](https://www.anaconda.com/downloads) (large) or [Miniconda](https://conda.io/miniconda.html) (small)\n"
   ]
  },
  {
   "cell_type": "markdown",
   "metadata": {
    "slideshow": {
     "slide_type": "slide"
    }
   },
   "source": [
    "##  Open a terminal (Linux/MacOSX) or a Anaconda prompt (Windows)"
   ]
  },
  {
   "cell_type": "markdown",
   "metadata": {},
   "source": [
    "Verify that conda is installed and running on your system by typing:"
   ]
  },
  {
   "cell_type": "code",
   "execution_count": 1,
   "metadata": {},
   "outputs": [
    {
     "name": "stdout",
     "output_type": "stream",
     "text": [
      "conda 4.8.4\n"
     ]
    }
   ],
   "source": [
    "%%bash\n",
    "conda --version"
   ]
  },
  {
   "cell_type": "markdown",
   "metadata": {},
   "source": [
    "Conda displays the number of the version that you have installed.\n",
    "\n",
    "If you get an error message, make sure you closed and re-opened the\n",
    "terminal window after installing, or do it now. \n",
    "\n",
    "To update conda to the current version. Type the following:\n",
    "\n",
    "```bash\n",
    "conda update -y conda -n base\n",
    "```"
   ]
  },
  {
   "cell_type": "markdown",
   "metadata": {},
   "source": [
    "## Managing channels\n",
    "\n",
    "Conda channels are the locations where packages are stored. We use the [conda-forge](https://conda-forge.org),\n",
    "a good community-led collection of recipes for conda.\n",
    "\n",
    "```bash\n",
    "conda config --add channels conda-forge \n",
    "conda config --set channel_priority strict\n",
    "```\n",
    "\n",
    "Strict channel priority speed up conda operations and also reduce package incompatibility problems."
   ]
  },
  {
   "cell_type": "markdown",
   "metadata": {},
   "source": [
    "## Managing environments\n",
    "\n",
    "Conda allows you to create separate environments containing files, packages,\n",
    "and their dependencies that will not interact with other environments.\n",
    "\n",
    "When you begin using conda, you already have a default environment named\n",
    "``base``. You don't want to put programs into your base environment, though.\n",
    "Create separate environments to keep your programs isolated from each other.\n",
    "\n",
    "### Create a new environment and install a package in it.\n",
    "\n",
    "We will name the environment `testenv` and install the version 3.8 of `python`. At the Anaconda Prompt or in your terminal window, type the following:"
   ]
  },
  {
   "cell_type": "code",
   "execution_count": 4,
   "metadata": {},
   "outputs": [
    {
     "name": "stdout",
     "output_type": "stream",
     "text": [
      "Collecting package metadata (current_repodata.json): ...working... done\n",
      "Solving environment: ...working... done\n",
      "\n",
      "## Package Plan ##\n",
      "\n",
      "  environment location: /Users/navaro/miniconda3/envs/testenv\n",
      "\n",
      "  added / updated specs:\n",
      "    - python=3.8\n",
      "\n",
      "\n",
      "The following NEW packages will be INSTALLED:\n",
      "\n",
      "  ca-certificates    conda-forge/osx-64::ca-certificates-2020.6.20-hecda079_0\n",
      "  certifi            conda-forge/osx-64::certifi-2020.6.20-py38h32f6830_0\n",
      "  libcxx             conda-forge/osx-64::libcxx-10.0.1-h5f48129_0\n",
      "  libffi             conda-forge/osx-64::libffi-3.2.1-hb1e8313_1007\n",
      "  ncurses            conda-forge/osx-64::ncurses-6.2-hb1e8313_1\n",
      "  openssl            conda-forge/osx-64::openssl-1.1.1g-haf1e3a3_1\n",
      "  pip                conda-forge/noarch::pip-20.2.3-py_0\n",
      "  python             conda-forge/osx-64::python-3.8.5-hfc71d35_7_cpython\n",
      "  python_abi         conda-forge/osx-64::python_abi-3.8-1_cp38\n",
      "  readline           conda-forge/osx-64::readline-8.0-h0678c8f_2\n",
      "  setuptools         conda-forge/osx-64::setuptools-49.6.0-py38h32f6830_0\n",
      "  sqlite             conda-forge/osx-64::sqlite-3.33.0-h960bd1c_0\n",
      "  tk                 conda-forge/osx-64::tk-8.6.10-hb0a8c7a_0\n",
      "  wheel              conda-forge/noarch::wheel-0.35.1-pyh9f0ad1d_0\n",
      "  xz                 conda-forge/osx-64::xz-5.2.5-haf1e3a3_1\n",
      "  zlib               conda-forge/osx-64::zlib-1.2.11-h7795811_1009\n",
      "\n",
      "\n",
      "Preparing transaction: ...working... done\n",
      "Verifying transaction: ...working... done\n",
      "Executing transaction: ...working... done\n",
      "#\n",
      "# To activate this environment, use\n",
      "#\n",
      "#     $ conda activate testenv\n",
      "#\n",
      "# To deactivate an active environment, use\n",
      "#\n",
      "#     $ conda deactivate\n",
      "\n"
     ]
    }
   ],
   "source": [
    "%%bash\n",
    "conda create -y -n testenv python=3.8"
   ]
  },
  {
   "cell_type": "markdown",
   "metadata": {},
   "source": [
    "### To use, or \"activate\" the new environment, type the following:\n",
    "\n",
    "```bash\n",
    "conda activate testenv\n",
    "```"
   ]
  },
  {
   "cell_type": "markdown",
   "metadata": {},
   "source": [
    "Now that you are in your ``testenv`` environment, any conda commands you type will go to that environment until you deactivate it.\n",
    "\n",
    "Verify which version of Python is in your current environment:\n",
    "\n",
    "```bash\n",
    "python --version\n",
    "```"
   ]
  },
  {
   "cell_type": "markdown",
   "metadata": {},
   "source": [
    "### To see a list of all your environments, type:"
   ]
  },
  {
   "cell_type": "code",
   "execution_count": 2,
   "metadata": {},
   "outputs": [
    {
     "name": "stdout",
     "output_type": "stream",
     "text": [
      "# conda environments:\n",
      "#\n",
      "base                  *  /Users/navaro/miniconda3\n",
      "big-data                 /Users/navaro/miniconda3/envs/big-data\n",
      "conda_jl                 /Users/navaro/miniconda3/envs/conda_jl\n",
      "                         /Users/navaro/miniconda3/envs/conda_jl/envs/_ORCA_jl_\n",
      "finistR2020              /Users/navaro/miniconda3/envs/finistR2020\n",
      "nbcourse                 /Users/navaro/miniconda3/envs/nbcourse\n",
      "runenv                   /Users/navaro/miniconda3/envs/runenv\n",
      "smilesx                  /Users/navaro/miniconda3/envs/smilesx\n",
      "testenv                  /Users/navaro/miniconda3/envs/testenv\n",
      "\n"
     ]
    }
   ],
   "source": [
    "%%bash\n",
    "conda info --envs"
   ]
  },
  {
   "cell_type": "markdown",
   "metadata": {},
   "source": [
    "The active environment is the one with an asterisk (*).\n",
    "\n",
    "### Change your current environment back to the default (base):"
   ]
  },
  {
   "cell_type": "markdown",
   "metadata": {
    "lines_to_next_cell": 0
   },
   "source": [
    "```bash\n",
    "conda activate\n",
    "```"
   ]
  },
  {
   "cell_type": "markdown",
   "metadata": {},
   "source": [
    "## Managing packages\n",
    "\n",
    "- Check to see if a package you have not installed named \"jupyter\" is available from the Anaconda repository (must be connected to the Internet):"
   ]
  },
  {
   "cell_type": "code",
   "execution_count": 9,
   "metadata": {},
   "outputs": [
    {
     "name": "stdout",
     "output_type": "stream",
     "text": [
      "jupyter                        1.0.0          py27_0  conda-forge         \n",
      "jupyter                        1.0.0          py35_0  conda-forge         \n",
      "jupyter                        1.0.0          py36_0  conda-forge         \n",
      "jupyter                        1.0.0            py_1  conda-forge         \n",
      "jupyter                        1.0.0            py_2  conda-forge         \n"
     ]
    }
   ],
   "source": [
    "%%bash\n",
    "conda search jupyter | grep conda-forge"
   ]
  },
  {
   "cell_type": "markdown",
   "metadata": {},
   "source": [
    "Conda displays a list of all packages with that name on conda-forge repository, so we know it is available.\n",
    "\n",
    "Install this package into the base environment:\n",
    "\n",
    "```bash\n",
    "conda activate\n",
    "conda install -y jupyter -c conda-forge\n",
    "```"
   ]
  },
  {
   "cell_type": "markdown",
   "metadata": {},
   "source": [
    "Check to see if the newly installed program is in this environment:"
   ]
  },
  {
   "cell_type": "code",
   "execution_count": 4,
   "metadata": {
    "lines_to_next_cell": 2
   },
   "outputs": [
    {
     "name": "stdout",
     "output_type": "stream",
     "text": [
      "jupyter                   1.0.0                    pypi_0    pypi\n",
      "jupyter-book              0.8.1                    pypi_0    pypi\n",
      "jupyter-cache             0.4.1                    pypi_0    pypi\n",
      "jupyter-sphinx            0.3.1                    pypi_0    pypi\n",
      "jupyter_client            6.1.7                      py_0    conda-forge\n",
      "jupyter_console           6.2.0                      py_0    conda-forge\n",
      "jupyter_core              4.6.3            py36h9f0ad1d_1    conda-forge\n",
      "jupyterlab_pygments       0.1.1              pyh9f0ad1d_0    conda-forge\n"
     ]
    }
   ],
   "source": [
    "%%bash\n",
    "conda list | grep jupyter"
   ]
  },
  {
   "cell_type": "markdown",
   "metadata": {},
   "source": [
    "### Create a new conda environment from file\n",
    "\n",
    "Download the file [environment.yml](https://raw.githubusercontent.com/pnavaro/big-data/master/environment.yml).\n",
    "This file contains the packages list for this course.\n",
    "\n",
    "```bash\n",
    "conda env create -f environment.yml -n big-data\n",
    "```\n",
    "\n",
    "[Conda envs documentation](https://conda.io/docs/using/envs.html)."
   ]
  },
  {
   "cell_type": "markdown",
   "metadata": {
    "slideshow": {
     "slide_type": "slide"
    }
   },
   "source": [
    "\n",
    "Activating the conda environment will change your shell’s prompt to show what virtual environment you’re using, and modify the environment so that running python will get you that particular version and installation of Python. \n",
    "<pre>\n",
    "$ conda activate big-data\n",
    "(big-data) $ python\n",
    "Python 3.6.2 (default, Jul 17 2017, 16:44:45) \n",
    "[GCC 4.2.1 Compatible Apple LLVM 8.1.0 (clang-802.0.42)] on darwin\n",
    "Type \"help\", \"copyright\", \"credits\" or \"license\" for more information.\n",
    ">>> quit()\n",
    "</pre>\n",
    "\n",
    "**You must do this everytime you open a new terminal**"
   ]
  },
  {
   "cell_type": "markdown",
   "metadata": {},
   "source": [
    "## Install the kernel for jupyter\n",
    "\n",
    "```bash\n",
    "conda run -n big-data python -m ipykernel install --user --name big-data\n",
    "```\n",
    "\n",
    "With this command you create the `big-data` kernel with python and all course dependencies.\n",
    "The cell above will give you the path to the python that runs in this notebook."
   ]
  },
  {
   "cell_type": "code",
   "execution_count": 18,
   "metadata": {},
   "outputs": [
    {
     "name": "stdout",
     "output_type": "stream",
     "text": [
      "/Users/navaro/miniconda3/envs/big-data/bin/python\n"
     ]
    }
   ],
   "source": [
    "import sys\n",
    "print(f\"{sys.executable}\")"
   ]
  },
  {
   "cell_type": "code",
   "execution_count": 19,
   "metadata": {},
   "outputs": [
    {
     "name": "stdout",
     "output_type": "stream",
     "text": [
      "Available kernels:\n",
      "  ir                    /Users/navaro/Library/Jupyter/kernels/ir\n",
      "  julia-1.5             /Users/navaro/Library/Jupyter/kernels/julia-1.5\n",
      "  smilesx               /Users/navaro/Library/Jupyter/kernels/smilesx\n",
      "  apache_toree_scala    /usr/local/share/jupyter/kernels/apache_toree_scala\n",
      "  big-data              /usr/local/share/jupyter/kernels/big-data\n",
      "  python2               /usr/local/share/jupyter/kernels/python2\n",
      "  python3               /usr/local/share/jupyter/kernels/python3\n",
      "  sagemath              /usr/local/share/jupyter/kernels/sagemath\n"
     ]
    }
   ],
   "source": [
    "%%bash\n",
    "jupyter-kernelspec list"
   ]
  }
 ],
 "metadata": {
  "jupytext": {
   "cell_metadata_json": true,
   "encoding": "# -*- coding: utf-8 -*-"
  },
  "kernelspec": {
   "display_name": "big-data",
   "language": "python",
   "name": "big-data"
  },
  "language_info": {
   "codemirror_mode": {
    "name": "ipython",
    "version": 3
   },
   "file_extension": ".py",
   "mimetype": "text/x-python",
   "name": "python",
   "nbconvert_exporter": "python",
   "pygments_lexer": "ipython3",
   "version": "3.8.0"
  }
 },
 "nbformat": 4,
 "nbformat_minor": 2
}
