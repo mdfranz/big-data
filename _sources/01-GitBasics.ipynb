{
 "cells": [
  {
   "cell_type": "markdown",
   "metadata": {
    "slideshow": {
     "slide_type": "slide"
    }
   },
   "source": [
    "# Git\n",
    "\n",
    "Git is a free and open source distributed version control system designed to handle everything from small to very large projects with speed and efficiency.\n",
    "\n",
    "Official website https://git-scm.com"
   ]
  },
  {
   "cell_type": "markdown",
   "metadata": {
    "slideshow": {
     "slide_type": "slide"
    }
   },
   "source": [
    "## GitHub\n",
    "\n",
    "- Web-based hosting service for version control using Git. \n",
    "- Offers all of the distributed version control and source code management (SCM) functionality of Git as well as adding its own features. \n",
    "- Provides access control and several collaboration features such as bug tracking, feature requests, task management, and wikis for every project.\n",
    "- GitHub is the largest host of source code in the world.\n",
    "- GitHub evolves towards a social network and offers a better visibility to your work.\n",
    "- Julia language depends heavily on GitHub. Almost all R and Python packages developers use this platform.\n",
    "\n",
    "[Gitlab.com](https://about.gitlab.com) and [Bitbucket](https://bitbucket.org) offer similar services.\n"
   ]
  },
  {
   "cell_type": "markdown",
   "metadata": {
    "slideshow": {
     "slide_type": "slide"
    }
   },
   "source": [
    "## About SCM\n",
    "\n",
    "- Records changes to a file or set of files over time.\n",
    "- You can recall specific versions later.\n",
    "- You can use it with nearly any type of file on a computer.\n",
    "- This is the better way to collaborate on the same document.\n",
    "- Every change is committed with an author and a date.\n",
    "- Figures are downloaded from [Pro Git book](http://git-scm.com/book).\n",
    "- \"Become a git guru\" tutorial (https://www.atlassian.com/git/tutorials)."
   ]
  },
  {
   "cell_type": "markdown",
   "metadata": {
    "slideshow": {
     "slide_type": "slide"
    }
   },
   "source": [
    "## Local Version Control System\n",
    "\n",
    "<img src=\"images/local.png\" alt=\"rcs\" width=\"400px\"/>\n",
    "\n",
    "- Collaboration is not really possible."
   ]
  },
  {
   "cell_type": "markdown",
   "metadata": {
    "slideshow": {
     "slide_type": "slide"
    }
   },
   "source": [
    "## Distributed Version Control Systems\n",
    "\n",
    "<img src=\"images/git.png\" alt=\"git\" width=\"300px\"/>\n",
    "\n",
    "- Clients fully mirror the repository.\n",
    "- You can collaborate with different groups of people in different ways simultaneously within the same project.\n",
    "- No need of network connection.\n",
    "- Multiple backups.\n",
    " \n",
    " "
   ]
  },
  {
   "cell_type": "markdown",
   "metadata": {
    "slideshow": {
     "slide_type": "slide"
    }
   },
   "source": [
    "## Configure Git\n",
    "\n",
    "Settings are saved on the computer for all your git repositories.\n",
    "\n",
    "```\n",
    "git config --global user.name “Prenom Nom\"\n",
    "git config --global user.email “prenom.nom@univ-rennes2.fr\"\n",
    "```"
   ]
  },
  {
   "cell_type": "markdown",
   "metadata": {
    "slideshow": {
     "slide_type": "slide"
    }
   },
   "source": [
    "## Cloning the repository\n",
    "\n",
    "```bash\n",
    "git clone ssh://svmass2/git/big-data.git\n",
    "```\n",
    "or\n",
    "```bash\n",
    "git clone https://github.com/pnavaro/big-data.git\n",
    "```"
   ]
  },
  {
   "cell_type": "markdown",
   "metadata": {
    "slideshow": {
     "slide_type": "fragment"
    }
   },
   "source": [
    "To save your work locally create a branch\n",
    "\n",
    "```bash\n",
    "git checkout -b my_branch\n",
    "```"
   ]
  },
  {
   "cell_type": "markdown",
   "metadata": {},
   "source": [
    "## Four File status in the repository\n",
    "  \n",
    "<img src=\"images/18333fig0201-tn.png\" alt=\"git\" width=\"450px\"/>"
   ]
  },
  {
   "cell_type": "markdown",
   "metadata": {
    "slideshow": {
     "slide_type": "slide"
    }
   },
   "source": [
    "## Git Workflow\n",
    "\n",
    "<img src=\"images/four_stages.png\" alt=\"git\" width=\"150px\"/>"
   ]
  },
  {
   "cell_type": "markdown",
   "metadata": {
    "slideshow": {
     "slide_type": "slide"
    }
   },
   "source": [
    "## Locally saving your modifications\n",
    "\n",
    "Get your files status"
   ]
  },
  {
   "cell_type": "code",
   "execution_count": 1,
   "metadata": {
    "slideshow": {
     "slide_type": "slide"
    }
   },
   "outputs": [
    {
     "name": "stdout",
     "output_type": "stream",
     "text": [
      "On branch master\n",
      "Your branch is up to date with 'origin/master'.\n",
      "\n",
      "Changes not staged for commit:\n",
      "  (use \"git add <file>...\" to update what will be committed)\n",
      "  (use \"git restore <file>...\" to discard changes in working directory)\n",
      "\tmodified:   01-GitBasics.ipynb\n",
      "\tmodified:   02-Installation.ipynb\n",
      "\n",
      "no changes added to commit (use \"git add\" and/or \"git commit -a\")\n"
     ]
    }
   ],
   "source": [
    "%%bash\n",
    "git status"
   ]
  },
  {
   "cell_type": "markdown",
   "metadata": {
    "lines_to_next_cell": 0,
    "slideshow": {
     "slide_type": "slide"
    }
   },
   "source": [
    "## Add the modified file to the index\n",
    "\n",
    "```bash\n",
    "git add your_notebook_copy.ipynb\n",
    "```"
   ]
  },
  {
   "cell_type": "markdown",
   "metadata": {},
   "source": [
    "## SSH key\n",
    "\n",
    "Ref : [New ssh key on GitHub](https://docs.github.com/en/github/authenticating-to-github/generating-a-new-ssh-key-and-adding-it-to-the-ssh-agent)\n",
    "\n",
    "Open Terminal or Git bash.\n",
    "\n",
    "Paste the text below, substituting in your GitHub email address.\n",
    "```bash\n",
    "ssh-keygen -t rsa -b 4096 -C \"your_email@example.com\"\n",
    "```\n",
    "This creates a new ssh key, using the provided email as a label.\n",
    "\n",
    "### Generating public/private rsa key pair.\n",
    "\n",
    "When you're prompted to \"Enter a file in which to save the key,\" press Enter. This accepts the default file location.\n",
    "Enter a file in which to save the key (/Users/you/.ssh/id_rsa): [Press enter]\n",
    "At the prompt, let it empty for no passphrase.\n",
    "\n",
    "This creates 2 files, the private key: `id_rsa`, and the public key `id_rsa.pub`.\n",
    "\n",
    "## GitHub sign up\n",
    "\n",
    "Copy the SSH key to your clipboard.\n",
    "\n",
    "```bash\n",
    "cat ~/.ssh/id_rsa.pub\n",
    "```\n",
    "\n",
    "In the upper-right corner of any page, click your profile photo, then click Settings.\n",
    "In the user settings sidebar, click SSH and GPG keys.  Click New SSH key or Add SSH key.\n",
    "\n",
    "## Initialize a git repository in a directory\n",
    "\n",
    "Create the directory `/tmp/sandbox`:\n",
    "\n",
    "```bash\n",
    "mkdir /tmp/sandbox\n",
    "cd /tmp/sandbox\n",
    "touch README.md\n",
    "echo \"# Test \" >> README.md\n",
    "echo date >> README.md\n",
    "```\n",
    "\n",
    "```bash\n",
    "ls\n",
    "```\n",
    "\n",
    "```bash\n",
    "cat README.md\n",
    "```\n",
    "\n",
    "<!-- #region -->\n",
    "```bash\n",
    "git status\n",
    "```"
   ]
  },
  {
   "cell_type": "markdown",
   "metadata": {},
   "source": [
    "```bash\n",
    "git init\n",
    "git status\n",
    "```"
   ]
  },
  {
   "cell_type": "markdown",
   "metadata": {},
   "source": [
    "## Ajouter les fichiers au dépôt git"
   ]
  },
  {
   "cell_type": "markdown",
   "metadata": {},
   "source": [
    "```bash\n",
    "git add README.md\n",
    "git status\n",
    "```"
   ]
  },
  {
   "cell_type": "markdown",
   "metadata": {},
   "source": [
    "```bash\n",
    "git commit -m 'Initial project version'\n",
    "```"
   ]
  },
  {
   "cell_type": "markdown",
   "metadata": {},
   "source": [
    "You must use `add` command for a new file or amodified one."
   ]
  },
  {
   "cell_type": "markdown",
   "metadata": {},
   "source": [
    "```bash\n",
    "git add test.md\n",
    "```"
   ]
  },
  {
   "cell_type": "markdown",
   "metadata": {},
   "source": [
    "```bash\n",
    "git status\n",
    "```"
   ]
  },
  {
   "cell_type": "markdown",
   "metadata": {},
   "source": [
    "## Commit\n",
    "\n",
    "```bash\n",
    "git commit -m 'Create the file touch.md'\n",
    "```"
   ]
  },
  {
   "cell_type": "markdown",
   "metadata": {},
   "source": [
    "```bash\n",
    "git status\n",
    "```"
   ]
  },
  {
   "cell_type": "markdown",
   "metadata": {},
   "source": [
    "## Pull"
   ]
  },
  {
   "cell_type": "markdown",
   "metadata": {},
   "source": [
    "```bash\n",
    "git fetch origin\n",
    "```"
   ]
  },
  {
   "cell_type": "markdown",
   "metadata": {},
   "source": [
    "```bash\n",
    "git branch -a\n",
    "```"
   ]
  },
  {
   "cell_type": "markdown",
   "metadata": {},
   "source": [
    "```bash\n",
    "git status\n",
    "```"
   ]
  },
  {
   "cell_type": "markdown",
   "metadata": {},
   "source": [
    "## Push"
   ]
  },
  {
   "cell_type": "markdown",
   "metadata": {},
   "source": [
    "```bash\n",
    "git push origin master\n",
    "```"
   ]
  },
  {
   "cell_type": "markdown",
   "metadata": {},
   "source": [
    "## Merge the remote branch with the local branch\n",
    "\n",
    "```bash\n",
    "git fetch origin\n",
    "git merge origin/master\n",
    "```\n",
    "\n",
    "```bash\n",
    "git pull origin master\n",
    "```\n",
    "\n",
    "```bash\n",
    "git diff origin/master\n",
    "```\n"
   ]
  },
  {
   "cell_type": "markdown",
   "metadata": {
    "lines_to_next_cell": 2
   },
   "source": [
    "## Solve conflits\n",
    "\n",
    "```bash\n",
    "git mergetool\n",
    "```\n",
    "\n",
    "- Cancel uncommited modifications on a file\n",
    "\n",
    "```bash\n",
    "git checkout mon_fichier_modif\n",
    "```\n",
    "\n",
    "- Call all modification\n",
    "\n",
    "```bash\n",
    "git reset --hard\n",
    "```\n"
   ]
  },
  {
   "cell_type": "markdown",
   "metadata": {},
   "source": [
    "\n"
   ]
  },
  {
   "cell_type": "markdown",
   "metadata": {},
   "source": [
    "## GitHub repository\n",
    "\n",
    "Create the `sandox` repository on your GitHub account\n",
    "- Click on '+' on top right of the page and select \"New repository\"\n",
    "- Repository name = \"sandbox\"\n",
    "- Don't change default options\n",
    "- Click on \"Create repository\"\n",
    "\n",
    "```bash\n",
    "git remote add origin git@github.com:your_login/sandbox.git\n",
    "git fetch origin\n",
    "```\n",
    "\n",
    "<font color=\"red\">Don't forget to replace `your_login`</font>\n",
    "\n",
    "```bash\n",
    "git status\n",
    "```"
   ]
  },
  {
   "cell_type": "markdown",
   "metadata": {},
   "source": [
    "## \"Push\"\n",
    "\n",
    "By default you begin to work on the master branch:"
   ]
  },
  {
   "cell_type": "markdown",
   "metadata": {},
   "source": [
    "```bash\n",
    "git branch\n",
    "```"
   ]
  },
  {
   "cell_type": "markdown",
   "metadata": {},
   "source": [
    "\"Push\" your file on GitHub, option flag `-u` could be necessary for the first push."
   ]
  },
  {
   "cell_type": "markdown",
   "metadata": {
    "lines_to_next_cell": 2
   },
   "source": [
    "```bash\n",
    "git push -u origin master\n",
    "```"
   ]
  },
  {
   "cell_type": "markdown",
   "metadata": {},
   "source": [
    "## Display all branches"
   ]
  },
  {
   "cell_type": "markdown",
   "metadata": {},
   "source": [
    "```bash\n",
    "git branch -a\n",
    "```"
   ]
  },
  {
   "cell_type": "markdown",
   "metadata": {},
   "source": [
    "## Créer une branche\n",
    "\n",
    "Permet de \"figer\" une version personnelle locale sur laquelle vous pouvez travailler sans modifier la branche principale \"master\"."
   ]
  },
  {
   "cell_type": "markdown",
   "metadata": {},
   "source": [
    "```bash\n",
    "git branch mabranche\n",
    "git checkout mabranche\n",
    "```"
   ]
  },
  {
   "cell_type": "markdown",
   "metadata": {},
   "source": [
    "```bash\n",
    "git branch\n",
    "```"
   ]
  },
  {
   "cell_type": "markdown",
   "metadata": {},
   "source": [
    "Des fichiers peuvent être différents ou meme inexsitants dans deux branches distinctes mais ils se trouveront au même endroit dans le système de fichiers."
   ]
  },
  {
   "cell_type": "markdown",
   "metadata": {},
   "source": [
    "## Edit and modify the README file"
   ]
  },
  {
   "cell_type": "markdown",
   "metadata": {},
   "source": [
    "```bash\n",
    "date >> README.md\n",
    "```"
   ]
  },
  {
   "cell_type": "markdown",
   "metadata": {},
   "source": [
    "```bash\n",
    "git status\n",
    "```"
   ]
  },
  {
   "cell_type": "markdown",
   "metadata": {},
   "source": [
    "```bash\n",
    "git diff\n",
    "```"
   ]
  },
  {
   "cell_type": "markdown",
   "metadata": {},
   "source": [
    "## Commit the changes"
   ]
  },
  {
   "cell_type": "markdown",
   "metadata": {},
   "source": [
    "```bash\n",
    "git add README.md\n",
    "```"
   ]
  },
  {
   "cell_type": "markdown",
   "metadata": {},
   "source": [
    "```bash\n",
    "git status\n",
    "```"
   ]
  },
  {
   "cell_type": "markdown",
   "metadata": {},
   "source": [
    "```bash\n",
    "git commit -m 'Add today date in README'\n",
    "```"
   ]
  },
  {
   "cell_type": "markdown",
   "metadata": {},
   "source": [
    "## Commit\n",
    "\n",
    "![index1](images/index1.png)"
   ]
  },
  {
   "cell_type": "markdown",
   "metadata": {},
   "source": [
    "## Fast commit\n",
    "![index2](images/index2.png)"
   ]
  },
  {
   "cell_type": "markdown",
   "metadata": {},
   "source": [
    "## Share your modifications\n",
    "\n",
    "### Option 1 : merge master branch and push it"
   ]
  },
  {
   "cell_type": "markdown",
   "metadata": {},
   "source": [
    "```bash\n",
    "git checkout master\n",
    "git merge mabranche\n",
    "git push origin master\n",
    "```"
   ]
  },
  {
   "cell_type": "markdown",
   "metadata": {},
   "source": [
    "## Share your contributions\n",
    "\n",
    "\n",
    "## Option 2 : Push your branch "
   ]
  },
  {
   "cell_type": "markdown",
   "metadata": {},
   "source": [
    "```bash\n",
    "git checkout mabranche\n",
    "git push origin mabranche\n",
    "```"
   ]
  },
  {
   "cell_type": "markdown",
   "metadata": {},
   "source": [
    "## Synchronize the repository"
   ]
  },
  {
   "cell_type": "markdown",
   "metadata": {},
   "source": [
    "```bash\n",
    "git checkout master\n",
    "git fetch origin\n",
    "git merge origin/master\n",
    "```"
   ]
  },
  {
   "cell_type": "markdown",
   "metadata": {},
   "source": [
    "```bash\n",
    "git checkout mabranche\n",
    "git merge master\n",
    "```"
   ]
  },
  {
   "cell_type": "markdown",
   "metadata": {},
   "source": [
    "Si votre branche locale n'est pas présente sur le serveur, vous pouvez utiliser `rebase` à la place de `merge`. Cette opération permet de récrire l'historique en datant vos modifications postérieures à la dernière modification de la branche master."
   ]
  },
  {
   "cell_type": "markdown",
   "metadata": {},
   "source": [
    "## Cycle \n",
    "\n",
    "![Cycle](images/git_cycle.png)"
   ]
  },
  {
   "cell_type": "markdown",
   "metadata": {},
   "source": [
    "## Développement pour garantir la stabibité\n",
    "\n",
    "![Branches](images/lr-branches-2.png)"
   ]
  },
  {
   "cell_type": "markdown",
   "metadata": {},
   "source": [
    "## Stash\n",
    "\n",
    "Use git stash when you want to record the current state of the working directory and the index, but want to go back to a clean working directory. The command saves your local modifications away and reverts the working directory to match the HEAD commit."
   ]
  },
  {
   "cell_type": "markdown",
   "metadata": {},
   "source": [
    "```bash\n",
    "git stash\n",
    "git stash show\n",
    "```"
   ]
  },
  {
   "cell_type": "markdown",
   "metadata": {},
   "source": [
    "### Apply last `stash`"
   ]
  },
  {
   "cell_type": "markdown",
   "metadata": {},
   "source": [
    "```bash\n",
    "git stash pop\n",
    "```"
   ]
  },
  {
   "cell_type": "markdown",
   "metadata": {},
   "source": [
    "### Delete the last `stash`"
   ]
  },
  {
   "cell_type": "markdown",
   "metadata": {},
   "source": [
    "```bash\n",
    "git stash drop\n",
    "```"
   ]
  },
  {
   "cell_type": "markdown",
   "metadata": {},
   "source": [
    "## Pourquoi Git ?\n",
    "\n",
    "- Tracer et controler les modifications dans un logiciel.\n",
    "- Branches : Développement dédié pouvant fonctionner en paralléle.\n",
    "- Tout est local : Git est rapide.\n",
    "- Des sauvegardes trés nombreuses.\n",
    "- Cette distinction local-distant offre plus de sécurité\n",
    "- Le mécanisme des `pull request` favorise la relecture et est une garantie supplémentaire de stabilité."
   ]
  },
  {
   "cell_type": "markdown",
   "metadata": {},
   "source": [
    "## Pourquoi pas\n",
    "\n",
    "- Difficile à apprendre pour les utilisateurs de cvs et subversion qui sont moins puissants mais plus simples et souvent suffisants dans beaucoup de cas.\n",
    "- Syntaxe en ligne de commande un peu folle et parfois confuse.\n",
    "- Il faut parfois enchainer beaucoup d'instructions pour des opérations assez simples.\n",
    "- L'historique créé par git est parfois étrange, certaines modifications peuvent changer d'auteur.\n",
    "- On peut détruire le dépôt distant involontairement.\n",
    "- Offre beaucoup de confort au responsable de la maintenance du code au détriment des contributeurs."
   ]
  },
  {
   "cell_type": "markdown",
   "metadata": {},
   "source": [
    "## Quelques commandes utiles\n",
    "\n",
    "- Quels fichiers différent dans deux branches distinctes ?"
   ]
  },
  {
   "cell_type": "markdown",
   "metadata": {},
   "source": [
    "```bash\n",
    "git diff --name-status master..mabranche\n",
    "```"
   ]
  },
  {
   "cell_type": "markdown",
   "metadata": {},
   "source": [
    "- Comparer la version sur la branche principale avec une autre branche"
   ]
  },
  {
   "cell_type": "markdown",
   "metadata": {},
   "source": [
    "```bash\n",
    "git diff mabranche master -- intro.md\n",
    "```"
   ]
  },
  {
   "cell_type": "markdown",
   "metadata": {},
   "source": [
    "## .gitignore\n",
    "\n",
    "Si votre dépôt contient un fichier `.gitignore` avec une liste de fichiers, les modifications de ces fichiers seront ignorés par git. Je conseille de supprimer ces fichiers de l'historique avant de les ignorer.\n",
    "\n",
    "- Pour effacer tous les fichiers ignorés (à faire après un commit)"
   ]
  },
  {
   "cell_type": "markdown",
   "metadata": {
    "lines_to_next_cell": 2
   },
   "source": [
    "```bash\n",
    "git clean -xdf\n",
    "```"
   ]
  },
  {
   "cell_type": "markdown",
   "metadata": {
    "lines_to_next_cell": 0
   },
   "source": [
    "## Ignorer tous les changements et revenir au point de départ\n",
    "\n",
    "- Sur un fichier"
   ]
  },
  {
   "cell_type": "markdown",
   "metadata": {
    "lines_to_next_cell": 0
   },
   "source": [
    "```bash\n",
    "git checkout README.md\n",
    "```"
   ]
  },
  {
   "cell_type": "markdown",
   "metadata": {},
   "source": [
    "- Pour revenir au point de départ"
   ]
  },
  {
   "cell_type": "markdown",
   "metadata": {
    "lines_to_next_cell": 2
   },
   "source": [
    "```bash\n",
    "git reset --hard\n",
    "```"
   ]
  },
  {
   "cell_type": "markdown",
   "metadata": {},
   "source": [
    "## Utiliser git plus facilement\n",
    "\n",
    "- [GitHub Desktop](https://desktop.github.com/)\n",
    "- [Sourcetree](https://fr.atlassian.com/software/sourcetree)\n",
    "- [GitKraken](https://www.gitkraken.com/)\n",
    "- [Fork](https://git-fork.com)\n",
    "- [Plugin RStudio](https://www.rstudio.com/)\n",
    "- [Plugin Eclipse](https://www.eclipse.org/downloads/)\n",
    "- [Produits JetBrains](https://www.jetbrains.com/)"
   ]
  },
  {
   "cell_type": "markdown",
   "metadata": {
    "slideshow": {
     "slide_type": "fragment"
    }
   },
   "source": [
    "Checking which files are ready to be committed."
   ]
  },
  {
   "cell_type": "code",
   "execution_count": null,
   "metadata": {
    "slideshow": {
     "slide_type": "fragment"
    }
   },
   "outputs": [],
   "source": [
    "%%bash\n",
    "git status"
   ]
  },
  {
   "cell_type": "markdown",
   "metadata": {
    "slideshow": {
     "slide_type": "slide"
    }
   },
   "source": [
    "Now save your work, the branch is local.\n",
    "\n",
    "```bash\n",
    "git commit -m 'Some modifications'\n",
    "```"
   ]
  },
  {
   "cell_type": "markdown",
   "metadata": {
    "slideshow": {
     "slide_type": "slide"
    }
   },
   "source": [
    "## Updating from the Repository\n",
    "\n",
    "If the master branch has changed. To get all new updates :"
   ]
  },
  {
   "cell_type": "code",
   "execution_count": null,
   "metadata": {
    "attributes": {
     "classes": [
      "git"
     ],
     "id": ""
    },
    "slideshow": {
     "slide_type": "fragment"
    }
   },
   "outputs": [],
   "source": [
    "%%bash\n",
    "git pull origin master"
   ]
  },
  {
   "cell_type": "markdown",
   "metadata": {
    "slideshow": {
     "slide_type": "slide"
    }
   },
   "source": [
    "## Solve conflicts\n",
    "\n",
    "- If you have some conflicts, no problem just do :\n",
    "\n",
    "```\n",
    "git checkout notebook.ipynb\n",
    "```\n",
    "\n",
    "It will give you back the original version of notebook.ipynb\n",
    "\n",
    "- If you have big troubles, you can do\n",
    "\n",
    "```\n",
    "git reset --hard\n",
    "```\n",
    "\n",
    "Be careful with this last command, you remove uncommited changes.\n"
   ]
  },
  {
   "cell_type": "markdown",
   "metadata": {
    "slideshow": {
     "slide_type": "slide"
    }
   },
   "source": [
    "## Git through IDE\n",
    "\n",
    "- Install bash-completion and source git-prompt.sh.\n",
    "- Use Gui tools:\n",
    "\t- [GitHub Desktop](https://desktop.github.com/)\n",
    "\t- [Sourcetree](https://fr.atlassian.com/software/sourcetree)\n",
    "\t- [GitKraken](https://www.gitkraken.com/)\n",
    "- VCS plugin of IDE\n",
    "\t- [RStudio](https://www.rstudio.com/)\n",
    "\t- [Eclipse](https://www.eclipse.org/downloads/)\n",
    "\t- [JetBrains](https://www.jetbrains.com/)"
   ]
  },
  {
   "cell_type": "markdown",
   "metadata": {},
   "source": [
    "## About Dropbox\n",
    "\n",
    "- Dropbox versioning is not free.\n",
    "- Only keep your edits over a period of 30 days.\n",
    "- Privacy and Security ?\n",
    "- No differences display.\n",
    "- The service have the right to delete information from free and inactive accounts.\n",
    "- Users are not allowed to perform encryption."
   ]
  },
  {
   "cell_type": "markdown",
   "metadata": {},
   "source": [
    "## New products based on a git server for collaborating writing.\n",
    "\n",
    "- ShareLaTeX (https://fr.sharelatex.com)\n",
    "- Authorea (https://www.authorea.com)\n",
    "- Overleaf (https://www.overleaf.com)\n",
    "- PLMLateX (https://plmlatex.math.cnrs.fr/)"
   ]
  },
  {
   "cell_type": "markdown",
   "metadata": {},
   "source": [
    "## About Version Control\n",
    "\n",
    "- Records changes to a file or set of files over time.\n",
    "- You can recall specific versions later.\n",
    "- You can use it with nearly any type of file on a computer.\n",
    "- This is the better way to collaborate on the same document.\n",
    "- Every change is committed with an author and a date.\n",
    "- Figures are downloaded from [Pro Git book](http://git-scm.com/book).\n",
    "- \"Become a git guru\" tutorial (https://www.atlassian.com/git/tutorials)."
   ]
  },
  {
   "cell_type": "markdown",
   "metadata": {},
   "source": [
    "## Local Version Control Systems\n",
    "\n",
    "![Local](images/local.png){width=50%}\n",
    "\n",
    "- One of the most saving popular was a system called RCS\n",
    "- Available with the Developer Tools with Mac OS X\n",
    "- Collaboration is not really possible."
   ]
  },
  {
   "cell_type": "markdown",
   "metadata": {},
   "source": [
    "## Centralized Version Control Systems\n",
    "\n",
    "![CVS](images/cvs.png){width=50%}\n",
    "\n",
    "- Clients check out files from a central place.\n",
    "- You know what everyone else on the project is doing\n",
    "- A single server contains all the versioned files.\n",
    "- For many years, this has been the standard (CVS, SVN).\n",
    "- You always need network connection.\n",
    "- If the server is corrupted, with no backup, you lose everything !"
   ]
  },
  {
   "cell_type": "markdown",
   "metadata": {},
   "source": [
    "## Distributed Version Control Systems\n",
    "\n",
    "![Git](images/git.png){width=30%}\n",
    "\n",
    "- Clients fully mirror the repository.\n",
    "- You can collaborate with different groups of people in different ways simultaneously within the same project.\n",
    "- No need of network connection.\n",
    "- Multiple backups.\n",
    " "
   ]
  },
  {
   "cell_type": "markdown",
   "metadata": {},
   "source": [
    "## Configure Git\n",
    "\n",
    "Install git on windows https://gitforwindows.org\n",
    "\n",
    "```bash\n",
    "$ git config --global user.name \"Pierre Navaro\"\n",
    "$ git config --global user.email \"pierre.navaro@univ-rennes1.fr\"\n",
    "$ git config --global core.editor mvim\n",
    "$ git config --global merge.tool opendiff\n",
    "```"
   ]
  },
  {
   "cell_type": "markdown",
   "metadata": {},
   "source": [
    "```bash\n",
    "$ git config --list\n",
    "   user.name=Pierre Navaro\n",
    "   user.email=pierre.navaro@univ-rennes1.fr\n",
    "   core.editor=mvim\n",
    "   merge.tool=opendiff\n",
    "```\n",
    "\n",
    "Settings are saved on the computer for all your git repositories."
   ]
  },
  {
   "cell_type": "markdown",
   "metadata": {},
   "source": [
    "## Four File status in the repository\n",
    "\n",
    "![Status](images/18333fig0201-tn.png){width=50%}"
   ]
  },
  {
   "cell_type": "markdown",
   "metadata": {},
   "source": [
    "## Initializing a repository in an existing directory\n",
    "\n",
    "```\n",
    "$ ls article\n",
    "\tdocument.tex\tfigure.png\n",
    "$ git init\n",
    "\tInitialized empty Git repository in /Users/navaro/article/.git/\n",
    "$ git status\n",
    "\tOn branch master\n",
    "\tInitial commit\n",
    "\tUntracked files:\n",
    " \t (use \"git add <file>...\" to include in what will be committed)\n",
    "\n",
    "\t\tdocument.tex\n",
    "\t\tfigure.png\n",
    "\n",
    "\tnothing added to commit but untracked files present\n",
    "\t(use \"git add\" to track)\n",
    "```"
   ]
  },
  {
   "cell_type": "markdown",
   "metadata": {},
   "source": [
    "## Adding files in your repository\n",
    "\n",
    "```\n",
    "$ git add document.tex\n",
    "$ git add figure.png\n",
    "$ git status\n",
    "\tOn branch master\n",
    "\tInitial commit\n",
    "\tChanges to be committed:\n",
    " \t (use \"git rm --cached <file>...\" to unstage)\n",
    "\n",
    "\t\tnew file:   document.tex\n",
    "\t\tnew file:   figure.png\n",
    "\n",
    "$ git commit -m 'Initial project version'}\n",
    "\t[master (root-commit) 9d23b49] Initial project version\n",
    " \t2 files changed, 0 insertions(+), 0 deletions(-)\n",
    " \tcreate mode 100644 document.tex\n",
    " \tcreate mode 100644 figure.png\n",
    "```"
   ]
  },
  {
   "cell_type": "markdown",
   "metadata": {},
   "source": [
    "## Cloning a existing repository\n",
    "\n",
    "```\n",
    "$ git clone git@github.com:pnavaro/irmar-git-project.git\n",
    "\tCloning into 'projet'...\n",
    "\tInitialized empty Git repository in /git/repositories/plm/navaro/projet.git/\n",
    "\twarning: You appear to have cloned an empty repository.\n",
    "\tChecking connectivity... done.\n",
    "```"
   ]
  },
  {
   "cell_type": "markdown",
   "metadata": {},
   "source": [
    "## Add and commit your files.\n",
    "\n",
    "```\n",
    "$ cd sandbox/your_name\n",
    "$ touch document.tex figure.png\n",
    "$ git add document.tex figure.png\n",
    "$ git commit -m 'Add my contribution to the project'\n",
    "```\n",
    "\n",
    "Your files are NOT present on the server!\n",
    "\n",
    "~~~\n",
    "$ git status\n",
    "\tOn branch master\n",
    "\tYour branch is ahead of 'origin/master' by 1 commit.\n",
    "  \t(use \"git push\" to publish your local commits)\n",
    "~~~"
   ]
  },
  {
   "cell_type": "markdown",
   "metadata": {},
   "source": [
    "## Synchronizing your files on the server\n",
    "\n",
    "By default you are on the \"master\" branch.\n",
    "\n",
    "```\n",
    "$ git branch\n",
    "\t* master\n",
    "```\n",
    "Upload your files to the server:\n",
    "\n",
    "```\n",
    "$ git push origin master\n",
    "\t...\n",
    "\tTo https://github.com/pnavaro/irmar-git-project\n",
    "   \t\tae2ce3c..ed796ea  master -> master\n",
    "```"
   ]
  },
  {
   "cell_type": "markdown",
   "metadata": {},
   "source": [
    "## Git Workflow\n",
    "![4-stages](images/four_stages.png)"
   ]
  },
  {
   "cell_type": "markdown",
   "metadata": {},
   "source": [
    "## Cloning an Existing Directory\n",
    "Now i change my computer.\n",
    "\n",
    "```\n",
    "$ git clone git@github.com:pnavaro/irmar-git-project.git\n",
    "\tCloning into 'irmar-git-project'...\n",
    "$ cd irmar-git-project\n",
    "$ git log\n",
    "\tcommit ed796ea1cbd15c8f7ec040b303c950569527012c (HEAD -> master, origin/master, origin/HEAD)\n",
    "\tAuthor: Pierre Navaro <pierre.navaro@univ-rennes1.fr>\n",
    "\tDate:   Thu Apr 19 13:26:01 2018 +0200\n",
    "\n",
    "    \tAdd my contribution to the project\n",
    "```"
   ]
  },
  {
   "cell_type": "markdown",
   "metadata": {},
   "source": [
    "## Display and Create a Branch\n",
    "\n",
    "Display all branches :\n",
    "\n",
    "```\n",
    "$ git branch -a\n",
    "\t* master\n",
    "  \t\tremotes/origin/HEAD -> origin/master\n",
    "  \t\tremotes/origin/master\n",
    "```\n",
    "\n",
    "Create your own branch and switch:\n",
    "\n",
    "```\n",
    "$ git branch pierre-branch\n",
    "$ git checkout pierre-branch\n",
    "```\n",
    "\n",
    "Switched to branch 'pierre-branch'\n",
    "\n",
    "```\n",
    "$ git branch\n",
    "  \tmaster\n",
    "\t* pierre-branch\n",
    "```\n",
    "\n",
    "Files could be different or non existant between branches but are at the same place on the file system"
   ]
  },
  {
   "cell_type": "markdown",
   "metadata": {},
   "source": [
    "## Contributing\n",
    "\n",
    "Modify the file document.tex\n",
    "\n",
    "```\n",
    "$ git status\n",
    "\tOn branch pierre-branch\n",
    "\tChanges not staged for commit:\n",
    " \t (use \"git add <file>...\" to update what will be committed)\n",
    " \t (use \"git checkout -- <file>...\" to discard changes in working directory)\n",
    "\t\tmodified:   document.tex\n",
    "\tno changes added to commit (use \"git add\" and/or \"git commit -a\")\n",
    "\n",
    "$ git diff\n",
    "\tdiff --git a/document.tex b/document.tex\n",
    "\tindex a608114..e69de29 100644\n",
    "\t--- a/document.tex\n",
    "\t+++ b/document.tex\n",
    "\t@@ -1,3 +0,0 @@\n",
    "\t-Exemple Git pour la journee de rentree\n",
    "```"
   ]
  },
  {
   "cell_type": "markdown",
   "metadata": {},
   "source": [
    "## Locally saving your modifications\n",
    "\n",
    "```\n",
    "$ git add document.tex\n",
    "```\n",
    "Checking which files are ready to be committed.\n",
    "\n",
    "```\n",
    "$ git status\n",
    "On branch pierre-branch\n",
    "Changes to be committed:\n",
    "  (use \"git reset HEAD <file>...\" to unstage)\n",
    "\tmodified:   document.tex\n",
    "```\n",
    "Now save your work, the branch is local.\n",
    "\n",
    "```\n",
    "$ git commit -m 'Some modifications'\n",
    "[pierre-branch 8c6bf81] Some modification is available\n",
    " 1 file changed, 3 insertions(+)\n",
    "```"
   ]
  },
  {
   "cell_type": "markdown",
   "metadata": {},
   "source": [
    "## Fast commit\n",
    "\n",
    "![index1](images/index1.png){width=50%}\n",
    "![index2](images/index2.png){width=50%}\n",
    "\n",
    "Use it carefully!"
   ]
  },
  {
   "cell_type": "markdown",
   "metadata": {},
   "source": [
    "## Share your work and make it available on the server\n",
    "\n",
    "### Option 1 : Merge to the main branch and push\n",
    "\n",
    "```\n",
    "$ git checkout master\n",
    "\n",
    "\tSwitched to branch 'master'\n",
    "\tYour branch is up-to-date with 'origin/master'.\n",
    "\n",
    "$ git merge pierre-branch\n",
    "\n",
    "\tUpdating 7cef21a..8c6bf81\n",
    "\tFast-forward\n",
    " \tdocument.tex | 3 +++\n",
    " \t1 file changed, 3 insertions(+)\n",
    "\n",
    "$ git push origin master\n",
    "\n",
    "\tCounting objects: 3, done.\n",
    "\t...\n",
    "```"
   ]
  },
  {
   "cell_type": "markdown",
   "metadata": {},
   "source": [
    "## Share your work and make it available on the server\n",
    "\n",
    "### Option 2 : Push your branch to the server\n",
    "\n",
    "```\n",
    "$ git checkout pierre-branch\n",
    "\n",
    "\tSwitched to branch 'pierre-branch'\n",
    "\n",
    "$ git push origin pierre-branch\n",
    "\n",
    "$ git branch -a\n",
    "  \tmaster\n",
    "\t* pierre-branch\n",
    "  \tremotes/origin/HEAD -> origin/master\n",
    "  \tremotes/origin/master\n",
    "  \tremotes/origin/pierre-branch\n",
    "```"
   ]
  },
  {
   "cell_type": "markdown",
   "metadata": {},
   "source": [
    "## Updating from the Repository\n",
    "\n",
    "The master branch has changed. To get all new updates :\n",
    "\n",
    "```git\n",
    "$ git checkout master     \n",
    "\tSwitched to branch 'master'\n",
    "\n",
    "$ git fetch origin         \n",
    "\tdownload changes from repository\n",
    "\n",
    "$ git merge origin/master  \n",
    "\tupdate local branch master\n",
    "\n",
    "$ git checkout pierre-branch\n",
    "\tSwitched to branch 'pierre-branch'\n",
    "\n",
    "$ git merge master          \n",
    "\tupdate your branch\n",
    "```\n",
    "If you did not push your branch, use `rebase` instead of `merge`"
   ]
  },
  {
   "cell_type": "markdown",
   "metadata": {},
   "source": [
    "## Merge conflicts\n",
    "\n",
    "If you have conflict, no problem just do :\n",
    "\n",
    "```\n",
    "$ git mergetool\n",
    "```\n",
    "\n",
    "A nice editor helps you to choose the right version. Close and :\n",
    "\n",
    "```\n",
    "$ git commit -m 'Update and fixed conflicts'\n",
    "```"
   ]
  },
  {
   "cell_type": "markdown",
   "metadata": {},
   "source": [
    "## Git cycle on a single branch\n",
    "\n",
    "![Cycle](images/git_cycle.png)"
   ]
  },
  {
   "cell_type": "markdown",
   "metadata": {},
   "source": [
    "## Progressive-stability branching\n",
    "\n",
    "![Branches](images/lr-branches-2.png)"
   ]
  },
  {
   "cell_type": "markdown",
   "metadata": {},
   "source": [
    "## Stash\n",
    "Use itwhen you want to record the current state of the working directory and the index.\n",
    "\n",
    "- Modify a file in the repository and save it with\n",
    "\n",
    "```\n",
    "$ git stash\n",
    "```\n",
    "- You can display saved changes with\n",
    "\n",
    "```\n",
    "$ git stash show\n",
    "```\n",
    "\n",
    "- Apply the modifications with\n",
    "\n",
    "```\n",
    "git stash pop (or apply)\n",
    "```\n",
    "\n",
    "or drop them with\n",
    "\n",
    "```\n",
    "$ git stash drop\n",
    "```"
   ]
  },
  {
   "cell_type": "markdown",
   "metadata": {},
   "source": [
    "## Why Git?\n",
    "\n",
    "- Tracking and controlling changes in the software.\n",
    "- Branches : Frictionless Context Switching, Role-Based Codelines.\n",
    "- Everything is local : Git is fast.\n",
    "- Multiple Backups.\n",
    "- It's impossible to get anything out of Git other than the exact bits you put in.\n",
    "- Staging Area : intermediate index between working directory and repository.\n",
    "- Pull-request is a nice feature for code reviewing and protect the stable branch."
   ]
  },
  {
   "cell_type": "markdown",
   "metadata": {},
   "source": [
    "## Why not\n",
    "\n",
    "- Sometimes confusing for new users coming from CVS or subversion.\n",
    "- Crazy command line syntax.\n",
    "- Simple tasks need many commands.\n",
    "- Git history is often strange.\n",
    "- It is possible to destroy the repository on the remote server.\n",
    "- Power for the maintainer, at the expense of the contributor."
   ]
  },
  {
   "cell_type": "markdown",
   "metadata": {},
   "source": [
    "## Some useful commands\n",
    "\n",
    "- Showing which files have changed between git branches\n",
    "\n",
    "```\n",
    "$ git diff --name-status master..mybranch\n",
    "```\n",
    "- Compare the master version of a file to my current branch version\n",
    "\n",
    "```\n",
    "$ git diff mybranch master -- myfile.F90\n",
    "```\n",
    "\n",
    "- Remove all ignored files (do it after a commit)\n",
    "\n",
    "```\n",
    "$ git clean -xdf\n",
    "```\n",
    "\n",
    "- To revert to a previous commit, ignoring any changes:\n",
    "\n",
    "```\n",
    "$ git checkout myfile.cpp\n",
    "$ git reset --hard\n",
    "```"
   ]
  },
  {
   "cell_type": "markdown",
   "metadata": {},
   "source": [
    "## Git through IDE\n",
    "\n",
    "- Install bash-completion and source git-prompt.sh.\n",
    "- Use Gui tools:\n",
    "\t- [GitHub Desktop](https://desktop.github.com/)\n",
    "\t- [Sourcetree](https://fr.atlassian.com/software/sourcetree)\n",
    "\t- [GitKraken](https://www.gitkraken.com/)\n",
    "- VCS plugin of IDE\n",
    "\t- [RStudio](https://www.rstudio.com/)\n",
    "\t- [Eclipse](https://www.eclipse.org/downloads/)\n",
    "\t- [TeXstudio](www.texstudio.org/)\n",
    "\t- [JetBrains](https://www.jetbrains.com/)"
   ]
  },
  {
   "cell_type": "code",
   "execution_count": null,
   "metadata": {},
   "outputs": [],
   "source": []
  }
 ],
 "metadata": {
  "jupytext": {
   "cell_metadata_json": true,
   "encoding": "# -*- coding: utf-8 -*-"
  },
  "kernelspec": {
   "display_name": "big-data",
   "language": "python",
   "name": "big-data"
  },
  "language_info": {
   "codemirror_mode": {
    "name": "ipython",
    "version": 3
   },
   "file_extension": ".py",
   "mimetype": "text/x-python",
   "name": "python",
   "nbconvert_exporter": "python",
   "pygments_lexer": "ipython3",
   "version": "3.8.0"
  }
 },
 "nbformat": 4,
 "nbformat_minor": 2
}
