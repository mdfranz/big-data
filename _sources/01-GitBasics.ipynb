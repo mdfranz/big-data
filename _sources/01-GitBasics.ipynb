{
 "cells": [
  {
   "cell_type": "markdown",
   "metadata": {},
   "source": [
    "# Git basics\n",
    "\n",
    "## About Dropbox\n",
    "\n",
    "- Dropbox versioning is not free.\n",
    "- Only keep your edits over a period of 30 days.\n",
    "- Privacy and Security ?\n",
    "- No differences display.\n",
    "- The service have the right to delete information from free and inactive accounts.\n",
    "- Users are not allowed to perform encryption."
   ]
  },
  {
   "cell_type": "markdown",
   "metadata": {
    "slideshow": {
     "slide_type": "slide"
    }
   },
   "source": [
    "## About version control\n",
    "\n",
    "- Records changes to a file or set of files over time.\n",
    "- You can recall specific versions later.\n",
    "- You can use it with nearly any type of file on a computer.\n",
    "- This is the better way to collaborate on the same document."
   ]
  },
  {
   "cell_type": "markdown",
   "metadata": {},
   "source": [
    "## Centralized Version Control Systems\n",
    "\n",
    "<img src=\"images/cvs.png\" width=400>\n",
    "\n",
    "- Clients check out files from a central place.\n",
    "- You know what everyone else on the project is doing\n",
    "- A single server contains all the versioned files.\n",
    "- For many years, this has been the standard (CVS, SVN).\n",
    "- You always need network connection.\n",
    "- If the server is corrupted, with no backup, you lose everything !"
   ]
  },
  {
   "cell_type": "markdown",
   "metadata": {},
   "source": [
    "## Git\n",
    "\n",
    "Git is a free and open source distributed version control system designed to handle everything from small to very large projects with speed and efficiency.\n",
    "\n",
    "Official website https://git-scm.com\n",
    "\n",
    "**New products based on a git server for collaborating writing.**\n",
    "\n",
    "- ShareLaTeX (https://fr.sharelatex.com)\n",
    "- Authorea (https://www.authorea.com)\n",
    "- Overleaf (https://www.overleaf.com)\n",
    "- PLMLateX (https://plmlatex.math.cnrs.fr/)"
   ]
  },
  {
   "cell_type": "markdown",
   "metadata": {
    "slideshow": {
     "slide_type": "slide"
    }
   },
   "source": [
    "## GitHub\n",
    "\n",
    "- Web-based hosting service for version control using Git. \n",
    "- Offers all of the distributed version control and source code management (SCM) functionality of Git as well as adding its own features. \n",
    "- Provides access control and several collaboration features such as bug tracking, feature requests, task management, and wikis for every project.\n",
    "- GitHub is the largest host of source code in the world.\n",
    "- GitHub evolves towards a social network and offers a better visibility to your work.\n",
    "- Julia language depends heavily on GitHub. Almost all R and Python packages developers use this platform.\n",
    "\n",
    "[Gitlab.com](https://about.gitlab.com) and [Bitbucket](https://bitbucket.org) offer similar services.\n"
   ]
  },
  {
   "cell_type": "markdown",
   "metadata": {
    "slideshow": {
     "slide_type": "slide"
    }
   },
   "source": [
    "## Distributed Version Control Systems\n",
    "\n",
    "<img src=\"images/git.png\" alt=\"git\" width=\"300px\"/>\n",
    "\n",
    "- Clients fully mirror the repository.\n",
    "- You can collaborate with different groups of people in different ways simultaneously within the same project.\n",
    "- No need of network connection.\n",
    "- Multiple backups.\n",
    " \n",
    " "
   ]
  },
  {
   "cell_type": "markdown",
   "metadata": {
    "slideshow": {
     "slide_type": "slide"
    }
   },
   "source": [
    "## Git bash\n",
    "\n",
    "I you want to try Git on windows, install [git bash](https://gitforwindows.org). On Linux and Mac just open a terminal.\n",
    "\n",
    "![git bash](https://gitforwindows.org/img/gw1web_thumb.png)"
   ]
  },
  {
   "cell_type": "markdown",
   "metadata": {
    "slideshow": {
     "slide_type": "slide"
    }
   },
   "source": [
    "## Configure Git\n",
    "\n",
    "Settings are saved on the computer for all your git repositories.\n",
    "\n",
    "```bash\n",
    "$ git config --global user.name \"Prenom Nom\"\n",
    "$ git config --global user.email \"prenom.nom@univ-rennes2.fr\"\n",
    "$ git config --list\n",
    "```\n",
    "---\n",
    "~~~\n",
    "user.name=Prenom Nom\n",
    "user.email=prenom.nom@univ-rennes2.fr\n",
    "~~~"
   ]
  },
  {
   "cell_type": "markdown",
   "metadata": {},
   "source": [
    "## Initialize a git repository in a directory\n",
    "\n",
    "Create the directory `homepage`:\n",
    "\n",
    "```bash\n",
    "$ mkdir homepage                          # Create directory homepage\n",
    "$ cd homepage                             # Change directory\n",
    "$ touch index.md                          # Create the index.md file\n",
    "$ echo \"# John Smith \" >> index.md        # Write the string \"# Test\" in index.md\n",
    "$ echo \"Rennes\" >> index.md               # Append Rennes to index.md\n",
    "$ cat index.md                            # Display index.md content\n",
    "# John Smith\n",
    "Rennes\n",
    "```"
   ]
  },
  {
   "cell_type": "markdown",
   "metadata": {},
   "source": [
    "To use git in this repository\n",
    "```bash\n",
    "$ git init\n",
    "Initialized empty Git repository in /Users/navaro/homepage/.git/\n",
    "$ git status\n",
    "On branch master\n",
    "\n",
    "No commits yet\n",
    "\n",
    "Untracked files:\n",
    "  (use \"git add <file>...\" to include in what will be committed)\n",
    "\tindex.md\n",
    "\n",
    "nothing added to commit but untracked files present (use \"git add\" to track)\n",
    "```"
   ]
  },
  {
   "cell_type": "markdown",
   "metadata": {},
   "source": [
    "### Add the file to the git index\n",
    "\n",
    "```bash\n",
    "$ git add index.md\n",
    "$ git status\n",
    "On branch master\n",
    "\n",
    "No commits yet\n",
    "\n",
    "Changes to be committed:\n",
    "  (use \"git rm --cached <file>...\" to unstage)\n",
    "\tnew file:   index.md\n",
    "```"
   ]
  },
  {
   "cell_type": "markdown",
   "metadata": {},
   "source": [
    "## Commit\n",
    "\n",
    "```bash\n",
    "$ git commit -m 'Create the file index.md'\n",
    "[master (root-commit) 63a5cee] Create the file index.md\n",
    " 1 file changed, 2 insertions(+)\n",
    " create mode 100644 index.md\n",
    "```\n",
    " \n",
    "```bash\n",
    "$ git status\n",
    "On branch master\n",
    "nothing to commit, working tree clean\n",
    "```"
   ]
  },
  {
   "cell_type": "markdown",
   "metadata": {},
   "source": [
    "## Four File status in the repository\n",
    "  \n",
    "<img src=\"images/18333fig0201-tn.png\" alt=\"git\" width=\"450px\"/>"
   ]
  },
  {
   "cell_type": "markdown",
   "metadata": {},
   "source": [
    "## Github account and SSH key\n",
    "\n",
    "[Create your GitHub account](https://github.com/join)\n",
    "\n",
    "### Generating public/private rsa key pair.\n",
    "\n",
    "Ref : [New ssh key on GitHub](https://docs.github.com/en/github/authenticating-to-github/generating-a-new-ssh-key-and-adding-it-to-the-ssh-agent)\n",
    "\n",
    "Open Terminal or Git bash.\n",
    "\n",
    "Paste the text below, substituting in your GitHub email address.\n",
    "```bash\n",
    "ssh-keygen -t rsa -b 4096 -C \"prenom.nom@univ-rennes2.fr\"\n",
    "```\n",
    "This creates a new ssh key, using the provided email as a label.\n",
    "\n",
    "When you're prompted to \"Enter a file in which to save the key,\" press Enter. This accepts the default file location. Enter a file in which to save the key (/Users/you/.ssh/id_rsa): [Press enter]\n",
    "At the prompt, let it empty for no passphrase.\n",
    "\n",
    "This creates 2 files, the private key: `id_rsa`, and the public key `id_rsa.pub`. Display and copy the SSH key to your clipboard.\n",
    "\n",
    "```bash\n",
    "cat ~/.ssh/id_rsa.pub\n",
    "```\n",
    "\n",
    "In the upper-right corner of any page, click your profile photo, then click `Settings`.\n",
    "In the user settings sidebar, click `SSH and GPG keys`.  Click `New SSH key` or `Add SSH key`."
   ]
  },
  {
   "cell_type": "markdown",
   "metadata": {},
   "source": [
    "## GitHub repository\n",
    "\n",
    "<font color=\"red\">In the following steps replace **johnsmith** by your own GitHub login</font>\n",
    "\n",
    "Create the `johnsmith.github.io` repository on your GitHub account\n",
    "- Click on '+' on top right of the page and select \"New repository\"\n",
    "- Repository name = \"johnsmith.github.io\"\n",
    "- Don't change default options\n",
    "- Click on \"Create repository\"\n",
    "\n",
    "```bash\n",
    "$ cd sandbox\n",
    "$ git remote add origin git@github.com:johnsmith/sandbox.git\n",
    "$ git push -u origin master\n",
    "Enumerating objects: 6, done.\n",
    "Counting objects: 100% (6/6), done.\n",
    "Delta compression using up to 4 threads\n",
    "Compressing objects: 100% (2/2), done.\n",
    "Writing objects: 100% (4/4), 449 bytes | 449.00 KiB/s, done.\n",
    "Total 4 (delta 0), reused 0 (delta 0), pack-reused 0\n",
    "To github.com:johnsmith/johnsmith.github.io.git\n",
    "   fd6dace..c4488e6  master -> master\n",
    "```\n",
    "\n",
    "```bash\n",
    "$ git status\n",
    "On branch master\n",
    "nothing to commit, working tree clean\n",
    "```"
   ]
  },
  {
   "cell_type": "markdown",
   "metadata": {
    "slideshow": {
     "slide_type": "slide"
    }
   },
   "source": [
    "## Git Workflow\n",
    "\n",
    "<img src=\"images/four_stages.png\" alt=\"git\" width=\"150px\"/>"
   ]
  },
  {
   "cell_type": "markdown",
   "metadata": {},
   "source": [
    "## Exercise\n",
    "\n",
    "Modify the file README.md and do the procedure again."
   ]
  },
  {
   "cell_type": "markdown",
   "metadata": {},
   "source": [
    "## Branches\n",
    "\n",
    "**Display all branches**\n",
    "\n",
    "```bash\n",
    "$ git branch -a\n",
    "```\n",
    "---\n",
    "~~~\n",
    "* master\n",
    "  remotes/origin/master\n",
    "~~~"
   ]
  },
  {
   "cell_type": "markdown",
   "metadata": {},
   "source": [
    "## Create a new branch\n",
    "\n",
    "By creating a new branch you freeze the master branch and you can continue to work without modifying it.\n",
    "The branch created is the copy of the current branch (master).\n",
    "\n",
    "```bash\n",
    "git branch mybranch\n",
    "$ git checkout mybranch\n",
    "```\n",
    "---\n",
    "```\n",
    "Switched to branch 'mybranch'\n",
    "```\n",
    "\n",
    "```bash\n",
    "git branch\n",
    "```\n",
    "```\n",
    "```\n",
    "master\n",
    "* mybranch\n",
    "```\n",
    "\n",
    "Files could be different or non existant in two branches but they are located at the same place on the file system."
   ]
  },
  {
   "cell_type": "markdown",
   "metadata": {},
   "source": [
    "## Edit and modify the README file\n",
    "\n",
    "```bash\n",
    "$ echo \"coucou\" >> README.md\n",
    "$ git status\n",
    "On branch mybranch\n",
    "Changes not staged for commit:\n",
    "  (use \"git add <file>...\" to update what will be committed)\n",
    "  (use \"git restore <file>...\" to discard changes in working directory)\n",
    "\tmodified:   README.md\n",
    "\n",
    "no changes added to commit (use \"git add\" and/or \"git commit -a\")\n",
    "```\n",
    "\n",
    "```bash\n",
    "$ git diff\n",
    "diff --git a/README.md b/README.md\n",
    "index 87dde03..af6739c 100644\n",
    "--- a/README.md\n",
    "+++ b/README.md\n",
    "@@ -3,3 +3,4 @@\n",
    " Ven 11 sep 2020 16:02:35 CEST\n",
    "\n",
    "+coucou\n",
    "```\n",
    "\n",
    "## Commit the changes\n",
    "\n",
    "```bash\n",
    "$ git add README.md\n",
    "$ git status\n",
    "On branch mybranch\n",
    "Changes to be committed:\n",
    "  (use \"git restore --staged <file>...\" to unstage)\n",
    "\tmodified:   README.md\n",
    "```\n",
    "\n",
    "```bash\n",
    "git commit -m 'Add a coucou in README'\n",
    "```"
   ]
  },
  {
   "cell_type": "markdown",
   "metadata": {},
   "source": [
    "## Commit or fast commit\n",
    "\n",
    "<table><tr><td><img src=\"images/index1.png\" width=400></td><td><img src=\"images/index2.png\" width=400></td></tr></table>"
   ]
  },
  {
   "cell_type": "markdown",
   "metadata": {},
   "source": [
    "## Merge mybranch with the master branch\n",
    "\n",
    "\n",
    "```bash\n",
    "$ git diff master\n",
    "diff --git a/README.md b/README.md\n",
    "index 9c4311a..af6739c 100644\n",
    "--- a/README.md\n",
    "+++ b/README.md\n",
    "@@ -2,7 +2,5 @@\n",
    "\n",
    " Ven 11 sep 2020 16:02:35 CEST\n",
    "\n",
    "+coucou\n",
    "```\n",
    "\n",
    "```bash\n",
    "$ git checkout master\n",
    "Switched to branch 'master'\n",
    "$ git merge mybranch\n",
    "Updating c4488e6..6dafcbd\n",
    "Fast-forward\n",
    " README.md | 5 +----\n",
    " 1 file changed, 1 insertion(+), 4 deletions(-)\n",
    "```"
   ]
  },
  {
   "cell_type": "markdown",
   "metadata": {},
   "source": [
    "# Enable GitHub pages\n",
    "\n",
    "Go to <https://github.com/your_login/sandbox/settings>\n",
    "\n",
    "In the section **GitHub Pages**\n",
    "\n",
    "Select `master` for **Source** and `root`\n",
    "\n",
    "Choose the **minimal theme** and validate, you can change it later.\n",
    "\n",
    "The website is available at <https://*your_login*.github.io/sandbox>\n"
   ]
  },
  {
   "cell_type": "markdown",
   "metadata": {},
   "source": [
    "## Collaborating writing with a git repository\n",
    "\n",
    "![Cycle](images/git_cycle.png)"
   ]
  },
  {
   "cell_type": "markdown",
   "metadata": {
    "slideshow": {
     "slide_type": "slide"
    }
   },
   "source": [
    "## Clone the remote repository\n",
    "\n",
    "```bash\n",
    "git clone ssh://svmass2/git/atelier_git.git\n",
    "```\n",
    "or\n",
    "```bash\n",
    "git clone git@github.com:MMASSD/atelier_git.git\n",
    "```"
   ]
  },
  {
   "cell_type": "markdown",
   "metadata": {
    "lines_to_next_cell": 2
   },
   "source": [
    "## Solve conflits\n",
    "\n",
    "```bash\n",
    "git mergetool\n",
    "```\n",
    "\n",
    "- Cancel uncommited modifications on a file\n",
    "\n",
    "```bash\n",
    "git checkout mon_fichier_modif\n",
    "```\n",
    "\n",
    "- Call all modification\n",
    "\n",
    "```bash\n",
    "git reset --hard\n",
    "```\n"
   ]
  },
  {
   "cell_type": "markdown",
   "metadata": {},
   "source": [
    "\n"
   ]
  },
  {
   "cell_type": "markdown",
   "metadata": {},
   "source": [
    "## Share your modifications\n",
    "\n",
    "### Option 1 : merge master branch and push it"
   ]
  },
  {
   "cell_type": "markdown",
   "metadata": {},
   "source": [
    "```bash\n",
    "git checkout master\n",
    "git merge mabranche\n",
    "git push origin master\n",
    "```"
   ]
  },
  {
   "cell_type": "markdown",
   "metadata": {},
   "source": [
    "## Share your contributions\n",
    "\n",
    "\n",
    "## Option 2 : Push your branch "
   ]
  },
  {
   "cell_type": "markdown",
   "metadata": {},
   "source": [
    "```bash\n",
    "git checkout mabranche\n",
    "git push origin mabranche\n",
    "```"
   ]
  },
  {
   "cell_type": "markdown",
   "metadata": {},
   "source": [
    "## Synchronize the repository"
   ]
  },
  {
   "cell_type": "markdown",
   "metadata": {},
   "source": [
    "```bash\n",
    "git checkout master\n",
    "git fetch origin\n",
    "git merge origin/master\n",
    "```"
   ]
  },
  {
   "cell_type": "markdown",
   "metadata": {},
   "source": [
    "```bash\n",
    "git checkout mabranche\n",
    "git merge master\n",
    "```"
   ]
  },
  {
   "cell_type": "markdown",
   "metadata": {},
   "source": [
    "Si votre branche locale n'est pas présente sur le serveur, vous pouvez utiliser `rebase` à la place de `merge`. Cette opération permet de récrire l'historique en datant vos modifications postérieures à la dernière modification de la branche master."
   ]
  },
  {
   "cell_type": "markdown",
   "metadata": {},
   "source": [
    "## Stash\n",
    "\n",
    "Use git stash when you want to record the current state of the working directory and the index, but want to go back to a clean working directory. The command saves your local modifications away and reverts the working directory to match the HEAD commit."
   ]
  },
  {
   "cell_type": "markdown",
   "metadata": {},
   "source": [
    "```bash\n",
    "git stash\n",
    "git stash show\n",
    "```"
   ]
  },
  {
   "cell_type": "markdown",
   "metadata": {},
   "source": [
    "### Apply last `stash`"
   ]
  },
  {
   "cell_type": "markdown",
   "metadata": {},
   "source": [
    "```bash\n",
    "git stash pop\n",
    "```"
   ]
  },
  {
   "cell_type": "markdown",
   "metadata": {},
   "source": [
    "### Delete the last `stash`"
   ]
  },
  {
   "cell_type": "markdown",
   "metadata": {},
   "source": [
    "```bash\n",
    "git stash drop\n",
    "```"
   ]
  },
  {
   "cell_type": "markdown",
   "metadata": {
    "slideshow": {
     "slide_type": "slide"
    }
   },
   "source": [
    "## Updating from the Repository\n",
    "\n",
    "If the master branch has changed. To get all new updates :"
   ]
  },
  {
   "cell_type": "code",
   "execution_count": null,
   "metadata": {
    "attributes": {
     "classes": [
      "git"
     ],
     "id": ""
    },
    "slideshow": {
     "slide_type": "fragment"
    }
   },
   "outputs": [],
   "source": [
    "%%bash\n",
    "git pull origin master"
   ]
  },
  {
   "cell_type": "markdown",
   "metadata": {
    "slideshow": {
     "slide_type": "slide"
    }
   },
   "source": [
    "## Solve conflicts\n",
    "\n",
    "- If you have some conflicts, no problem just do :\n",
    "\n",
    "```\n",
    "git checkout notebook.ipynb\n",
    "```\n",
    "\n",
    "It will give you back the original version of notebook.ipynb\n",
    "\n",
    "- If you have big troubles, you can do\n",
    "\n",
    "```\n",
    "git reset --hard\n",
    "```\n",
    "\n",
    "Be careful with this last command, you remove uncommited changes.\n"
   ]
  },
  {
   "cell_type": "markdown",
   "metadata": {},
   "source": [
    "## Locally saving your modifications\n",
    "\n",
    "```\n",
    "$ git add document.tex\n",
    "```\n",
    "Checking which files are ready to be committed.\n",
    "\n",
    "```\n",
    "$ git status\n",
    "On branch pierre-branch\n",
    "Changes to be committed:\n",
    "  (use \"git reset HEAD <file>...\" to unstage)\n",
    "\tmodified:   document.tex\n",
    "```\n",
    "Now save your work, the branch is local.\n",
    "\n",
    "```\n",
    "$ git commit -m 'Some modifications'\n",
    "[pierre-branch 8c6bf81] Some modification is available\n",
    " 1 file changed, 3 insertions(+)\n",
    "```"
   ]
  },
  {
   "cell_type": "markdown",
   "metadata": {},
   "source": [
    "## Share your work and make it available on the server\n",
    "\n",
    "### Option 1 : Merge to the main branch and push\n",
    "\n",
    "```\n",
    "$ git checkout master\n",
    "\n",
    "\tSwitched to branch 'master'\n",
    "\tYour branch is up-to-date with 'origin/master'.\n",
    "\n",
    "$ git merge pierre-branch\n",
    "\n",
    "\tUpdating 7cef21a..8c6bf81\n",
    "\tFast-forward\n",
    " \tdocument.tex | 3 +++\n",
    " \t1 file changed, 3 insertions(+)\n",
    "\n",
    "$ git push origin master\n",
    "\n",
    "\tCounting objects: 3, done.\n",
    "\t...\n",
    "```"
   ]
  },
  {
   "cell_type": "markdown",
   "metadata": {},
   "source": [
    "## Share your work and make it available on the server\n",
    "\n",
    "### Option 2 : Push your branch to the server\n",
    "\n",
    "```\n",
    "$ git checkout pierre-branch\n",
    "\n",
    "\tSwitched to branch 'pierre-branch'\n",
    "\n",
    "$ git push origin pierre-branch\n",
    "\n",
    "$ git branch -a\n",
    "  \tmaster\n",
    "\t* pierre-branch\n",
    "  \tremotes/origin/HEAD -> origin/master\n",
    "  \tremotes/origin/master\n",
    "  \tremotes/origin/pierre-branch\n",
    "```"
   ]
  },
  {
   "cell_type": "markdown",
   "metadata": {},
   "source": [
    "## Updating from the Repository\n",
    "\n",
    "The master branch has changed. To get all new updates :\n",
    "\n",
    "```git\n",
    "$ git checkout master     \n",
    "\tSwitched to branch 'master'\n",
    "\n",
    "$ git fetch origin         \n",
    "\tdownload changes from repository\n",
    "\n",
    "$ git merge origin/master  \n",
    "\tupdate local branch master\n",
    "\n",
    "$ git checkout pierre-branch\n",
    "\tSwitched to branch 'pierre-branch'\n",
    "\n",
    "$ git merge master          \n",
    "\tupdate your branch\n",
    "```\n",
    "If you did not push your branch, use `rebase` instead of `merge`"
   ]
  },
  {
   "cell_type": "markdown",
   "metadata": {},
   "source": [
    "## Merge conflicts\n",
    "\n",
    "If you have conflict, no problem just do :\n",
    "\n",
    "```\n",
    "$ git mergetool\n",
    "```\n",
    "\n",
    "A nice editor helps you to choose the right version. Close and :\n",
    "\n",
    "```\n",
    "$ git commit -m 'Update and fixed conflicts'\n",
    "```"
   ]
  },
  {
   "cell_type": "markdown",
   "metadata": {},
   "source": [
    "## Stash\n",
    "Use itwhen you want to record the current state of the working directory and the index.\n",
    "\n",
    "- Modify a file in the repository and save it with\n",
    "\n",
    "```\n",
    "$ git stash\n",
    "```\n",
    "- You can display saved changes with\n",
    "\n",
    "```\n",
    "$ git stash show\n",
    "```\n",
    "\n",
    "- Apply the modifications with\n",
    "\n",
    "```\n",
    "git stash pop (or apply)\n",
    "```\n",
    "\n",
    "or drop them with\n",
    "\n",
    "```\n",
    "$ git stash drop\n",
    "```"
   ]
  },
  {
   "cell_type": "markdown",
   "metadata": {},
   "source": [
    "## Why Git?\n",
    "\n",
    "- Tracking and controlling changes in the software.\n",
    "- Branches : Frictionless Context Switching, Role-Based Codelines.\n",
    "- Everything is local : Git is fast.\n",
    "- Multiple Backups.\n",
    "- It's impossible to get anything out of Git other than the exact bits you put in.\n",
    "- Staging Area : intermediate index between working directory and repository.\n",
    "- Pull-request is a nice feature for code reviewing and protect the stable branch."
   ]
  },
  {
   "cell_type": "markdown",
   "metadata": {},
   "source": [
    "## Why not\n",
    "\n",
    "- Sometimes confusing for new users coming from CVS or subversion.\n",
    "- Crazy command line syntax.\n",
    "- Simple tasks need many commands.\n",
    "- Git history is often strange.\n",
    "- It is possible to destroy the repository on the remote server.\n",
    "- Power for the maintainer, at the expense of the contributor."
   ]
  },
  {
   "cell_type": "markdown",
   "metadata": {},
   "source": [
    "## Some useful commands\n",
    "\n",
    "- Showing which files have changed between git branches\n",
    "\n",
    "```\n",
    "$ git diff --name-status master..mybranch\n",
    "```\n",
    "- Compare the master version of a file to my current branch version\n",
    "\n",
    "```\n",
    "$ git diff mybranch master -- myfile.F90\n",
    "```\n",
    "\n",
    "- Remove all ignored files (do it after a commit)\n",
    "\n",
    "```\n",
    "$ git clean -xdf\n",
    "```\n",
    "\n",
    "- To revert to a previous commit, ignoring any changes:\n",
    "\n",
    "```\n",
    "$ git checkout myfile.cpp\n",
    "$ git reset --hard\n",
    "```"
   ]
  },
  {
   "cell_type": "markdown",
   "metadata": {},
   "source": [
    "## Git through IDE\n",
    "\n",
    "- Install bash-completion and source git-prompt.sh.\n",
    "- Use Gui tools:\n",
    "\t- [GitHub Desktop](https://desktop.github.com/)\n",
    "\t- [Sourcetree](https://fr.atlassian.com/software/sourcetree)\n",
    "\t- [GitKraken](https://www.gitkraken.com/)\n",
    "- VCS plugin of IDE\n",
    "\t- [RStudio](https://www.rstudio.com/)\n",
    "\t- [Eclipse](https://www.eclipse.org/downloads/)\n",
    "\t- [TeXstudio](www.texstudio.org/)\n",
    "\t- [JetBrains](https://www.jetbrains.com/)"
   ]
  },
  {
   "cell_type": "code",
   "execution_count": null,
   "metadata": {},
   "outputs": [],
   "source": []
  }
 ],
 "metadata": {
  "jupytext": {
   "cell_metadata_json": true,
   "encoding": "# -*- coding: utf-8 -*-"
  },
  "kernelspec": {
   "display_name": "big-data",
   "language": "python",
   "name": "big-data"
  },
  "language_info": {
   "codemirror_mode": {
    "name": "ipython",
    "version": 3
   },
   "file_extension": ".py",
   "mimetype": "text/x-python",
   "name": "python",
   "nbconvert_exporter": "python",
   "pygments_lexer": "ipython3",
   "version": "3.8.0"
  }
 },
 "nbformat": 4,
 "nbformat_minor": 2
}
