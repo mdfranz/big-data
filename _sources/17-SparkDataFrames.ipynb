{
 "cells": [
  {
   "cell_type": "markdown",
   "metadata": {},
   "source": [
    "# Spark DataFrames\n",
    "\n",
    "- Enable wider audiences beyond “Big Data” engineers to leverage the power of distributed processing\n",
    "- Inspired by data frames in R and Python (Pandas)\n",
    "- Designed from the ground-up to support modern big\n",
    "data and data science applications\n",
    "- Extension to the existing RDD API\n",
    "\n",
    "## References\n",
    "- [Spark SQL, DataFrames and Datasets Guide](https://spark.apache.org/docs/latest/sql-programming-guide.html)\n",
    "- [Introduction to DataFrames - Python](https://docs.databricks.com/spark/latest/dataframes-datasets/introduction-to-dataframes-python.html)\n",
    "- [PySpark Cheat Sheet: Spark DataFrames in Python](https://www.datacamp.com/community/blog/pyspark-sql-cheat-sheet)"
   ]
  },
  {
   "cell_type": "markdown",
   "metadata": {},
   "source": [
    "### DataFrames are :\n",
    "- The preferred abstraction in Spark\n",
    "- Strongly typed collection of distributed elements \n",
    "- Built on Resilient Distributed Datasets (RDD)\n",
    "- Immutable once constructed\n",
    "\n",
    "### With Dataframes you can :\n",
    "- Track lineage information to efficiently recompute lost data \n",
    "- Enable operations on collection of elements in parallel\n",
    "\n",
    "### You construct DataFrames\n",
    "- by parallelizing existing collections (e.g., Pandas DataFrames) \n",
    "- by transforming an existing DataFrames\n",
    "- from files in HDFS or any other storage system (e.g., Parquet)\n",
    "\n",
    "### Features\n",
    "- Ability to scale from kilobytes of data on a single laptop to petabytes on a large cluster\n",
    "- Support for a wide array of data formats and storage systems\n",
    "- Seamless integration with all big data tooling and infrastructure via Spark\n",
    "- APIs for Python, Java, Scala, and R"
   ]
  },
  {
   "cell_type": "markdown",
   "metadata": {},
   "source": [
    "### DataFrames versus RDDs\n",
    "- Nice API for new users familiar with data frames in other programming languages.\n",
    "- For existing Spark users, the API will make Spark easier to program than using RDDs\n",
    "- For both sets of users, DataFrames will improve performance through intelligent optimizations and code-generation"
   ]
  },
  {
   "cell_type": "markdown",
   "metadata": {},
   "source": [
    "## PySpark Shell\n",
    "\n",
    "**Run the Spark shell:**\n",
    "\n",
    "~~~ bash\n",
    "pyspark\n",
    "~~~\n",
    "\n",
    "Output similar to the following will be displayed, followed by a `>>>` REPL prompt:\n",
    "\n",
    "~~~\n",
    "Python 3.6.5 |Anaconda, Inc.| (default, Apr 29 2018, 16:14:56)\n",
    "[GCC 7.2.0] on linux\n",
    "Type \"help\", \"copyright\", \"credits\" or \"license\" for more information.\n",
    "2018-09-18 17:13:13 WARN  NativeCodeLoader:62 - Unable to load native-hadoop library for your platform... using builtin-java classes where applicable\n",
    "Setting default log level to \"WARN\".\n",
    "To adjust logging level use sc.setLogLevel(newLevel). For SparkR, use setLogLevel(newLevel).\n",
    "Welcome to\n",
    "      ____              __\n",
    "     / __/__  ___ _____/ /__\n",
    "    _\\ \\/ _ \\/ _ `/ __/  '_/\n",
    "   /__ / .__/\\_,_/_/ /_/\\_\\   version 2.3.1\n",
    "      /_/\n",
    "\n",
    "Using Python version 3.6.5 (default, Apr 29 2018 16:14:56)\n",
    "SparkSession available as 'spark'.\n",
    ">>>\n",
    "~~~\n",
    "\n",
    "Read data and convert to Dataset\n",
    "\n",
    "~~~ py\n",
    "df = sqlContext.read.csv(\"/tmp/irmar.csv\", sep=';', header=True)\n",
    "~~~\n",
    "\n",
    "~~~\n",
    ">>> df2.show()\n",
    "+---+--------------------+------------+------+------------+--------+-----+---------+--------+\n",
    "|_c0|                name|       phone|office|organization|position|  hdr|    team1|   team2|\n",
    "+---+--------------------+------------+------+------------+--------+-----+---------+--------+\n",
    "|  0|      Alphonse Paul |+33223235223|   214|          R1|     DOC|False|      EDP|      NA|\n",
    "|  1|        Ammari Zied |+33223235811|   209|          R1|      MC| True|      EDP|      NA|\n",
    ".\n",
    ".\n",
    ".\n",
    "| 18|    Bernier Joachim |+33223237558|   214|          R1|     DOC|False|   ANANUM|      NA|\n",
    "| 19|   Berthelot Pierre |+33223236043|   601|          R1|      PE| True|       GA|      NA|\n",
    "+---+--------------------+------------+------+------------+--------+-----+---------+--------+\n",
    "only showing top 20 rows\n",
    "~~~"
   ]
  },
  {
   "cell_type": "markdown",
   "metadata": {},
   "source": [
    "## Transformations, Actions, Laziness\n",
    "\n",
    "Like RDDs, DataFrames are lazy. Transformations contribute to the query plan, but they don't execute anything.\n",
    "Actions cause the execution of the query.\n",
    "\n",
    "### Transformation examples\n",
    "- filter\n",
    "- select\n",
    "- drop\n",
    "- intersect \n",
    "- join\n",
    "### Action examples\n",
    "- count \n",
    "- collect \n",
    "- show \n",
    "- head\n",
    "- take"
   ]
  },
  {
   "cell_type": "markdown",
   "metadata": {},
   "source": [
    "## Creating a DataFrame in Python"
   ]
  },
  {
   "cell_type": "code",
   "execution_count": 1,
   "metadata": {},
   "outputs": [],
   "source": [
    "import sys, subprocess\n",
    "import os\n",
    "\n",
    "os.environ[\"PYSPARK_PYTHON\"] = sys.executable"
   ]
  },
  {
   "cell_type": "code",
   "execution_count": 2,
   "metadata": {},
   "outputs": [],
   "source": [
    "from pyspark import SparkContext, SparkConf, SQLContext\n",
    "# The following three lines are not necessary\n",
    "# in the pyspark shell\n",
    "conf = SparkConf().setAppName(\"people\").setMaster(\"local[*]\") \n",
    "sc = SparkContext(conf=conf)\n",
    "sc.setLogLevel(\"ERROR\")\n",
    "sqlContext = SQLContext(sc)"
   ]
  },
  {
   "cell_type": "code",
   "execution_count": 3,
   "metadata": {},
   "outputs": [
    {
     "name": "stdout",
     "output_type": "stream",
     "text": [
      "+----------+---------+-----------+\n",
      "| firstname| lastname|      login|\n",
      "+----------+---------+-----------+\n",
      "|     Simon|     Uzel|     uzel_s|\n",
      "|   Perrine|   Moreau|   moreau_p|\n",
      "|     Elise|    Negri|    negri_e|\n",
      "|   Camille|   Cochet|   cochet_c|\n",
      "|   Nolwenn| Giguelay| giguelay_n|\n",
      "|     Youen|    Meyer|    meyer_y|\n",
      "|    Emilie|  Lacoste|  lacoste_e|\n",
      "|       Pia|  LeBihan|  lebihan_p|\n",
      "|      Yann|    Evain|    evain_y|\n",
      "|   Camille|    Guyon|    guyon_c|\n",
      "|  Mathilde|  LeMener|  lemener_m|\n",
      "|    Gildas| LeGuilly| liguilly_g|\n",
      "|    Pierre| Gardelle| gardelle_p|\n",
      "|Christophe|Boulineau|boulineau_c|\n",
      "|      Omar| Aitichou| aitichou_o|\n",
      "|     Lijun|      Chi|      chi_l|\n",
      "|    Jiawei|      Liu|      lin_j|\n",
      "|     Irvin|Keraudren|keraudren_i|\n",
      "|     Bryan|    Jacob|    jacob_b|\n",
      "|   Raphael| Guillerm| guillerm_r|\n",
      "|     Bruno|Queguiner|queguiner_b|\n",
      "|   Yingshi|     Zeng|     zeng_y|\n",
      "+----------+---------+-----------+\n",
      "\n"
     ]
    }
   ],
   "source": [
    "df = sqlContext.read.json(\"data/people.json\") # get a dataframe from json file\n",
    "\n",
    "df.show(24)"
   ]
  },
  {
   "cell_type": "markdown",
   "metadata": {},
   "source": [
    "## Schema Inference\n",
    "\n",
    "In this exercise, let's explore schema inference. We're going to be using a file called `irmar.txt`. The data is structured, but it has no self-describing schema. And, it's not JSON, so Spark can't infer the schema automatically. Let's create an RDD and look at the first few rows of the file."
   ]
  },
  {
   "cell_type": "code",
   "execution_count": 4,
   "metadata": {},
   "outputs": [
    {
     "name": "stdout",
     "output_type": "stream",
     "text": [
      "Alphonse Paul;+33223235223;214;R1;DOC;False;EDP;NA\n",
      "Ammari Zied;+33223235811;209;R1;MC;True;EDP;NA\n",
      "André Simon;+33223237555;301;R1;DOC;False;THEO-ERG;NA\n",
      "Angst Jurgen;+33223236519;320;R1;MC;False;PROC-STOC;NA\n",
      "Bailleul Ismaël;+33223236369;302;R1;MC;True;THEO-ERG;NA\n",
      "Baker Mark;+33223236028;835;R1;PR;True;GAN;NA\n",
      "Balac Stephane;+33223236274;110;R1;MC;False;ANANUM;NA\n",
      "Bauer Max;+33223236675;734;R1;MC;False;GAN;NA\n",
      "Bavard Juliette;+33223236724;331;CNRS;CR;False;GAN;THEO-ERG\n",
      "Beauchard Karine;+33223236164;235;R1;PR;True;ANANUM;NA\n"
     ]
    }
   ],
   "source": [
    "rdd = sc.textFile(\"data/irmar.csv\")\n",
    "for line in rdd.take(10):\n",
    "  print(line)"
   ]
  },
  {
   "cell_type": "markdown",
   "metadata": {},
   "source": [
    "## Hands-on Exercises\n",
    "\n",
    "You can look at the <a href=\"http://spark.apache.org/docs/2.3.1/api/python/index.html\" target=\"_blank\">DataFrames API documentation</a> \n",
    "\n",
    "Let's take a look to file \"/tmp/irmar.csv\". Each line consists \n",
    "of the same information about a person:\n",
    "\n",
    "* name\n",
    "* phone\n",
    "* office\n",
    "* organization\n",
    "* position \n",
    "* hdr\n",
    "* team1\n",
    "* team2"
   ]
  },
  {
   "cell_type": "code",
   "execution_count": 5,
   "metadata": {},
   "outputs": [],
   "source": [
    "from collections import namedtuple\n",
    "\n",
    "rdd = sc.textFile(\"data/irmar.csv\")\n",
    "\n",
    "Person = namedtuple('Person', ['name', 'phone', 'office', 'organization', \n",
    "                               'position', 'hdr', 'team1', 'team2'])\n",
    "def str_to_bool(s):\n",
    "    if s == 'True': return True\n",
    "    return False\n",
    "\n",
    "def map_to_person(line):\n",
    "    cols = line.split(\";\")\n",
    "    return Person(name         = cols[0],\n",
    "                  phone        = cols[1],\n",
    "                  office       = cols[2],\n",
    "                  organization = cols[3],\n",
    "                  position     = cols[4], \n",
    "                  hdr          = str_to_bool(cols[5]),\n",
    "                  team1        = cols[6],\n",
    "                  team2        = cols[7])\n",
    "    \n",
    "people_rdd = rdd.map(map_to_person)\n",
    "df = people_rdd.toDF()"
   ]
  },
  {
   "cell_type": "code",
   "execution_count": 6,
   "metadata": {},
   "outputs": [
    {
     "name": "stdout",
     "output_type": "stream",
     "text": [
      "+--------------------+------------+------+------------+--------+-----+---------+--------+\n",
      "|                name|       phone|office|organization|position|  hdr|    team1|   team2|\n",
      "+--------------------+------------+------+------------+--------+-----+---------+--------+\n",
      "|       Alphonse Paul|+33223235223|   214|          R1|     DOC|false|      EDP|      NA|\n",
      "|         Ammari Zied|+33223235811|   209|          R1|      MC| true|      EDP|      NA|\n",
      "|         André Simon|+33223237555|   301|          R1|     DOC|false| THEO-ERG|      NA|\n",
      "|        Angst Jurgen|+33223236519|   320|          R1|      MC|false|PROC-STOC|      NA|\n",
      "|     Bailleul Ismaël|+33223236369|   302|          R1|      MC| true| THEO-ERG|      NA|\n",
      "|          Baker Mark|+33223236028|   835|          R1|      PR| true|      GAN|      NA|\n",
      "|      Balac Stephane|+33223236274|   110|          R1|      MC|false|   ANANUM|      NA|\n",
      "|           Bauer Max|+33223236675|   734|          R1|      MC|false|      GAN|      NA|\n",
      "|     Bavard Juliette|+33223236724|   331|        CNRS|      CR|false|      GAN|THEO-ERG|\n",
      "|    Beauchard Karine|+33223236164|   235|          R1|      PR| true|   ANANUM|      NA|\n",
      "|        Bekka Bachir|+33223235779|   307|          R1|      PR| true| THEO-ERG|      NA|\n",
      "|         Bekka Karim|+33223236180|   615|          R1|      MC|false|      G&S|      NA|\n",
      "|      Belgacem Maher|+33223236670|    NA|         EXT|     DOC|false|   ANANUM|      NA|\n",
      "|    Bellis Alexandre|+33223236696|   634|          R1|     DOC|false|      GAN|      NA|\n",
      "|     Belmiloudi Aziz|+33223238646|    NA|        INSA|      MC| true|   ANANUM|      NA|\n",
      "|     Ben Elouefi Rim|+33223236670|    NA|         EXT|     DOC|false|     STAT|      NA|\n",
      "|   Benasseni Jacques|+33299141822|    NA|          R2|      PR| true|     STAT|      NA|\n",
      "|Bennani-Dosse Moh...|+33299141796|    NA|          R2|      MC|false|     STAT|      NA|\n",
      "|     Bernier Joachim|+33223237558|   214|          R1|     DOC|false|   ANANUM|      NA|\n",
      "|    Berthelot Pierre|+33223236043|   601|          R1|      PE| true|       GA|      NA|\n",
      "+--------------------+------------+------+------------+--------+-----+---------+--------+\n",
      "only showing top 20 rows\n",
      "\n"
     ]
    }
   ],
   "source": [
    "df.show()"
   ]
  },
  {
   "cell_type": "markdown",
   "metadata": {},
   "source": [
    "### Schema"
   ]
  },
  {
   "cell_type": "code",
   "execution_count": 7,
   "metadata": {
    "scrolled": true
   },
   "outputs": [
    {
     "name": "stdout",
     "output_type": "stream",
     "text": [
      "root\n",
      " |-- name: string (nullable = true)\n",
      " |-- phone: string (nullable = true)\n",
      " |-- office: string (nullable = true)\n",
      " |-- organization: string (nullable = true)\n",
      " |-- position: string (nullable = true)\n",
      " |-- hdr: boolean (nullable = true)\n",
      " |-- team1: string (nullable = true)\n",
      " |-- team2: string (nullable = true)\n",
      "\n"
     ]
    }
   ],
   "source": [
    "df.printSchema()"
   ]
  },
  {
   "cell_type": "markdown",
   "metadata": {},
   "source": [
    "### display"
   ]
  },
  {
   "cell_type": "code",
   "execution_count": 8,
   "metadata": {
    "scrolled": true
   },
   "outputs": [
    {
     "data": {
      "text/plain": [
       "DataFrame[name: string, phone: string, office: string, organization: string, position: string, hdr: boolean, team1: string, team2: string]"
      ]
     },
     "metadata": {},
     "output_type": "display_data"
    }
   ],
   "source": [
    "display(df)"
   ]
  },
  {
   "cell_type": "markdown",
   "metadata": {},
   "source": [
    "### select"
   ]
  },
  {
   "cell_type": "code",
   "execution_count": 9,
   "metadata": {
    "scrolled": true
   },
   "outputs": [
    {
     "data": {
      "text/plain": [
       "DataFrame[name: string, position: string, organization: string]"
      ]
     },
     "execution_count": 9,
     "metadata": {},
     "output_type": "execute_result"
    }
   ],
   "source": [
    "df.select(df[\"name\"], df[\"position\"], df[\"organization\"])"
   ]
  },
  {
   "cell_type": "code",
   "execution_count": 10,
   "metadata": {},
   "outputs": [
    {
     "name": "stdout",
     "output_type": "stream",
     "text": [
      "+--------------------+--------+------------+\n",
      "|                name|position|organization|\n",
      "+--------------------+--------+------------+\n",
      "|       Alphonse Paul|     DOC|          R1|\n",
      "|         Ammari Zied|      MC|          R1|\n",
      "|         André Simon|     DOC|          R1|\n",
      "|        Angst Jurgen|      MC|          R1|\n",
      "|     Bailleul Ismaël|      MC|          R1|\n",
      "|          Baker Mark|      PR|          R1|\n",
      "|      Balac Stephane|      MC|          R1|\n",
      "|           Bauer Max|      MC|          R1|\n",
      "|     Bavard Juliette|      CR|        CNRS|\n",
      "|    Beauchard Karine|      PR|          R1|\n",
      "|        Bekka Bachir|      PR|          R1|\n",
      "|         Bekka Karim|      MC|          R1|\n",
      "|      Belgacem Maher|     DOC|         EXT|\n",
      "|    Bellis Alexandre|     DOC|          R1|\n",
      "|     Belmiloudi Aziz|      MC|        INSA|\n",
      "|     Ben Elouefi Rim|     DOC|         EXT|\n",
      "|   Benasseni Jacques|      PR|          R2|\n",
      "|Bennani-Dosse Moh...|      MC|          R2|\n",
      "|     Bernier Joachim|     DOC|          R1|\n",
      "|    Berthelot Pierre|      PE|          R1|\n",
      "+--------------------+--------+------------+\n",
      "only showing top 20 rows\n",
      "\n"
     ]
    }
   ],
   "source": [
    "df.select(df[\"name\"], df[\"position\"], df[\"organization\"]).show()"
   ]
  },
  {
   "cell_type": "markdown",
   "metadata": {},
   "source": [
    "### filter"
   ]
  },
  {
   "cell_type": "code",
   "execution_count": 11,
   "metadata": {},
   "outputs": [
    {
     "name": "stdout",
     "output_type": "stream",
     "text": [
      "+--------------------+------------+------+------------+--------+-----+---------+-----+\n",
      "|                name|       phone|office|organization|position|  hdr|    team1|team2|\n",
      "+--------------------+------------+------+------------+--------+-----+---------+-----+\n",
      "|   Benasseni Jacques|+33299141822|    NA|          R2|      PR| true|     STAT|   NA|\n",
      "|Bennani-Dosse Moh...|+33299141796|    NA|          R2|      MC|false|     STAT|   NA|\n",
      "|Cornillon Pierre-...|+33299141819|    NA|          R2|      MC|false|     STAT|   NA|\n",
      "|     Fromont Magalie|+33299053264|    NA|          R2|      PR| true|     STAT|   NA|\n",
      "|Giacofci Joyce Ma...|+33299141800|    NA|          R2|      MC|false|     STAT|   NA|\n",
      "|Klutchnikoff Nicolas|+33299141819|    NA|          R2|      MC|false|     STAT|   NA|\n",
      "|     Le Guevel Ronan|+33299141800|    NA|          R2|      MC|false|PROC-STOC| STAT|\n",
      "|           Mom Alain|+33299141808|    NA|          R2|      MC|false|     STAT|   NA|\n",
      "|        Morvan Marie|+33223236670|    NA|          R2|     DOC|false|     STAT|   NA|\n",
      "|     Pelletier Bruno|+33299141807|    NA|          R2|      PR| true|     STAT|   NA|\n",
      "|    Rouviere Laurent|+33299141804|    NA|          R2|      MC|false|     STAT|   NA|\n",
      "+--------------------+------------+------+------------+--------+-----+---------+-----+\n",
      "\n"
     ]
    }
   ],
   "source": [
    "df.filter(df[\"organization\"] == \"R2\").show()"
   ]
  },
  {
   "cell_type": "markdown",
   "metadata": {},
   "source": [
    "### filter + select"
   ]
  },
  {
   "cell_type": "code",
   "execution_count": 12,
   "metadata": {},
   "outputs": [],
   "source": [
    "df2 = df.filter(df[\"organization\"] == \"R2\").select(df['name'],df['team1'])"
   ]
  },
  {
   "cell_type": "code",
   "execution_count": 13,
   "metadata": {},
   "outputs": [
    {
     "name": "stdout",
     "output_type": "stream",
     "text": [
      "+--------------------+---------+\n",
      "|                name|    team1|\n",
      "+--------------------+---------+\n",
      "|   Benasseni Jacques|     STAT|\n",
      "|Bennani-Dosse Moh...|     STAT|\n",
      "|Cornillon Pierre-...|     STAT|\n",
      "|     Fromont Magalie|     STAT|\n",
      "|Giacofci Joyce Ma...|     STAT|\n",
      "|Klutchnikoff Nicolas|     STAT|\n",
      "|     Le Guevel Ronan|PROC-STOC|\n",
      "|           Mom Alain|     STAT|\n",
      "|        Morvan Marie|     STAT|\n",
      "|     Pelletier Bruno|     STAT|\n",
      "|    Rouviere Laurent|     STAT|\n",
      "+--------------------+---------+\n",
      "\n"
     ]
    }
   ],
   "source": [
    "df2.show()"
   ]
  },
  {
   "cell_type": "markdown",
   "metadata": {},
   "source": [
    "### orderBy"
   ]
  },
  {
   "cell_type": "code",
   "execution_count": 14,
   "metadata": {},
   "outputs": [
    {
     "name": "stdout",
     "output_type": "stream",
     "text": [
      "+--------------------+--------+\n",
      "|                name|position|\n",
      "+--------------------+--------+\n",
      "|        Morvan Marie|     DOC|\n",
      "|Cornillon Pierre-...|      MC|\n",
      "|Bennani-Dosse Moh...|      MC|\n",
      "|Giacofci Joyce Ma...|      MC|\n",
      "|           Mom Alain|      MC|\n",
      "|Klutchnikoff Nicolas|      MC|\n",
      "|    Rouviere Laurent|      MC|\n",
      "|     Le Guevel Ronan|      MC|\n",
      "|   Benasseni Jacques|      PR|\n",
      "|     Fromont Magalie|      PR|\n",
      "|     Pelletier Bruno|      PR|\n",
      "+--------------------+--------+\n",
      "\n"
     ]
    }
   ],
   "source": [
    "(df.filter(df[\"organization\"] == \"R2\")\n",
    "   .select(df[\"name\"],df[\"position\"])\n",
    "   .orderBy(\"position\")).show()"
   ]
  },
  {
   "cell_type": "markdown",
   "metadata": {},
   "source": [
    "### groupBy"
   ]
  },
  {
   "cell_type": "code",
   "execution_count": 15,
   "metadata": {
    "scrolled": false
   },
   "outputs": [
    {
     "data": {
      "text/plain": [
       "<pyspark.sql.group.GroupedData at 0x7f863a6d9610>"
      ]
     },
     "execution_count": 15,
     "metadata": {},
     "output_type": "execute_result"
    }
   ],
   "source": [
    "df.groupby(df[\"hdr\"])"
   ]
  },
  {
   "cell_type": "code",
   "execution_count": 16,
   "metadata": {},
   "outputs": [
    {
     "name": "stdout",
     "output_type": "stream",
     "text": [
      "+-----+-----+\n",
      "|  hdr|count|\n",
      "+-----+-----+\n",
      "| true|  103|\n",
      "|false|  141|\n",
      "+-----+-----+\n",
      "\n"
     ]
    }
   ],
   "source": [
    "df.groupby(df[\"hdr\"]).count().show()"
   ]
  },
  {
   "cell_type": "markdown",
   "metadata": {},
   "source": [
    "WARNING: Don't confuse GroupedData.count() with DataFrame.count(). GroupedData.count() is not an action. DataFrame.count() is an action."
   ]
  },
  {
   "cell_type": "code",
   "execution_count": 17,
   "metadata": {},
   "outputs": [
    {
     "data": {
      "text/plain": [
       "103"
      ]
     },
     "execution_count": 17,
     "metadata": {},
     "output_type": "execute_result"
    }
   ],
   "source": [
    "df.filter(df[\"hdr\"]).count()"
   ]
  },
  {
   "cell_type": "code",
   "execution_count": 18,
   "metadata": {},
   "outputs": [
    {
     "name": "stdout",
     "output_type": "stream",
     "text": [
      "+--------------------+\n",
      "|                name|\n",
      "+--------------------+\n",
      "|         Ammari Zied|\n",
      "|     Bailleul Ismaël|\n",
      "|          Baker Mark|\n",
      "|    Beauchard Karine|\n",
      "|        Bekka Bachir|\n",
      "|     Belmiloudi Aziz|\n",
      "|   Benasseni Jacques|\n",
      "|    Berthelot Pierre|\n",
      "|       Bourqui David|\n",
      "|Breton Jean-Chris...|\n",
      "|         Briane Marc|\n",
      "|        Cadre Benoît|\n",
      "|       Caloz Gabriel|\n",
      "|        Cantat Serge|\n",
      "|       Caruso Xavier|\n",
      "|   Castella Francois|\n",
      "|       Causeur David|\n",
      "|   Cerveau Dominique|\n",
      "|   Chartier Philippe|\n",
      "|   Chauvet Guillaume|\n",
      "+--------------------+\n",
      "only showing top 20 rows\n",
      "\n"
     ]
    }
   ],
   "source": [
    "df.filter(df['hdr']).select(\"name\").show()"
   ]
  },
  {
   "cell_type": "code",
   "execution_count": 19,
   "metadata": {},
   "outputs": [
    {
     "name": "stdout",
     "output_type": "stream",
     "text": [
      "+------------+-----+\n",
      "|organization|count|\n",
      "+------------+-----+\n",
      "|         ENS|    3|\n",
      "|        CNRS|   19|\n",
      "|        INSA|   19|\n",
      "|          R2|   11|\n",
      "|       INRIA|    9|\n",
      "|        AGRO|    5|\n",
      "|         EXT|    2|\n",
      "|          R1|  176|\n",
      "+------------+-----+\n",
      "\n"
     ]
    }
   ],
   "source": [
    "df.groupBy(df[\"organization\"]).count().show()"
   ]
  },
  {
   "cell_type": "markdown",
   "metadata": {},
   "source": [
    "### Exercises\n",
    "\n",
    "- How many teachers from INSA (PR+MC) ?\n",
    "- How many MC in STATS team ?\n",
    "- How many MC+CR with HDR ?\n",
    "- What is the ratio of student supervision (DOC / HDR) ?\n",
    "- List number of people for every organization ?\n",
    "- List number of HDR people for every team ?\n",
    "- Which team contains most HDR ?\n",
    "- List number of DOC students for every organization ?\n",
    "- Which team contains most DOC ?\n",
    "- List people from CNRS that are neither CR nor DR ?"
   ]
  },
  {
   "cell_type": "code",
   "execution_count": 20,
   "metadata": {},
   "outputs": [],
   "source": [
    "sc.stop()"
   ]
  },
  {
   "cell_type": "code",
   "execution_count": null,
   "metadata": {},
   "outputs": [],
   "source": []
  }
 ],
 "metadata": {
  "@webio": {
   "lastCommId": null,
   "lastKernelId": null
  },
  "jupytext": {
   "encoding": "# -*- coding: utf-8 -*-"
  },
  "kernelspec": {
   "display_name": "big-data",
   "language": "python",
   "name": "big-data"
  },
  "language_info": {
   "codemirror_mode": {
    "name": "ipython",
    "version": 3
   },
   "file_extension": ".py",
   "mimetype": "text/x-python",
   "name": "python",
   "nbconvert_exporter": "python",
   "pygments_lexer": "ipython3",
   "version": "3.8.5"
  }
 },
 "nbformat": 4,
 "nbformat_minor": 2
}
