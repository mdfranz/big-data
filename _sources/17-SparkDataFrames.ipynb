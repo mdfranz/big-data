{
 "cells": [
  {
   "cell_type": "markdown",
   "metadata": {},
   "source": [
    "# Spark DataFrames\n",
    "\n",
    "- Enable wider audiences beyond “Big Data” engineers to leverage the power of distributed processing\n",
    "- Inspired by data frames in R and Python (Pandas)\n",
    "- Designed from the ground-up to support modern big\n",
    "data and data science applications\n",
    "- Extension to the existing RDD API\n",
    "\n",
    "## References\n",
    "- [Spark SQL, DataFrames and Datasets Guide](https://spark.apache.org/docs/latest/sql-programming-guide.html)\n",
    "- [Introduction to DataFrames - Python](https://docs.databricks.com/spark/latest/dataframes-datasets/introduction-to-dataframes-python.html)\n",
    "- [PySpark Cheat Sheet: Spark DataFrames in Python](https://www.datacamp.com/community/blog/pyspark-sql-cheat-sheet)"
   ]
  },
  {
   "cell_type": "markdown",
   "metadata": {},
   "source": [
    "### DataFrames are :\n",
    "- The preferred abstraction in Spark\n",
    "- Strongly typed collection of distributed elements \n",
    "- Built on Resilient Distributed Datasets (RDD)\n",
    "- Immutable once constructed\n",
    "\n",
    "### With Dataframes you can :\n",
    "- Track lineage information to efficiently recompute lost data \n",
    "- Enable operations on collection of elements in parallel\n",
    "\n",
    "### You construct DataFrames\n",
    "- by parallelizing existing collections (e.g., Pandas DataFrames) \n",
    "- by transforming an existing DataFrames\n",
    "- from files in HDFS or any other storage system (e.g., Parquet)\n",
    "\n",
    "### Features\n",
    "- Ability to scale from kilobytes of data on a single laptop to petabytes on a large cluster\n",
    "- Support for a wide array of data formats and storage systems\n",
    "- Seamless integration with all big data tooling and infrastructure via Spark\n",
    "- APIs for Python, Java, Scala, and R"
   ]
  },
  {
   "cell_type": "markdown",
   "metadata": {},
   "source": [
    "### DataFrames versus RDDs\n",
    "- Nice API for new users familiar with data frames in other programming languages.\n",
    "- For existing Spark users, the API will make Spark easier to program than using RDDs\n",
    "- For both sets of users, DataFrames will improve performance through intelligent optimizations and code-generation"
   ]
  },
  {
   "cell_type": "markdown",
   "metadata": {},
   "source": [
    "## PySpark Shell\n",
    "\n",
    "**Run the Spark shell:**\n",
    "\n",
    "~~~ bash\n",
    "pyspark\n",
    "~~~\n",
    "\n",
    "Output similar to the following will be displayed, followed by a `>>>` REPL prompt:\n",
    "\n",
    "~~~\n",
    "Python 3.6.5 |Anaconda, Inc.| (default, Apr 29 2018, 16:14:56)\n",
    "[GCC 7.2.0] on linux\n",
    "Type \"help\", \"copyright\", \"credits\" or \"license\" for more information.\n",
    "2018-09-18 17:13:13 WARN  NativeCodeLoader:62 - Unable to load native-hadoop library for your platform... using builtin-java classes where applicable\n",
    "Setting default log level to \"WARN\".\n",
    "To adjust logging level use sc.setLogLevel(newLevel). For SparkR, use setLogLevel(newLevel).\n",
    "Welcome to\n",
    "      ____              __\n",
    "     / __/__  ___ _____/ /__\n",
    "    _\\ \\/ _ \\/ _ `/ __/  '_/\n",
    "   /__ / .__/\\_,_/_/ /_/\\_\\   version 2.3.1\n",
    "      /_/\n",
    "\n",
    "Using Python version 3.6.5 (default, Apr 29 2018 16:14:56)\n",
    "SparkSession available as 'spark'.\n",
    ">>>\n",
    "~~~\n",
    "\n",
    "Read data and convert to Dataset\n",
    "\n",
    "~~~ py\n",
    "df = sqlContext.read.csv(\"/tmp/irmar.csv\", sep=';', header=True)\n",
    "~~~\n",
    "\n",
    "~~~\n",
    ">>> df2.show()\n",
    "+---+--------------------+------------+------+------------+--------+-----+---------+--------+\n",
    "|_c0|                name|       phone|office|organization|position|  hdr|    team1|   team2|\n",
    "+---+--------------------+------------+------+------------+--------+-----+---------+--------+\n",
    "|  0|      Alphonse Paul |+33223235223|   214|          R1|     DOC|False|      EDP|      NA|\n",
    "|  1|        Ammari Zied |+33223235811|   209|          R1|      MC| True|      EDP|      NA|\n",
    ".\n",
    ".\n",
    ".\n",
    "| 18|    Bernier Joachim |+33223237558|   214|          R1|     DOC|False|   ANANUM|      NA|\n",
    "| 19|   Berthelot Pierre |+33223236043|   601|          R1|      PE| True|       GA|      NA|\n",
    "+---+--------------------+------------+------+------------+--------+-----+---------+--------+\n",
    "only showing top 20 rows\n",
    "~~~"
   ]
  },
  {
   "cell_type": "markdown",
   "metadata": {},
   "source": [
    "## Transformations, Actions, Laziness\n",
    "\n",
    "Like RDDs, DataFrames are lazy. Transformations contribute to the query plan, but they don't execute anything.\n",
    "Actions cause the execution of the query.\n",
    "\n",
    "### Transformation examples\n",
    "- filter\n",
    "- select\n",
    "- drop\n",
    "- intersect \n",
    "- join\n",
    "### Action examples\n",
    "- count \n",
    "- collect \n",
    "- show \n",
    "- head\n",
    "- take"
   ]
  },
  {
   "cell_type": "markdown",
   "metadata": {},
   "source": [
    "## Creating a DataFrame in Python"
   ]
  },
  {
   "cell_type": "code",
   "execution_count": null,
   "metadata": {},
   "outputs": [],
   "source": [
    "import sys, subprocess\n",
    "import os\n",
    "\n",
    "os.environ[\"PYSPARK_PYTHON\"] = sys.executable"
   ]
  },
  {
   "cell_type": "code",
   "execution_count": null,
   "metadata": {},
   "outputs": [],
   "source": [
    "from pyspark import SparkContext, SparkConf, SQLContext\n",
    "# The following three lines are not necessary\n",
    "# in the pyspark shell\n",
    "conf = SparkConf().setAppName(\"people\").setMaster(\"local[*]\") \n",
    "sc = SparkContext(conf=conf)\n",
    "sc.setLogLevel(\"ERROR\")\n",
    "sqlContext = SQLContext(sc)"
   ]
  },
  {
   "cell_type": "code",
   "execution_count": null,
   "metadata": {},
   "outputs": [],
   "source": [
    "df = sqlContext.read.json(\"data/people.json\") # get a dataframe from json file\n",
    "\n",
    "df.show(24)"
   ]
  },
  {
   "cell_type": "markdown",
   "metadata": {},
   "source": [
    "## Schema Inference\n",
    "\n",
    "In this exercise, let's explore schema inference. We're going to be using a file called `irmar.txt`. The data is structured, but it has no self-describing schema. And, it's not JSON, so Spark can't infer the schema automatically. Let's create an RDD and look at the first few rows of the file."
   ]
  },
  {
   "cell_type": "code",
   "execution_count": null,
   "metadata": {},
   "outputs": [],
   "source": [
    "rdd = sc.textFile(\"data/irmar.csv\")\n",
    "for line in rdd.take(10):\n",
    "  print(line)"
   ]
  },
  {
   "cell_type": "markdown",
   "metadata": {},
   "source": [
    "## Hands-on Exercises\n",
    "\n",
    "You can look at the <a href=\"http://spark.apache.org/docs/2.3.1/api/python/index.html\" target=\"_blank\">DataFrames API documentation</a> \n",
    "\n",
    "Let's take a look to file \"/tmp/irmar.csv\". Each line consists \n",
    "of the same information about a person:\n",
    "\n",
    "* name\n",
    "* phone\n",
    "* office\n",
    "* organization\n",
    "* position \n",
    "* hdr\n",
    "* team1\n",
    "* team2"
   ]
  },
  {
   "cell_type": "code",
   "execution_count": null,
   "metadata": {},
   "outputs": [],
   "source": [
    "from collections import namedtuple\n",
    "\n",
    "rdd = sc.textFile(\"data/irmar.csv\")\n",
    "\n",
    "Person = namedtuple('Person', ['name', 'phone', 'office', 'organization', \n",
    "                               'position', 'hdr', 'team1', 'team2'])\n",
    "def str_to_bool(s):\n",
    "    if s == 'True': return True\n",
    "    return False\n",
    "\n",
    "def map_to_person(line):\n",
    "    cols = line.split(\";\")\n",
    "    return Person(name         = cols[0],\n",
    "                  phone        = cols[1],\n",
    "                  office       = cols[2],\n",
    "                  organization = cols[3],\n",
    "                  position     = cols[4], \n",
    "                  hdr          = str_to_bool(cols[5]),\n",
    "                  team1        = cols[6],\n",
    "                  team2        = cols[7])\n",
    "    \n",
    "people_rdd = rdd.map(map_to_person)\n",
    "df = people_rdd.toDF()"
   ]
  },
  {
   "cell_type": "code",
   "execution_count": null,
   "metadata": {},
   "outputs": [],
   "source": [
    "df.show()"
   ]
  },
  {
   "cell_type": "markdown",
   "metadata": {},
   "source": [
    "### Schema"
   ]
  },
  {
   "cell_type": "code",
   "execution_count": null,
   "metadata": {},
   "outputs": [],
   "source": [
    "df.printSchema()"
   ]
  },
  {
   "cell_type": "markdown",
   "metadata": {},
   "source": [
    "### display"
   ]
  },
  {
   "cell_type": "code",
   "execution_count": null,
   "metadata": {},
   "outputs": [],
   "source": [
    "display(df)"
   ]
  },
  {
   "cell_type": "markdown",
   "metadata": {},
   "source": [
    "### select"
   ]
  },
  {
   "cell_type": "code",
   "execution_count": null,
   "metadata": {},
   "outputs": [],
   "source": [
    "df.select(df[\"name\"], df[\"position\"], df[\"organization\"])"
   ]
  },
  {
   "cell_type": "code",
   "execution_count": null,
   "metadata": {},
   "outputs": [],
   "source": [
    "df.select(df[\"name\"], df[\"position\"], df[\"organization\"]).show()"
   ]
  },
  {
   "cell_type": "markdown",
   "metadata": {},
   "source": [
    "### filter"
   ]
  },
  {
   "cell_type": "code",
   "execution_count": null,
   "metadata": {},
   "outputs": [],
   "source": [
    "df.filter(df[\"organization\"] == \"R2\").show()"
   ]
  },
  {
   "cell_type": "markdown",
   "metadata": {},
   "source": [
    "### filter + select"
   ]
  },
  {
   "cell_type": "code",
   "execution_count": null,
   "metadata": {},
   "outputs": [],
   "source": [
    "df2 = df.filter(df[\"organization\"] == \"R2\").select(df['name'],df['team1'])"
   ]
  },
  {
   "cell_type": "code",
   "execution_count": null,
   "metadata": {},
   "outputs": [],
   "source": [
    "df2.show()"
   ]
  },
  {
   "cell_type": "markdown",
   "metadata": {},
   "source": [
    "### orderBy"
   ]
  },
  {
   "cell_type": "code",
   "execution_count": null,
   "metadata": {},
   "outputs": [],
   "source": [
    "(df.filter(df[\"organization\"] == \"R2\")\n",
    "   .select(df[\"name\"],df[\"position\"])\n",
    "   .orderBy(\"position\")).show()"
   ]
  },
  {
   "cell_type": "markdown",
   "metadata": {},
   "source": [
    "### groupBy"
   ]
  },
  {
   "cell_type": "code",
   "execution_count": null,
   "metadata": {},
   "outputs": [],
   "source": [
    "df.groupby(df[\"hdr\"])"
   ]
  },
  {
   "cell_type": "code",
   "execution_count": null,
   "metadata": {},
   "outputs": [],
   "source": [
    "df.groupby(df[\"hdr\"]).count().show()"
   ]
  },
  {
   "cell_type": "markdown",
   "metadata": {},
   "source": [
    "WARNING: Don't confuse GroupedData.count() with DataFrame.count(). GroupedData.count() is not an action. DataFrame.count() is an action."
   ]
  },
  {
   "cell_type": "code",
   "execution_count": null,
   "metadata": {},
   "outputs": [],
   "source": [
    "df.filter(df[\"hdr\"]).count()"
   ]
  },
  {
   "cell_type": "code",
   "execution_count": null,
   "metadata": {},
   "outputs": [],
   "source": [
    "df.filter(df['hdr']).select(\"name\").show()"
   ]
  },
  {
   "cell_type": "code",
   "execution_count": null,
   "metadata": {},
   "outputs": [],
   "source": [
    "df.groupBy(df[\"organization\"]).count().show()"
   ]
  },
  {
   "cell_type": "markdown",
   "metadata": {},
   "source": [
    "### Exercises\n",
    "\n",
    "- How many teachers from INSA (PR+MC) ?\n",
    "- How many MC in STATS team ?\n",
    "- How many MC+CR with HDR ?\n",
    "- What is the ratio of student supervision (DOC / HDR) ?\n",
    "- List number of people for every organization ?\n",
    "- List number of HDR people for every team ?\n",
    "- Which team contains most HDR ?\n",
    "- List number of DOC students for every organization ?\n",
    "- Which team contains most DOC ?\n",
    "- List people from CNRS that are neither CR nor DR ?"
   ]
  },
  {
   "cell_type": "code",
   "execution_count": null,
   "metadata": {},
   "outputs": [],
   "source": [
    "sc.stop()"
   ]
  },
  {
   "cell_type": "code",
   "execution_count": null,
   "metadata": {},
   "outputs": [],
   "source": []
  }
 ],
 "metadata": {
  "jupytext": {
   "encoding": "# -*- coding: utf-8 -*-",
   "text_representation": {
    "extension": ".md",
    "format_name": "myst",
    "format_version": 0.12,
    "jupytext_version": "1.6.0"
   }
  },
  "kernelspec": {
   "display_name": "big-data",
   "language": "python",
   "name": "big-data"
  },
  "source_map": [
   13,
   28,
   51,
   58,
   111,
   131,
   135,
   142,
   152,
   156,
   162,
   166,
   184,
   210,
   212,
   216,
   218,
   222,
   224,
   228,
   232,
   234,
   238,
   240,
   244,
   248,
   250,
   254,
   258,
   262,
   266,
   268,
   272,
   276,
   280,
   282,
   297,
   301
  ]
 },
 "nbformat": 4,
 "nbformat_minor": 4
}