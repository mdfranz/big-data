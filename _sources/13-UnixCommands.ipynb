{
 "cells": [
  {
   "cell_type": "markdown",
   "metadata": {
    "slideshow": {
     "slide_type": "slide"
    }
   },
   "source": [
    "# Basic Commands in the Unix Shell\n",
    "\n",
    "For windows 10 users, activate [bash](http://www.numerama.com/tech/158150-le-shell-bash-sous-windows-10-ce-quil-faut-savoir.html).\n",
    "\n",
    "Or install [Jupyter Lab](https://jupyterlab.readthedocs.io)\n",
    "```bash\n",
    "conda install jupyterlab -c conda-forge\n",
    "jupyter lab\n",
    "```\n",
    "\n",
    "\n",
    "## Unix Shell\n",
    "The shell is a command programming language that provides an interface to the UNIX operating system. Documentation of unix command is displayed by command `man`. Exemple:\n",
    "```bash\n",
    "man whoami\n",
    "```"
   ]
  },
  {
   "cell_type": "code",
   "execution_count": 1,
   "metadata": {
    "slideshow": {
     "slide_type": "fragment"
    }
   },
   "outputs": [],
   "source": [
    "#%%bash\n",
    "#man whoami"
   ]
  },
  {
   "cell_type": "markdown",
   "metadata": {
    "slideshow": {
     "slide_type": "slide"
    }
   },
   "source": [
    "## Directories\n",
    "The shell should start you in your home directory. This is your individual space on the UNIX system for your files. You can find out the name of your current working directory with the unix command `pwd`."
   ]
  },
  {
   "cell_type": "markdown",
   "metadata": {
    "slideshow": {
     "slide_type": "fragment"
    }
   },
   "source": [
    "In the terminal, type the letters 'p', 'w', 'd', and then \"enter\" - always conclude each command by pressing the \"enter\" key. The response that follows on the next line will be the name of your home directory, where the name following the last slash should be your username.) The directory structure can be conceptualized as an inverted tree."
   ]
  },
  {
   "cell_type": "markdown",
   "metadata": {
    "slideshow": {
     "slide_type": "slide"
    }
   },
   "source": [
    "In the jupyter notebook, unix shell command can be executed using the escape character \"!\" or add `%%bash` to the cell first line. You can type command directly in a terminal without the \"!\"."
   ]
  },
  {
   "cell_type": "code",
   "execution_count": 2,
   "metadata": {
    "scrolled": true,
    "slideshow": {
     "slide_type": "fragment"
    }
   },
   "outputs": [],
   "source": [
    "#%%bash\n",
    "#pwd"
   ]
  },
  {
   "cell_type": "markdown",
   "metadata": {
    "slideshow": {
     "slide_type": "fragment"
    }
   },
   "source": [
    "Some unix command (not all) are also jupyter magic command like %pwd"
   ]
  },
  {
   "cell_type": "code",
   "execution_count": 3,
   "metadata": {
    "slideshow": {
     "slide_type": "fragment"
    }
   },
   "outputs": [],
   "source": [
    "#%pwd"
   ]
  },
  {
   "cell_type": "markdown",
   "metadata": {
    "slideshow": {
     "slide_type": "slide"
    }
   },
   "source": [
    "## Home directory\n",
    "\n",
    "No matter where in the directory structure you are, you can always get back to your home directory with `cd`."
   ]
  },
  {
   "cell_type": "markdown",
   "metadata": {
    "slideshow": {
     "slide_type": "fragment"
    }
   },
   "source": [
    "### Create a new subdirectory named \"primer\" :\n",
    "```sh\n",
    "mkdir primer\n",
    "```"
   ]
  },
  {
   "cell_type": "code",
   "execution_count": 4,
   "metadata": {
    "slideshow": {
     "slide_type": "fragment"
    }
   },
   "outputs": [],
   "source": [
    "#%%bash\n",
    "#rm -rf primer  # remove primer directory if it exists\n",
    "#mkdir  primer  # make the new directory "
   ]
  },
  {
   "cell_type": "markdown",
   "metadata": {
    "slideshow": {
     "slide_type": "fragment"
    }
   },
   "source": [
    "Now change to the \"primer\" subdirectory, making it your current working directory:\n",
    "```sh\n",
    "cd primer\n",
    "pwd\n",
    "```"
   ]
  },
  {
   "cell_type": "code",
   "execution_count": 5,
   "metadata": {
    "slideshow": {
     "slide_type": "fragment"
    }
   },
   "outputs": [],
   "source": [
    "#%cd primer"
   ]
  },
  {
   "cell_type": "code",
   "execution_count": 6,
   "metadata": {},
   "outputs": [],
   "source": [
    "#pwd"
   ]
  },
  {
   "cell_type": "markdown",
   "metadata": {
    "slideshow": {
     "slide_type": "slide"
    }
   },
   "source": [
    "## Files\n",
    "\n",
    "Create a file using `date` command and `whoami`:\n",
    "```sh\n",
    "date >> first.txt\n",
    "whoami >> first.txt\n",
    "```\n",
    "date and whoami are not jupyter magic commands"
   ]
  },
  {
   "cell_type": "code",
   "execution_count": 7,
   "metadata": {
    "slideshow": {
     "slide_type": "fragment"
    }
   },
   "outputs": [],
   "source": [
    "#%%bash\n",
    "#\n",
    "#date >> first.txt\n",
    "#whoami >> first.txt"
   ]
  },
  {
   "cell_type": "markdown",
   "metadata": {
    "slideshow": {
     "slide_type": "slide"
    }
   },
   "source": [
    "### List files and directories\n",
    "Files live within directories. You can see a list of the files in your \"primer\" directory (which should be your current working directory) by typing:\n",
    "```sh\n",
    "ls\n",
    "```"
   ]
  },
  {
   "cell_type": "code",
   "execution_count": 8,
   "metadata": {
    "slideshow": {
     "slide_type": "fragment"
    }
   },
   "outputs": [],
   "source": [
    "#%%bash\n",
    "#ls"
   ]
  },
  {
   "cell_type": "markdown",
   "metadata": {
    "slideshow": {
     "slide_type": "slide"
    }
   },
   "source": [
    "### Display file content\n",
    "You can view a text file with the following command:\n",
    "```sh\n",
    "cat first.txt\n",
    "```\n",
    "(\"cat\" is short for concatenate - you can use this to display multiple files together on the screen.) If you have a file that is longer than your 24-line console window, use instead \"more\" to list one page at a time or \"less\" to scroll the file down and up with the arrow keys. Don't use these programs to try to display binary (non-text) files on your console - the attempt to print the non-printable control characters might alter your console settings and render the console unusable."
   ]
  },
  {
   "cell_type": "code",
   "execution_count": 9,
   "metadata": {
    "slideshow": {
     "slide_type": "fragment"
    }
   },
   "outputs": [],
   "source": [
    "#%%bash\n",
    "#cat first.txt"
   ]
  },
  {
   "cell_type": "markdown",
   "metadata": {
    "slideshow": {
     "slide_type": "slide"
    }
   },
   "source": [
    "- Copy file \"first\" using the following command:\n",
    "\n",
    "```sh\n",
    "cp first.txt 2nd.txt\n",
    "```\n",
    "By doing this you have created a new file named \"2nd.txt\" which is a duplicate of file \"first.txt\". Geet he file listing with:\n",
    "```sh\n",
    "ls\n",
    "```"
   ]
  },
  {
   "cell_type": "code",
   "execution_count": 10,
   "metadata": {
    "slideshow": {
     "slide_type": "fragment"
    }
   },
   "outputs": [],
   "source": [
    "#%%bash\n",
    "#cp first.txt 2nd.txt\n",
    "#ls"
   ]
  },
  {
   "cell_type": "markdown",
   "metadata": {
    "slideshow": {
     "slide_type": "fragment"
    }
   },
   "source": [
    "- Now rename the file \"2nd\" to \"second\":\n",
    "```sh\n",
    "mv 2nd.txt second.txt\n",
    "```\n",
    "Listing the files still shows two files because you haven't created a new file, just changed an existing file's name:\n",
    "```sh\n",
    "ls\n",
    "```"
   ]
  },
  {
   "cell_type": "code",
   "execution_count": 11,
   "metadata": {
    "slideshow": {
     "slide_type": "fragment"
    }
   },
   "outputs": [],
   "source": [
    "#%%bash\n",
    "#mv 2nd.txt second.txt\n",
    "#ls"
   ]
  },
  {
   "cell_type": "markdown",
   "metadata": {
    "slideshow": {
     "slide_type": "slide"
    }
   },
   "source": [
    "If you \"cat\" the second file, you'll see the same sentence as in your first file:\n",
    "```sh \n",
    "cat second.txt\n",
    "```"
   ]
  },
  {
   "cell_type": "code",
   "execution_count": 12,
   "metadata": {
    "slideshow": {
     "slide_type": "fragment"
    }
   },
   "outputs": [],
   "source": [
    "#%%bash\n",
    "#cat second.txt"
   ]
  },
  {
   "cell_type": "markdown",
   "metadata": {
    "slideshow": {
     "slide_type": "slide"
    }
   },
   "source": [
    "\"mv\" will allow you to move files, not just rename them. Perform the following commands:\n",
    "```sh \n",
    "mkdir sub\n",
    "mv second.txt sub\n",
    "ls sub\n",
    "ls\n",
    "```\n",
    "(where \"username\" will be your username and \"group\" will be your group name). Among other things, this lists the creation date and time, file access permissions, and file size in bytes. The letter 'd' (the first character on the line) indicates the directory names."
   ]
  },
  {
   "cell_type": "code",
   "execution_count": 13,
   "metadata": {
    "slideshow": {
     "slide_type": "slide"
    }
   },
   "outputs": [],
   "source": [
    "#%%bash\n",
    "#mkdir sub\n",
    "#mv second.txt sub\n",
    "#ls sub"
   ]
  },
  {
   "cell_type": "markdown",
   "metadata": {
    "slideshow": {
     "slide_type": "fragment"
    }
   },
   "source": [
    "This creates a new subdirectory named \"sub\", moves \"second\" into \"sub\", then lists the contents of both directories. You can list even more information about files by using the \"-l\" option with \"ls\":"
   ]
  },
  {
   "cell_type": "code",
   "execution_count": 14,
   "metadata": {
    "scrolled": true,
    "slideshow": {
     "slide_type": "fragment"
    }
   },
   "outputs": [],
   "source": [
    "#%%bash\n",
    "#ls -l"
   ]
  },
  {
   "cell_type": "markdown",
   "metadata": {
    "slideshow": {
     "slide_type": "slide"
    }
   },
   "source": [
    "Next perform the following commands:\n",
    "```sh\n",
    "cd sub\n",
    "pwd\n",
    "ls -l\n",
    "cd ..\n",
    "pwd\n",
    "```\n"
   ]
  },
  {
   "cell_type": "code",
   "execution_count": 15,
   "metadata": {
    "slideshow": {
     "slide_type": "fragment"
    }
   },
   "outputs": [],
   "source": [
    "#%%bash\n",
    "## go to sub directory\n",
    "#cd sub \n",
    "## current working directory\n",
    "#pwd  \n",
    "## list files with permissions\n",
    "#ls -l \n",
    "## go to parent directory\n",
    "#cd ..  \n",
    "## current working directory\n",
    "#pwd     "
   ]
  },
  {
   "cell_type": "markdown",
   "metadata": {
    "slideshow": {
     "slide_type": "slide"
    }
   },
   "source": [
    "Finally, clean up the duplicate files by removing the \"second.txt\" file and the \"sub\" subdirectory:\n",
    "```sh\n",
    "rm sub/second.txt\n",
    "rmdir sub\n",
    "ls -l\n",
    "cd\n",
    "```\n",
    "This shows that you can refer to a file in a different directory using the relative path name to the file (you can also use the absolute path name to the file - something like \"/Users/username/primer/sub/second.txt\", depending on your home directory). You can also include the \"..\" within the path name (for instance, you could have referred to the file as \"../primer/sub/second.txt\")."
   ]
  },
  {
   "cell_type": "code",
   "execution_count": 16,
   "metadata": {
    "slideshow": {
     "slide_type": "fragment"
    }
   },
   "outputs": [],
   "source": [
    "#%%bash\n",
    "#rm -f sub/second.txt\n",
    "#rmdir sub\n",
    "#ls -l\n",
    "#cd ..\n",
    "#rm -rf primer"
   ]
  },
  {
   "cell_type": "markdown",
   "metadata": {
    "slideshow": {
     "slide_type": "slide"
    }
   },
   "source": [
    "## Connect to a server\n",
    "\n",
    "Remote login to another machine can be accomplished using the \"ssh\" command:\n",
    "```bash\n",
    "ssh -l mylogin host\n",
    "```\n",
    "or\n",
    "```bash\n",
    "ssh mylogin@host\n",
    "```\n",
    "where \"myname\" will be your username on the remote system (possibly identical to your username on this system) and \"host\" is the name (or IP address) of the machine you are logging into. \n",
    "\n",
    "Transfer files between machines using \"scp\". \n",
    "- To copy file \"myfile\" from the remote machine named \"host\":\n",
    "```bash\n",
    "scp myname@host:myfile .\n",
    "```\n",
    "- To copy file \"myfile\" from the local machine to the remote named \"host\":\n",
    "```bash\n",
    "scp myfile myname@host:\n",
    "```\n",
    "- Use `ssh -r` option to copy a directory\n",
    "(The \".\" refers to your current working directory, meaning that the destination for \"myfile\" is your current directory.)\n",
    "\n",
    "### Exercise\n",
    "- Copy a file to the server `svmass2.mass.uhb.fr`\n",
    "- Log on to this server and display this file with `cat`\n"
   ]
  },
  {
   "cell_type": "markdown",
   "metadata": {},
   "source": [
    "## Secure copy (scp)\n",
    "\n",
    "Synchronize big-data directory on the cluster:\n",
    "```bash\n",
    "scp -r big-data svmass2:\n",
    "```\n",
    "This a secure copy of big-data directory to the server.\n",
    "\n",
    "or\n",
    "```\n",
    "rsync -e ssh -avrz big-data svmass2:\n",
    "```\n",
    "It synchronizes the local directory big-data with the remote repository big-data on svmass2 server"
   ]
  },
  {
   "cell_type": "markdown",
   "metadata": {
    "slideshow": {
     "slide_type": "slide"
    }
   },
   "source": [
    "## Summary Of Basic Shell Commands\n",
    "```bash\n",
    "% pico myfile\t            # text edit file \"myfile\"\n",
    "% ls\t                    # list files in current directory\n",
    "% ls -l\t                    # long format listing\n",
    "% touch myfile              # create new empty file \"myfile\"\n",
    "% cat myfile\t            # view contents of text file \"myfile\"\n",
    "% more myfile\t            # paged viewing of text file \"myfile\"\n",
    "% less myfile\t            # scroll through text file \"myfile\"\n",
    "% head myfile               # view 10 first lines of text file \"myfile\"\n",
    "% tail myfile               # view 10 last lines of text file \"myfile\"\n",
    "% cp srcfile destfile\t    # copy file \"srcfile\" to new file \"destfile\"\n",
    "% mv oldname newname\t    # rename (or move) file \"oldname\" to \"newname\"\n",
    "% rm myfile\t                # remove file \"myfile\"\n",
    "% mkdir subdir\t            # make new directory \"subdir\"\n",
    "% cd subdir\t                # change current working directory to \"subdir\"\n",
    "% rmdir subdir\t            # remove (empty) directory \"subdir\"\n",
    "% pwd\t                    # display current working directory\n",
    "% date\t                    # display current date and time of day\n",
    "% ssh -l myname host\t    # remote shell login of username \"myname\" to \"host\"\n",
    "% scp myname@host:myfile .\t# remote copy of file \"myfile\" to current directory\n",
    "% scp myfile myname@host:\t# copy of file \"myfile\" to remote server\n",
    "% firefox &\t                # start Firefox web browser (in background)\n",
    "% jobs                      # display programs running in background\n",
    "% kill %n                   # kill job number n (use jobs to get this number)\n",
    "% man -k \"topic\"\t        # search manual pages for \"topic\"\n",
    "% man command\t            # display man page for \"command\"\n",
    "% exit\t                    # exit a terminal window\n",
    "% logout\t                # logout of a console session\n",
    "```"
   ]
  },
  {
   "cell_type": "markdown",
   "metadata": {
    "slideshow": {
     "slide_type": "slide"
    }
   },
   "source": [
    "## Redirecting \n",
    "\n",
    "Redirection is usually implemented by placing characters <,>,|,>> between commands.\n",
    "\n",
    "- Use  > to redirect output.\n",
    "```bash\n",
    "ls *.ipynb > file_list.txt\n",
    "```\n",
    "executes `ls`, placing the output in file_list.txt, as opposed to displaying it at the terminal, which is the usual destination for standard output. This will clobber any existing data in file1."
   ]
  },
  {
   "cell_type": "code",
   "execution_count": 17,
   "metadata": {
    "slideshow": {
     "slide_type": "fragment"
    }
   },
   "outputs": [],
   "source": [
    "#%%bash\n",
    "#ls *.ipynb > file_list.txt"
   ]
  },
  {
   "cell_type": "markdown",
   "metadata": {
    "slideshow": {
     "slide_type": "fragment"
    }
   },
   "source": [
    "- Use < to redirect input.\n",
    "```bash\n",
    "wc < file_list.txt\n",
    "```\n",
    "executes `wc`, with file_list.txt as the source of input, as opposed to the keyboard, which is the usual source for standard input.\n",
    "\n"
   ]
  },
  {
   "cell_type": "markdown",
   "metadata": {
    "slideshow": {
     "slide_type": "slide"
    }
   },
   "source": [
    "### Python example"
   ]
  },
  {
   "cell_type": "code",
   "execution_count": 18,
   "metadata": {
    "slideshow": {
     "slide_type": "fragment"
    }
   },
   "outputs": [
    {
     "name": "stdout",
     "output_type": "stream",
     "text": [
      "Overwriting test_stdin.py\n"
     ]
    }
   ],
   "source": [
    "%%file test_stdin.py\n",
    "#!/usr/bin env python\n",
    "import sys\n",
    "\n",
    "# input comes from standard input\n",
    "k = 0\n",
    "for file in sys.stdin:\n",
    "    k +=1\n",
    "    print('file {} : {}'.format(k,file))"
   ]
  },
  {
   "cell_type": "code",
   "execution_count": 19,
   "metadata": {
    "slideshow": {
     "slide_type": "fragment"
    }
   },
   "outputs": [],
   "source": [
    "# %%bash\n",
    "# python test_stdin.py < file_list.txt"
   ]
  },
  {
   "cell_type": "markdown",
   "metadata": {
    "slideshow": {
     "slide_type": "slide"
    }
   },
   "source": [
    "You can combine the two capabilities: read from an input file and write to an output file."
   ]
  },
  {
   "cell_type": "code",
   "execution_count": 20,
   "metadata": {
    "slideshow": {
     "slide_type": "fragment"
    }
   },
   "outputs": [],
   "source": [
    "# %%bash\n",
    "# python test_stdin.py < file_list.txt > output.txt"
   ]
  },
  {
   "cell_type": "code",
   "execution_count": 21,
   "metadata": {
    "slideshow": {
     "slide_type": "fragment"
    }
   },
   "outputs": [],
   "source": [
    "# %%bash\n",
    "# cat output.txt"
   ]
  },
  {
   "cell_type": "markdown",
   "metadata": {
    "slideshow": {
     "slide_type": "slide"
    }
   },
   "source": [
    "To append output to the end of the file, rather than clobbering it, the >> operator is used:\n",
    "\n",
    "date >> output.txt\n",
    "\n",
    "It will append the today date to the end of the file output.txt\n"
   ]
  },
  {
   "cell_type": "code",
   "execution_count": 22,
   "metadata": {
    "slideshow": {
     "slide_type": "fragment"
    }
   },
   "outputs": [],
   "source": [
    "# %%bash\n",
    "# date >> output.txt\n",
    "# cat output.txt"
   ]
  },
  {
   "cell_type": "markdown",
   "metadata": {
    "slideshow": {
     "slide_type": "slide"
    }
   },
   "source": [
    "## Permissions\n",
    "Every file on the system has associated with it a set of permissions. Permissions tell UNIX what can be done with that file and by whom. There are three things you can (or can't) do with a given file:\n",
    "- read,\n",
    "- write (modify),\n",
    "- execute.\n",
    "\n",
    "Unix permissions specify what can 'owner', 'group' and 'all' can do. \n",
    "\n",
    "If you try ls -l on the command prompt you get something like the following:\n",
    "```bash\n",
    "-rw-r--r--  1 navaro  staff   15799  5 oct 15:57 01.MapReduce.ipynb\n",
    "-rw-r--r--  1 navaro  staff   18209 12 oct 16:04 02.Containers.ipynb\n",
    "-rw-r--r--  1 navaro  staff   37963 12 oct 21:28 03.ParallelComputation.ipynb\n",
    "```\n",
    "\n",
    "\n",
    "Three bits specify access permissions: \n",
    "- **r** read,\n",
    "- **w** access,\n",
    "- **w** execute. \n",
    "\n"
   ]
  },
  {
   "cell_type": "markdown",
   "metadata": {
    "slideshow": {
     "slide_type": "slide"
    }
   },
   "source": [
    "### Example \n",
    "```\n",
    "rwxr-xr--\n",
    "```\n",
    "- the owner can do anything with the file, \n",
    "- group owners and the  can only read or execute it. \n",
    "- rest of the world can only read\n",
    "\n",
    "## chmod\n",
    "To set/modify a file's permissions you need to use the chmod program. Of course, only the owner of a file may use chmod to alter a file's permissions. chmod has the following syntax: \n",
    "```bash\n",
    "chmod [options] mode file(s)\n",
    "```\n",
    "\n",
    "- The 'mode' part specifies the new permissions for the file(s) that follow as arguments. A mode specifies which user's permissions should be changed, and afterwards which access types should be changed.\n",
    "- We use `+` or `-` to change the mode for owner, group and the rest of the world.\n",
    "- The permissions start with a letter specifying what users should be affected by the change.\n",
    "\n",
    "Original permissions of script.py are `rw-------`\n",
    "\n",
    "- `chmod u+x script.py` set permissions to `rwx------`\n",
    "- `chmod a+x script.py` set permissions to `rwx--x--x`\n",
    "- `chmod g+r script.py` set permissions to `rwxr-x--x`\n",
    "- `chmod o-x script.py` set permissions to `rwxr-x---`\n",
    "- `chmod og+w script.py` set permissions to `rwxrwx-w-`\n"
   ]
  },
  {
   "cell_type": "markdown",
   "metadata": {
    "slideshow": {
     "slide_type": "slide"
    }
   },
   "source": [
    "## Pipelining\n",
    "```bash\n",
    "ls | grep ipynb\n",
    "```\n",
    "executes `ls`, using its output as the input for `grep`.\n",
    "\n",
    "### Exercice 11.1\n",
    "\n",
    "- Pipe `cat *.ipynb` output to `sort` command.\n",
    "- Pipe `ls` output to `wc` command.\n",
    "- Pipe `cat 11.UnixCommands.ipynb` to `less` command."
   ]
  },
  {
   "cell_type": "markdown",
   "metadata": {
    "slideshow": {
     "slide_type": "slide"
    }
   },
   "source": [
    "\n",
    "## Chained pipelines\n",
    "\n",
    "The redirection and piping tokens can be chained together to create complex commands. \n",
    "\n",
    "### Exercice 11.2\n",
    "\n",
    "Use unix commands chained to display word count of file `sample.txt`.\n",
    "\n",
    "Hints:\n",
    "\n",
    "- `fmt -n` takes text as input and reformats it into  paragraphs with no line longer than n. \n",
    "- `sort` sort the output alphabetically\n",
    "- `tr -d str` delete the string str from the output\n",
    "- `uniq -c` writes a copy of each unique input and precede each word with the count of the number of occurences.\n",
    "\n"
   ]
  },
  {
   "cell_type": "code",
   "execution_count": 23,
   "metadata": {
    "slideshow": {
     "slide_type": "skip"
    }
   },
   "outputs": [],
   "source": [
    "from lorem import text\n",
    "with open('sample.txt', 'w') as f:\n",
    "    f.write(text())"
   ]
  },
  {
   "cell_type": "markdown",
   "metadata": {
    "slideshow": {
     "slide_type": "slide"
    }
   },
   "source": [
    "### Exercice 11.3\n",
    "\n",
    "- Create a python script mapper.py to count words from stdin. The script prints out every word found in stdin with the value 1 separate by a tab.\n",
    "```text\n",
    "Consectetur\t1\n",
    "adipisci\t1\n",
    "quiquia\t1\n",
    "sit\t1\n",
    "```\n"
   ]
  },
  {
   "cell_type": "markdown",
   "metadata": {
    "slideshow": {
     "slide_type": "slide"
    }
   },
   "source": [
    "File `mapper.py` must be executable."
   ]
  },
  {
   "cell_type": "code",
   "execution_count": 24,
   "metadata": {
    "slideshow": {
     "slide_type": "fragment"
    }
   },
   "outputs": [],
   "source": [
    "# %%bash\n",
    "# chmod +x mapper.py"
   ]
  },
  {
   "cell_type": "markdown",
   "metadata": {
    "slideshow": {
     "slide_type": "slide"
    }
   },
   "source": [
    "### Exercice 11.4\n",
    "\n",
    "- Create a python script reducer.py to read output from mapper.py. The script prints out every word and number of occurences.\n",
    "```bash\n",
    "cat sample.txt | ./mapper.py | ./reducer.py\n",
    "```\n",
    "\n",
    "```text\n",
    "7\tporro\n",
    "7\teius\n",
    "6\tnon\n",
    "6\tdolore\n",
    "```\n",
    "\n"
   ]
  },
  {
   "cell_type": "code",
   "execution_count": 25,
   "metadata": {},
   "outputs": [],
   "source": [
    "# %%bash\n",
    "# chmod +x ./reducer.py"
   ]
  }
 ],
 "metadata": {
  "@webio": {
   "lastCommId": null,
   "lastKernelId": null
  },
  "kernelspec": {
   "display_name": "big-data",
   "language": "python",
   "name": "big-data"
  },
  "language_info": {
   "codemirror_mode": {
    "name": "ipython",
    "version": 3
   },
   "file_extension": ".py",
   "mimetype": "text/x-python",
   "name": "python",
   "nbconvert_exporter": "python",
   "pygments_lexer": "ipython3",
   "version": "3.8.5"
  }
 },
 "nbformat": 4,
 "nbformat_minor": 2
}
