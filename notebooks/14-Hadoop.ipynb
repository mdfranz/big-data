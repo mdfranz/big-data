{
 "cells": [
  {
   "cell_type": "markdown",
   "metadata": {
    "slideshow": {
     "slide_type": "slide"
    }
   },
   "source": [
    "# Hadoop\n",
    "\n",
    "- Data sets that are so large or complex that traditional data processing application software is inadequate to deal with them. \n",
    "- Data analysis requires massively parallel software running on several servers.\n",
    "- **Volume, Variety, Velocity, Variability and Veracity** describe Big Data properties."
   ]
  },
  {
   "cell_type": "markdown",
   "metadata": {
    "slideshow": {
     "slide_type": "slide"
    }
   },
   "source": [
    "![https://github.com/veekaybee/data-lake-talk/](images/bigdata.png)"
   ]
  },
  {
   "cell_type": "markdown",
   "metadata": {
    "slideshow": {
     "slide_type": "slide"
    }
   },
   "source": [
    "![Hadoop Logo](images/hadoop.png)\n",
    "\n",
    "- Framework for running applications on large cluster. \n",
    "- The Hadoop framework transparently provides applications both reliability and data motion. \n",
    "- Hadoop implements the computational paradigm named **Map/Reduce**, where the application is divided into many small fragments of work, each of which may be executed or re-executed on any node in the cluster. \n",
    "- It provides a distributed file system (HDFS) that stores data on the compute nodes, providing very high aggregate bandwidth across the cluster.\n",
    "- Both MapReduce and the **Hadoop Distributed File System** are designed so that node failures are automatically handled by the framework."
   ]
  },
  {
   "cell_type": "markdown",
   "metadata": {
    "slideshow": {
     "slide_type": "slide"
    }
   },
   "source": [
    "## HDFS\n",
    "\n",
    "* It is a distributed file systems.\n",
    "* HDFS is highly fault-tolerant and is designed to be deployed on low-cost hardware.\n",
    "* HDFS is suitable for applications that have large data sets. \n",
    "* HDFS provides interfaces to move applications closer to where the data is located. The computation is much more efficient when the size of the data set is huge. \n",
    "* HDFS consists of a single NameNode with a number of DataNodes which manage storage. \n",
    "* HDFS exposes a file system namespace and allows user data to be stored in files. \n",
    "    1. A file is split by the NameNode into blocks stored in DataNodes. \n",
    "    2. The **NameNode** executes operations like opening, closing, and renaming files and directories.\n",
    "    3. The **Secondary NameNode** stores information from **NameNode**. \n",
    "    4. The **DataNodes** manage perform block creation, deletion, and replication upon instruction from the NameNode.\n",
    "    5. The placement of replicas is optimized for data reliability, availability, and network bandwidth utilization.\n",
    "    6. User data never flows through the NameNode.\n",
    "* Files in HDFS are write-once and have strictly one writer at any time.\n",
    "* The DataNode has no knowledge about HDFS files. "
   ]
  },
  {
   "cell_type": "markdown",
   "metadata": {
    "slideshow": {
     "slide_type": "slide"
    }
   },
   "source": [
    "## Accessibility\n",
    "\n",
    "All [HDFS commands](http://hadoop.apache.org/docs/stable/hadoop-project-dist/hadoop-common/FileSystemShell.html)  are invoked by the bin/hdfs Java script:\n",
    "```shell\n",
    "hdfs [SHELL_OPTIONS] COMMAND [GENERIC_OPTIONS] [COMMAND_OPTIONS]\n",
    "```\n",
    "## Manage files and directories\n",
    "```shell\n",
    "hdfs dfs -ls -h -R # Recursively list subdirectories with human-readable file sizes.\n",
    "hdfs dfs -cp  # Copy files from source to destination\n",
    "hdfs dfs -mv  # Move files from source to destination\n",
    "hdfs dfs -mkdir /foodir # Create a directory named /foodir\t\n",
    "hdfs dfs -rmr /foodir   # Remove a directory named /foodir\t\n",
    "hdfs dfs -cat /foodir/myfile.txt #View the contents of a file named /foodir/myfile.txt\t\n",
    "```"
   ]
  },
  {
   "cell_type": "markdown",
   "metadata": {
    "slideshow": {
     "slide_type": "slide"
    }
   },
   "source": [
    "## Transfer between nodes\n",
    "\n",
    "### put\n",
    "```shell\n",
    "hdfs fs -put [-f] [-p] [-l] [-d] [ - | <localsrc1> .. ]. <dst>\n",
    "```\n",
    "Copy single src, or multiple srcs from local file system to the destination file system. \n",
    "\n",
    "Options:\n",
    "\n",
    "    -p : Preserves rights and modification times.\n",
    "    -f : Overwrites the destination if it already exists.\n",
    "\n",
    "```shell\n",
    "hdfs fs -put localfile /user/hadoop/hadoopfile\n",
    "hdfs fs -put -f localfile1 localfile2 /user/hadoop/hadoopdir\n",
    "```\n",
    "Similar to the fs -put command\n",
    "- `moveFromLocal` : to delete the source localsrc after copy.\n",
    "- `copyFromLocal` : source is restricted to a local file\n",
    "- `copyToLocal` : destination is restricted to a local file"
   ]
  },
  {
   "cell_type": "markdown",
   "metadata": {
    "slideshow": {
     "slide_type": "slide"
    }
   },
   "source": [
    "![hdfs blocks](images/hdfs-fonctionnement.jpg)\n",
    "\n",
    "The Name Node is not in the data path. The Name Node only provides the map of where data is and where data should go in the cluster (file system metadata)."
   ]
  },
  {
   "cell_type": "markdown",
   "metadata": {
    "slideshow": {
     "slide_type": "slide"
    }
   },
   "source": [
    "## Hadoop cluster\n",
    "\n",
    "- 8 computers: sve1 -> sve9\n",
    "\n",
    "### NameNode Web Interface (HDFS layer) \n",
    "\n",
    "http://svmass2.mass.uhb.fr:50070\n",
    "\n",
    "The name node web UI shows you a cluster summary including information about total/remaining capacity, live and dead nodes. Additionally, it allows you to browse the HDFS namespace and view the contents of its files in the web browser. It also gives access to the local machine’s Hadoop log files.\n",
    "\n",
    "### Secondary Namenode Information.\n",
    "\n",
    "http://svmass2.mass.uhb.fr:50090/\n",
    "\n",
    "### Datanode Information.\n",
    "\n",
    "- http://svpe1.mass.uhb.fr:50075/\n",
    "- http://svpe2.mass.uhb.fr:50075/\n",
    "- ...\n",
    "- http://svpe8.mass.uhb.fr:50075/\n",
    "- http://svpe9.mass.uhb.fr:50075/"
   ]
  },
  {
   "cell_type": "markdown",
   "metadata": {
    "slideshow": {
     "slide_type": "slide"
    }
   },
   "source": [
    "To do following hands on you can switch to [JupyterLab](https://jupyterlab.readthedocs.io).\n",
    "\n",
    "Just go to this following address http://localhost:9000/lab\n",
    "\n",
    "- Check that your HDFS home directory required to execute MapReduce jobs exists:\n",
    "```bash\n",
    "hdfs dfs -ls /user/${USER}\n",
    "```\n",
    "- Type the following commands: \n",
    "```bash\n",
    "hdfs dfs -ls\n",
    "hdfs dfs -ls /\n",
    "hdfs dfs -mkdir test\n",
    "```\n",
    "- Create a local file user.txt containing your name and the date:"
   ]
  },
  {
   "cell_type": "code",
   "execution_count": 1,
   "metadata": {},
   "outputs": [],
   "source": [
    "# %%bash\n",
    "# echo \"FirstName LastName\" > user.txt\n",
    "# echo `date` >> user.txt \n",
    "# cat user.txt"
   ]
  },
  {
   "cell_type": "markdown",
   "metadata": {
    "slideshow": {
     "slide_type": "slide"
    }
   },
   "source": [
    "Copy it on  HDFS :\n",
    "```bash\n",
    "hdfs dfs -put user.txt\n",
    "```\n",
    "\n",
    "Check with:\n",
    "```bash\n",
    "hdfs dfs -ls -R \n",
    "hdfs dfs -cat user.txt \n",
    "hdfs dfs -tail user.txt \n",
    "```"
   ]
  },
  {
   "cell_type": "code",
   "execution_count": 2,
   "metadata": {},
   "outputs": [],
   "source": [
    "# %%bash\n",
    "# hdfs dfs -put user.txt\n",
    "# hdfs dfs -ls -R /user/navaro_p/"
   ]
  },
  {
   "cell_type": "code",
   "execution_count": 3,
   "metadata": {},
   "outputs": [],
   "source": [
    "# %%bash\n",
    "# hdfs dfs -cat user.txt"
   ]
  },
  {
   "cell_type": "markdown",
   "metadata": {
    "slideshow": {
     "slide_type": "slide"
    }
   },
   "source": [
    "Remove the file:\n",
    "```bash\n",
    "hdfs dfs -rm user.txt\n",
    "```\n",
    "\n",
    "Put it again on HDFS and move to books directory:\n",
    "```bash\n",
    "hdfs dfs -copyFromLocal user.txt\n",
    "hdfs dfs -mv user.txt books/user.txt\n",
    "hdfs dfs -ls -R -h\n",
    "```\n",
    "\n",
    "Copy user.txt to hello.txt and remove it.\n",
    "```bash\n",
    "hdfs dfs -cp books/user.txt books/hello.txt\n",
    "hdfs dfs -count -h /user/$USER\n",
    "hdfs dfs -rm books/user.txt\n",
    "```"
   ]
  },
  {
   "cell_type": "markdown",
   "metadata": {},
   "source": [
    "## Hands-on practice:\n",
    "\n",
    "1. Create a directory `files` in HDFS.\n",
    "2. List the contents of a directory /.\n",
    "3. Upload the file today.txt in HDFS.\n",
    "```bash\n",
    "date > today.txt\n",
    "whoami >> today.txt\n",
    "```\n",
    "4. Display contents of file `today.txt`\n",
    "5. Copy `today.txt` file from source to `files` directory.\n",
    "6. Copy file `jps.txt` from/To Local file system to HDFS\n",
    "```bash\n",
    "jps > jps.txt\n",
    "```\n",
    "7. Move file `jps.txt` from source to `files`.\n",
    "8. Remove file `today.txt` from home directory in HDFS.\n",
    "9. Display last few lines of `jps.txt`.\n",
    "10. Display the help of `du` command and show the total amount of space in a human-readable fashion used by your home hdfs directory.\n",
    "12. Display the help of `df` command and show the total amount of space available in the filesystem in a human-readable fashion.\n",
    "13. With `chmod` change the rights of `today.txt` file. I has to be readable and writeable only by you."
   ]
  },
  {
   "cell_type": "markdown",
   "metadata": {
    "slideshow": {
     "slide_type": "slide"
    }
   },
   "source": [
    "## YARN\n",
    "\n",
    "*YARN takes care of resource management and job scheduling/monitoring.*\n",
    "\n",
    "- The **ResourceManager** is the ultimate authority that arbitrates resources among all the applications in the system. It has two components: **Scheduler** and **ApplicationsManager**.\n",
    "- The **NodeManager** is the per-machine framework agent who is responsible for **Containers**, monitoring their resource usage (cpu, memory, disk, network) and reporting the same to the **ResourceManager/Scheduler**.\n",
    "\n",
    "The per-application **ApplicationMaster** negotiates resources from the ResourceManager and working with the NodeManager(s) to execute and monitor the tasks.\n",
    "\n",
    "- The **Scheduler** is responsible for allocating resources to the applications.\n",
    "\n",
    "- The **ApplicationsManager** is responsible for accepting job-submissions, tracking their status and monitoring for progress.\n",
    "\n"
   ]
  },
  {
   "cell_type": "markdown",
   "metadata": {
    "slideshow": {
     "slide_type": "slide"
    }
   },
   "source": [
    "![Yarn in Hadoop documentation](images/yarn_architecture.png)\n",
    "Source: http://hadoop.apache.org/docs/stable/hadoop-yarn/hadoop-yarn-site/yarn_architecture.gif"
   ]
  },
  {
   "cell_type": "markdown",
   "metadata": {
    "slideshow": {
     "slide_type": "slide"
    }
   },
   "source": [
    "### Yarn Web Interface\n",
    "\n",
    "The JobTracker web UI provides information about general job statistics of the Hadoop cluster, running/completed/failed jobs and a job history log file. It also gives access to the ‘‘local machine’s’’ Hadoop log files (the machine on which the web UI is running on).\n",
    "\n",
    " - All Applications http://svmass2.mass.uhb.fr:8088\n",
    " "
   ]
  },
  {
   "cell_type": "markdown",
   "metadata": {
    "slideshow": {
     "slide_type": "slide"
    }
   },
   "source": [
    "## WordCount Example \n",
    "\n",
    "The [Worcount example](https://wiki.apache.org/hadoop/WordCount) is implemented in Java and it is the example of [Hadoop MapReduce Tutorial](https://hadoop.apache.org/docs/current/hadoop-mapreduce-client/hadoop-mapreduce-client-core/MapReduceTutorial.html)\n",
    "\n",
    "Let's create some files with lorem python package"
   ]
  },
  {
   "cell_type": "code",
   "execution_count": 2,
   "metadata": {
    "slideshow": {
     "slide_type": "slide"
    }
   },
   "outputs": [],
   "source": [
    "from lorem import text\n",
    "\n",
    "for i in range(1,10):\n",
    "    with open('sample{0:02d}.txt'.format(i), 'w') as f:\n",
    "        f.write(text())"
   ]
  },
  {
   "cell_type": "markdown",
   "metadata": {
    "slideshow": {
     "slide_type": "slide"
    }
   },
   "source": [
    "- Make input directory in your HDFS home directory required to execute MapReduce jobs:\n",
    "```bash\n",
    "hdfs dfs -mkdir -p /user/${USER}/input\n",
    "```\n",
    "\n",
    "`-p` flag force the directory creation even if it already exists."
   ]
  },
  {
   "cell_type": "markdown",
   "metadata": {
    "slideshow": {
     "slide_type": "slide"
    }
   },
   "source": [
    "### Exercise\n",
    "\n",
    "- Copy all necessary files in HDFS system.\n",
    "- Run the Java example using the command\n",
    "\n",
    "```bash\n",
    "hadoop jar /export/hadoop-2.7.6/share/hadoop/mapreduce/hadoop-mapreduce-examples-2.7.6.jar wordcount /user/you/input /user/you/output\n",
    "```\n",
    "\n",
    "- Remove the output directory and try to use yarn\n",
    "\n",
    "```bash\n",
    "yarn jar /export/hadoop-2.7.6/share/hadoop/mapreduce/hadoop-mapreduce-examples-2.7.6.jar wordcount /user/you/input /user/you/output\n",
    "```\n",
    "\n",
    "- Connect to the [Yarn web user interface](http://svmass2.mass.uhb.fr:8088/cluster) and read the logs carefully."
   ]
  },
  {
   "cell_type": "markdown",
   "metadata": {
    "collapsed": true,
    "slideshow": {
     "slide_type": "slide"
    }
   },
   "source": [
    "\n",
    "## Deploying the MapReduce Python code on Hadoop\n",
    "\n",
    "This Python must use the [Hadoop Streaming API](http://hadoop.apache.org/docs/stable/hadoop-streaming/HadoopStreaming.html) to pass data between our Map and Reduce code via Python’s sys.stdin (standard input) and sys.stdout (standard output). \n",
    "\n"
   ]
  },
  {
   "cell_type": "markdown",
   "metadata": {
    "slideshow": {
     "slide_type": "slide"
    }
   },
   "source": [
    "## Map \n",
    "\n",
    "The following Python code read data from sys.stdin, split it into words and output a list of lines mapping words to their (intermediate) counts to sys.stdout. For every word it outputs <word> 1 tuples immediately. \n",
    "\n"
   ]
  },
  {
   "cell_type": "code",
   "execution_count": 10,
   "metadata": {
    "slideshow": {
     "slide_type": "slide"
    }
   },
   "outputs": [
    {
     "name": "stdout",
     "output_type": "stream",
     "text": [
      "Overwriting mapper.py\n"
     ]
    }
   ],
   "source": [
    "%%file mapper.py\n",
    "\n",
    "from __future__ import print_function # for python2 compatibility\n",
    "import sys, string\n",
    "translator = str.maketrans('', '', string.punctuation)\n",
    "# input comes from standard input\n",
    "for line in sys.stdin:\n",
    "    line = line.strip().lower() # remove leading and trailing whitespace\n",
    "    line = line.translate(translator)   # strip punctuation \n",
    "    for word in line.split(): # split the line into words\n",
    "        # write the results to standard output;\n",
    "        # what we output here will be the input for the\n",
    "        # Reduce step, i.e. the input for reducer.py\n",
    "        # tab-delimited; the trivial word count is 1\n",
    "        print (f'{word}\\t 1')"
   ]
  },
  {
   "cell_type": "code",
   "execution_count": 12,
   "metadata": {},
   "outputs": [],
   "source": [
    "import sys\n",
    "with open(\"mapper.py\", \"r+\") as f: \n",
    "    s = f.read()\n",
    "    f.seek(0)\n",
    "    f.write(\"#!\"+sys.executable+\"\\n\" + s)\n",
    "\n"
   ]
  },
  {
   "cell_type": "markdown",
   "metadata": {
    "collapsed": true,
    "slideshow": {
     "slide_type": "slide"
    }
   },
   "source": [
    "The python script must be executable:\n",
    "    \n",
    "```bash\n",
    "chmod +x mapper.py \n",
    "```\n",
    "\n",
    "Try to run in a terminal with:\n",
    "```bash\n",
    "cat sample01.txt | ./mapper.py | sort\n",
    "```\n",
    "or\n",
    "```bash\n",
    "./mapper.py < sample01.txt | sort\n",
    "```"
   ]
  },
  {
   "cell_type": "code",
   "execution_count": 13,
   "metadata": {},
   "outputs": [
    {
     "name": "stdout",
     "output_type": "stream",
     "text": [
      "adipisci\t 1\n",
      "adipisci\t 1\n",
      "adipisci\t 1\n",
      "adipisci\t 1\n",
      "adipisci\t 1\n",
      "adipisci\t 1\n",
      "adipisci\t 1\n",
      "aliquam\t 1\n",
      "aliquam\t 1\n",
      "aliquam\t 1\n",
      "aliquam\t 1\n",
      "aliquam\t 1\n",
      "amet\t 1\n",
      "amet\t 1\n",
      "amet\t 1\n",
      "amet\t 1\n",
      "amet\t 1\n",
      "amet\t 1\n",
      "amet\t 1\n",
      "amet\t 1\n",
      "amet\t 1\n",
      "amet\t 1\n",
      "amet\t 1\n",
      "amet\t 1\n",
      "amet\t 1\n",
      "amet\t 1\n",
      "consectetur\t 1\n",
      "consectetur\t 1\n",
      "consectetur\t 1\n",
      "consectetur\t 1\n",
      "consectetur\t 1\n",
      "consectetur\t 1\n",
      "consectetur\t 1\n",
      "consectetur\t 1\n",
      "consectetur\t 1\n",
      "consectetur\t 1\n",
      "consectetur\t 1\n",
      "consectetur\t 1\n",
      "consectetur\t 1\n",
      "dolor\t 1\n",
      "dolor\t 1\n",
      "dolor\t 1\n",
      "dolor\t 1\n",
      "dolor\t 1\n",
      "dolor\t 1\n",
      "dolor\t 1\n",
      "dolor\t 1\n",
      "dolore\t 1\n",
      "dolore\t 1\n",
      "dolore\t 1\n",
      "dolore\t 1\n",
      "dolore\t 1\n",
      "dolore\t 1\n",
      "dolore\t 1\n",
      "dolore\t 1\n",
      "dolore\t 1\n",
      "dolore\t 1\n",
      "dolorem\t 1\n",
      "dolorem\t 1\n",
      "dolorem\t 1\n",
      "dolorem\t 1\n",
      "dolorem\t 1\n",
      "dolorem\t 1\n",
      "dolorem\t 1\n",
      "eius\t 1\n",
      "eius\t 1\n",
      "eius\t 1\n",
      "eius\t 1\n",
      "eius\t 1\n",
      "eius\t 1\n",
      "eius\t 1\n",
      "est\t 1\n",
      "est\t 1\n",
      "est\t 1\n",
      "est\t 1\n",
      "est\t 1\n",
      "est\t 1\n",
      "est\t 1\n",
      "est\t 1\n",
      "est\t 1\n",
      "etincidunt\t 1\n",
      "etincidunt\t 1\n",
      "etincidunt\t 1\n",
      "etincidunt\t 1\n",
      "etincidunt\t 1\n",
      "etincidunt\t 1\n",
      "etincidunt\t 1\n",
      "etincidunt\t 1\n",
      "etincidunt\t 1\n",
      "etincidunt\t 1\n",
      "etincidunt\t 1\n",
      "etincidunt\t 1\n",
      "etincidunt\t 1\n",
      "ipsum\t 1\n",
      "ipsum\t 1\n",
      "ipsum\t 1\n",
      "ipsum\t 1\n",
      "ipsum\t 1\n",
      "ipsum\t 1\n",
      "labore\t 1\n",
      "labore\t 1\n",
      "labore\t 1\n",
      "labore\t 1\n",
      "labore\t 1\n",
      "labore\t 1\n",
      "labore\t 1\n",
      "magnam\t 1\n",
      "magnam\t 1\n",
      "magnam\t 1\n",
      "magnam\t 1\n",
      "magnam\t 1\n",
      "magnam\t 1\n",
      "magnam\t 1\n",
      "magnam\t 1\n",
      "magnam\t 1\n",
      "magnam\t 1\n",
      "magnam\t 1\n",
      "modi\t 1\n",
      "modi\t 1\n",
      "modi\t 1\n",
      "modi\t 1\n",
      "modi\t 1\n",
      "modi\t 1\n",
      "modi\t 1\n",
      "modi\t 1\n",
      "modi\t 1\n",
      "modi\t 1\n",
      "modi\t 1\n",
      "neque\t 1\n",
      "neque\t 1\n",
      "neque\t 1\n",
      "neque\t 1\n",
      "neque\t 1\n",
      "neque\t 1\n",
      "neque\t 1\n",
      "non\t 1\n",
      "non\t 1\n",
      "non\t 1\n",
      "non\t 1\n",
      "non\t 1\n",
      "non\t 1\n",
      "non\t 1\n",
      "non\t 1\n",
      "non\t 1\n",
      "numquam\t 1\n",
      "numquam\t 1\n",
      "numquam\t 1\n",
      "numquam\t 1\n",
      "numquam\t 1\n",
      "numquam\t 1\n",
      "numquam\t 1\n",
      "numquam\t 1\n",
      "numquam\t 1\n",
      "numquam\t 1\n",
      "porro\t 1\n",
      "porro\t 1\n",
      "porro\t 1\n",
      "porro\t 1\n",
      "quaerat\t 1\n",
      "quaerat\t 1\n",
      "quaerat\t 1\n",
      "quaerat\t 1\n",
      "quaerat\t 1\n",
      "quaerat\t 1\n",
      "quaerat\t 1\n",
      "quaerat\t 1\n",
      "quaerat\t 1\n",
      "quaerat\t 1\n",
      "quaerat\t 1\n",
      "quiquia\t 1\n",
      "quiquia\t 1\n",
      "quiquia\t 1\n",
      "quiquia\t 1\n",
      "quiquia\t 1\n",
      "quiquia\t 1\n",
      "quiquia\t 1\n",
      "quisquam\t 1\n",
      "quisquam\t 1\n",
      "quisquam\t 1\n",
      "quisquam\t 1\n",
      "quisquam\t 1\n",
      "quisquam\t 1\n",
      "quisquam\t 1\n",
      "quisquam\t 1\n",
      "quisquam\t 1\n",
      "quisquam\t 1\n",
      "quisquam\t 1\n",
      "sed\t 1\n",
      "sed\t 1\n",
      "sed\t 1\n",
      "sed\t 1\n",
      "sed\t 1\n",
      "sed\t 1\n",
      "sed\t 1\n",
      "sed\t 1\n",
      "sed\t 1\n",
      "sed\t 1\n",
      "sit\t 1\n",
      "sit\t 1\n",
      "sit\t 1\n",
      "sit\t 1\n",
      "sit\t 1\n",
      "sit\t 1\n",
      "sit\t 1\n",
      "sit\t 1\n",
      "tempora\t 1\n",
      "tempora\t 1\n",
      "tempora\t 1\n",
      "tempora\t 1\n",
      "tempora\t 1\n",
      "tempora\t 1\n",
      "tempora\t 1\n",
      "tempora\t 1\n",
      "tempora\t 1\n",
      "tempora\t 1\n",
      "tempora\t 1\n",
      "tempora\t 1\n",
      "ut\t 1\n",
      "ut\t 1\n",
      "ut\t 1\n",
      "ut\t 1\n",
      "ut\t 1\n",
      "ut\t 1\n",
      "ut\t 1\n",
      "ut\t 1\n",
      "ut\t 1\n",
      "ut\t 1\n",
      "ut\t 1\n",
      "ut\t 1\n",
      "velit\t 1\n",
      "velit\t 1\n",
      "velit\t 1\n",
      "velit\t 1\n",
      "velit\t 1\n",
      "velit\t 1\n",
      "velit\t 1\n",
      "velit\t 1\n",
      "velit\t 1\n",
      "velit\t 1\n",
      "velit\t 1\n",
      "velit\t 1\n",
      "velit\t 1\n",
      "voluptatem\t 1\n",
      "voluptatem\t 1\n",
      "voluptatem\t 1\n",
      "voluptatem\t 1\n",
      "voluptatem\t 1\n",
      "voluptatem\t 1\n",
      "voluptatem\t 1\n",
      "voluptatem\t 1\n",
      "voluptatem\t 1\n",
      "voluptatem\t 1\n"
     ]
    }
   ],
   "source": [
    "# %%bash\n",
    "# chmod +x mapper.py\n",
    "# cat sample01.txt | ./mapper.py | sort"
   ]
  },
  {
   "cell_type": "markdown",
   "metadata": {
    "slideshow": {
     "slide_type": "slide"
    }
   },
   "source": [
    "## Reduce \n",
    "\n",
    "The following code reads the results of mapper.py and sum the occurrences of each word to a final count, and then output its results to sys.stdout.\n",
    "Remember that Hadoop sorts map output so it is easier to count words.\n",
    "\n"
   ]
  },
  {
   "cell_type": "code",
   "execution_count": 15,
   "metadata": {
    "slideshow": {
     "slide_type": "slide"
    }
   },
   "outputs": [
    {
     "name": "stdout",
     "output_type": "stream",
     "text": [
      "Overwriting reducer.py\n"
     ]
    }
   ],
   "source": [
    "%%file reducer.py\n",
    "from __future__ import print_function\n",
    "from operator import itemgetter\n",
    "import sys\n",
    "\n",
    "current_word = None\n",
    "current_count = 0\n",
    "word = None\n",
    "\n",
    "for line in sys.stdin:\n",
    "    \n",
    "    # parse the input we got from mapper.py\n",
    "    word, count = line.split('\\t', 1)\n",
    "\n",
    "    # convert count (currently a string) to int\n",
    "    try:\n",
    "        count = int(count)\n",
    "    except ValueError:\n",
    "        # count was not a number, so silently\n",
    "        # ignore/discard this line\n",
    "        continue\n",
    "\n",
    "    # this IF-switch only works because Hadoop sorts map output\n",
    "    # by key (here: word) before it is passed to the reducer\n",
    "    if current_word == word:\n",
    "        current_count += count\n",
    "    else:\n",
    "        if current_word:\n",
    "            # write result to sys.stdout\n",
    "            print (f'{current_count}\\t{current_word}')\n",
    "        current_count = count\n",
    "        current_word = word\n",
    "\n",
    "# do not forget to output the last word if needed!\n",
    "if current_word == word:\n",
    "    print (f'{current_count}\\t{current_word}')"
   ]
  },
  {
   "cell_type": "code",
   "execution_count": 17,
   "metadata": {},
   "outputs": [],
   "source": [
    "import sys\n",
    "with open(\"reducer.py\", \"r+\") as f: \n",
    "    s = f.read()\n",
    "    f.seek(0)\n",
    "    f.write(\"#!\"+sys.executable+\"\\n\" + s)\n",
    "\n"
   ]
  },
  {
   "cell_type": "markdown",
   "metadata": {
    "collapsed": true,
    "slideshow": {
     "slide_type": "slide"
    }
   },
   "source": [
    "As mapper the python script must be executable:\n",
    "    \n",
    "```bash\n",
    "chmod +x reducer.py \n",
    "```\n",
    "\n",
    "Try to run in a terminal with:\n",
    "```bash\n",
    "cat sample.txt | ./mapper.py | sort | ./reducer.py | sort\n",
    "```\n",
    "or\n",
    "```bash\n",
    "./mapper.py < sample01.txt | sort | ./reducer.py | sort\n",
    "```\n"
   ]
  },
  {
   "cell_type": "code",
   "execution_count": 18,
   "metadata": {},
   "outputs": [
    {
     "name": "stdout",
     "output_type": "stream",
     "text": [
      "10\tdolore\n",
      "10\tnumquam\n",
      "10\tsed\n",
      "10\tvoluptatem\n",
      "11\tmagnam\n",
      "11\tmodi\n",
      "11\tquaerat\n",
      "11\tquisquam\n",
      "12\ttempora\n",
      "12\tut\n",
      "13\tconsectetur\n",
      "13\tetincidunt\n",
      "13\tvelit\n",
      "14\tamet\n",
      "4\tporro\n",
      "5\taliquam\n",
      "6\tipsum\n",
      "7\tadipisci\n",
      "7\tdolorem\n",
      "7\teius\n",
      "7\tlabore\n",
      "7\tneque\n",
      "7\tquiquia\n",
      "8\tdolor\n",
      "8\tsit\n",
      "9\test\n",
      "9\tnon\n"
     ]
    }
   ],
   "source": [
    "# %%bash\n",
    "# chmod +x reducer.py \n",
    "# ./mapper.py < sample01.txt | sort | ./reducer.py | sort"
   ]
  },
  {
   "cell_type": "markdown",
   "metadata": {
    "slideshow": {
     "slide_type": "slide"
    }
   },
   "source": [
    "## Execution on Hadoop cluster\n",
    "\n",
    "* Copy all files to HDFS cluster\n",
    "* Run the WordCount MapReduce"
   ]
  },
  {
   "cell_type": "code",
   "execution_count": 19,
   "metadata": {
    "slideshow": {
     "slide_type": "slide"
    }
   },
   "outputs": [
    {
     "name": "stdout",
     "output_type": "stream",
     "text": [
      "Writing Makefile\n"
     ]
    }
   ],
   "source": [
    "%%file Makefile\n",
    "\n",
    "HADOOP_VERSION=2.7.6\n",
    "HADOOP_HOME=/export/hadoop-${HADOOP_VERSION}\n",
    "HADOOP_TOOLS=${HADOOP_HOME}/share/hadoop/tools/lib\n",
    "HDFS_DIR=/user/${USER}\n",
    " \n",
    "SAMPLES = sample01.txt sample02.txt sample03.txt sample04.txt\n",
    "\n",
    "copy_to_hdfs: ${SAMPLES}\n",
    "\thdfs dfs -mkdir -p ${HDFS_DIR}/input\n",
    "\thdfs dfs -put $^ ${HDFS_DIR}/input\n",
    "\n",
    "run_with_hadoop: \n",
    "\thadoop jar ${HADOOP_TOOLS}/hadoop-streaming-${HADOOP_VERSION}.jar \\\n",
    "    -file  ${PWD}/mapper.py  -mapper  ${PWD}/mapper.py \\\n",
    "    -file  ${PWD}/reducer.py -reducer ${PWD}/reducer.py \\\n",
    "    -input ${HDFS_DIR}/input/*.txt -output ${HDFS_DIR}/output-hadoop\n",
    "\n",
    "run_with_yarn: \n",
    "\tyarn jar ${HADOOP_TOOLS}/hadoop-streaming-${HADOOP_VERSION}.jar \\\n",
    "\t-file  ${PWD}/mapper.py  -mapper  ${PWD}/mapper.py \\\n",
    "\t-file  ${PWD}/reducer.py -reducer ${PWD}/reducer.py \\\n",
    "\t-input ${HDFS_DIR}/input/*.txt -output ${HDFS_DIR}/output-yarn\n"
   ]
  },
  {
   "cell_type": "code",
   "execution_count": 20,
   "metadata": {},
   "outputs": [],
   "source": [
    "# %%bash\n",
    "# hdfs dfs -rm -r input\n",
    "# make copy_to_hdfs\n",
    "# hdfs dfs -ls input"
   ]
  },
  {
   "cell_type": "code",
   "execution_count": 22,
   "metadata": {},
   "outputs": [],
   "source": [
    "# %%bash\n",
    "# hdfs dfs -rm -r -f output-hadoop\n",
    "# make run_with_hadoop\n",
    "# hdfs dfs -cat output-hadoop/*"
   ]
  }
 ],
 "metadata": {
  "kernelspec": {
   "display_name": "big-data",
   "language": "python",
   "name": "big-data"
  },
  "language_info": {
   "codemirror_mode": {
    "name": "ipython",
    "version": 3
   },
   "file_extension": ".py",
   "mimetype": "text/x-python",
   "name": "python",
   "nbconvert_exporter": "python",
   "pygments_lexer": "ipython3",
   "version": "3.8.5"
  }
 },
 "nbformat": 4,
 "nbformat_minor": 2
}
